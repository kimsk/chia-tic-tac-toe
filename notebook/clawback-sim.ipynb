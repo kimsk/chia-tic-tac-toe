{
 "cells": [
  {
   "cell_type": "code",
   "execution_count": 1,
   "id": "563a2674-d69d-4075-bad6-deb6ee37fafe",
   "metadata": {},
   "outputs": [
    {
     "name": "stdout",
     "output_type": "stream",
     "text": [
      "1.6.1b4.dev15\n",
      "cdv, version 1.1.2\n",
      "Python 3.10.7\n"
     ]
    }
   ],
   "source": [
    "%%bash\n",
    "chia version\n",
    "cdv --version\n",
    "python --version"
   ]
  },
  {
   "cell_type": "code",
   "execution_count": 2,
   "id": "cf31e6e6-1153-4ad8-9d0a-24f518c5fa15",
   "metadata": {},
   "outputs": [],
   "source": [
    "# chia libraries\n",
    "from blspy import (PrivateKey, AugSchemeMPL, G2Element)\n",
    "\n",
    "from chia.consensus.default_constants import DEFAULT_CONSTANTS\n",
    "from chia.types.blockchain_format.coin import Coin\n",
    "from chia.types.blockchain_format.program import Program\n",
    "from chia.types.coin_spend import CoinSpend\n",
    "from chia.types.condition_opcodes import ConditionOpcode\n",
    "from chia.types.spend_bundle import SpendBundle\n",
    "from chia.util.hash import std_hash\n",
    "from chia.wallet.puzzles import p2_delegated_puzzle_or_hidden_puzzle\n",
    "\n",
    "from clvm.casts import int_to_bytes\n",
    "from clvm_tools.clvmc import compile_clvm_text\n",
    "from clvm_tools.binutils import disassemble\n",
    "\n",
    "# utils & tic tac toe helper code\n",
    "import sys\n",
    "sys.path.insert(0, \"../code\")\n",
    "from utils import (load_program, print_program, print_puzzle, print_json, print_push_tx_result)\n",
    "import singleton_utils\n",
    "import tic_tac_toe\n",
    "\n",
    "# puzzles\n",
    "tic_tac_toe_puzzle = load_program(\"../code/tic-tac-toe.clsp\", [\"../code\"])\n",
    "coin_puzzle = load_program(\"../code/coin.clsp\", [\"../code\"])\n",
    "terminate_puzzle = load_program(\"../code/terminate-game.clsp\", [\"../code\"])\n",
    "\n",
    "waiting_room_puzzle = load_program(\"../code/waiting-room.clsp\", [\"../code\"])\n",
    "play_amount = 1_000_000_000_000\n",
    "game_amount = (play_amount * 2) + 1 # singleton odd mojos"
   ]
  },
  {
   "cell_type": "code",
   "execution_count": 3,
   "id": "a4669521-ed79-42d8-9e40-4c41ad95bbf3",
   "metadata": {},
   "outputs": [
    {
     "name": "stdout",
     "output_type": "stream",
     "text": [
      "alice balance:\t\t2000000000000\n",
      "alice pk:\t\taba7ed288dd79189bec34698a3437fa7a45f801596d397a4f70081a0956dcdbe998388bfa758f4d49fa421ce3850a6d8\n",
      "alice puzzle hash:\t4f45877796d7a64e192bcc9f899afeedae391f71af3afd7e15a0792c049d23d3\n",
      "bob balance:\t\t2000000000000\n",
      "alice pk:\t\taba7ed288dd79189bec34698a3437fa7a45f801596d397a4f70081a0956dcdbe998388bfa758f4d49fa421ce3850a6d8\n",
      "bob puzzle hash:\t87908e3f85bf4b55c7e7709915c2ce97a1e6ec1d227e54a04dbfee6862d546a5\n"
     ]
    }
   ],
   "source": [
    "from cdv.test import Network, Wallet\n",
    "\n",
    "network: Network = await Network.create()\n",
    "\n",
    "# use as function parameters\n",
    "get_coin_records_by_parent_ids = network.sim_client.get_coin_records_by_parent_ids\n",
    "get_coin_records_by_puzzle_hash = network.sim_client.get_coin_records_by_puzzle_hash\n",
    "get_coin_record_by_name = network.sim_client.get_coin_record_by_name\n",
    "get_puzzle_and_solution = network.sim_client.get_puzzle_and_solution        \n",
    "get_block_records = network.sim_client.get_block_records\n",
    "get_additions_and_removals = network.sim_client.get_additions_and_removals\n",
    "\n",
    "await network.farm_block()\n",
    "\n",
    "alice: Wallet = network.make_wallet(\"alice\")\n",
    "bob: Wallet = network.make_wallet(\"bob\")\n",
    "await network.farm_block(farmer=alice)\n",
    "await network.farm_block(farmer=bob)\n",
    "\n",
    "print(f'alice balance:\\t\\t{alice.balance()}')\n",
    "print(f'alice pk:\\t\\t{alice.pk()}')\n",
    "print(f'alice puzzle hash:\\t{alice.puzzle_hash}')\n",
    "print(f'bob balance:\\t\\t{bob.balance()}')\n",
    "print(f'alice pk:\\t\\t{alice.pk()}')\n",
    "print(f'bob puzzle hash:\\t{bob.puzzle_hash}')\n",
    "\n",
    "# prepare players info\n",
    "player_one_info = Program.to([alice.pk(), alice.puzzle_hash])\n",
    "player_two_info = Program.to([bob.pk(), bob.puzzle_hash])\n",
    "\n",
    "alice_sk = alice.sk_\n",
    "alice_pk = alice.pk()\n",
    "alice_puzzle_hash = alice.puzzle_hash\n",
    "bob_sk = bob.sk_\n",
    "bob_pk = bob.pk()\n",
    "bob_puzzle_hash = bob.puzzle_hash"
   ]
  },
  {
   "cell_type": "code",
   "execution_count": 4,
   "id": "880f236d-37bc-41b7-acff-614f00a700ee",
   "metadata": {},
   "outputs": [
    {
     "name": "stdout",
     "output_type": "stream",
     "text": [
      "(a (q 2 (q 2 (i 383 (q 2 30 (c 2 (c 11 (c 23 (c 47 (c -65 (c 383 ()))))))) (q 4 (c 20 (c 28 ())) (c (c 18 (c 5 (c 95 ()))) (c (c 16 (c (a (i 47 (q . 23) (q . 11)) 1) (c (sha256 5 95) ()))) ())))) 1) (c (q ((50 . 61) 82 . 100) (51 . 60) 0xeff07522495060c066f66f32acc2a77e3a3e737aca8baea4d1a64ea4cdc13da9 2 (i 23 (q 4 (c 24 (c (sha256 23 95) ())) ()) (q 4 (c 18 (c 22 (c 47 ()))) (c (c 24 (c 95 ())) (c (c 26 (c 95 ())) (c (c 16 (c 5 (c 95 ()))) ()))))) 1) 1)) (c (q . 0x4f45877796d7a64e192bcc9f899afeedae391f71af3afd7e15a0792c049d23d3) (c (q . 0xaba7ed288dd79189bec34698a3437fa7a45f801596d397a4f70081a0956dcdbe998388bfa758f4d49fa421ce3850a6d8) (c (q . 0xb01da35fe872b5c9c342d2a3ac6dfbe800eaf35c687a512a172d329f3bd10a83e675018a90a36178c81c0687b49d167f) (c (q) (c (q . 0x00e8d4a51000) (c (q . 0x01d1a94a2001) 1)))))))\n",
      "\n",
      "puzzle hash: 4fef5d120ed637afed882f830fa800b97c3b6d5cb31acff9ec68f95dd51f7653\n",
      "address: txch1flh46ysw6cm6lmvg97psl2qqh97rkm2ukvdvl70vdru4m4glwefsh7yyt6\n"
     ]
    }
   ],
   "source": [
    "from chia.util.bech32m import encode_puzzle_hash\n",
    "## alice\n",
    "alice_waiting_room_puzzle = waiting_room_puzzle.curry(\n",
    "    alice_puzzle_hash,\n",
    "    alice_pk, \n",
    "    bob_pk,\n",
    "    0, # P1_COIN_ID is null\n",
    "    play_amount,\n",
    "    game_amount\n",
    ")\n",
    "print_program(alice_waiting_room_puzzle)\n",
    "\n",
    "alice_waiting_room_puzzle_hash = alice_waiting_room_puzzle.get_tree_hash()\n",
    "print(f'\\npuzzle hash: {alice_waiting_room_puzzle_hash.hex()}')\n",
    "alice_waiting_room_address = encode_puzzle_hash(alice_waiting_room_puzzle_hash, \"txch\")\n",
    "print(f'address: {alice_waiting_room_address}')"
   ]
  },
  {
   "cell_type": "code",
   "execution_count": 5,
   "id": "39a51f9b-3e1e-44f1-a85b-6accc7bbf1e2",
   "metadata": {},
   "outputs": [
    {
     "name": "stdout",
     "output_type": "stream",
     "text": [
      "{\n",
      "    \"coin\": {\n",
      "        \"amount\": 1750000000000,\n",
      "        \"parent_coin_info\": \"0xe3b0c44298fc1c149afbf4c8996fb92400000000000000000000000000000001\",\n",
      "        \"puzzle_hash\": \"0x4f45877796d7a64e192bcc9f899afeedae391f71af3afd7e15a0792c049d23d3\"\n",
      "    },\n",
      "    \"puzzle_reveal\": \"0xff02ffff01ff02ffff01ff02ffff03ff0bffff01ff02ffff03ffff09ff05ffff1dff0bffff1effff0bff0bffff02ff06ffff04ff02ffff04ff17ff8080808080808080ffff01ff02ff17ff2f80ffff01ff088080ff0180ffff01ff04ffff04ff04ffff04ff05ffff04ffff02ff06ffff04ff02ffff04ff17ff80808080ff80808080ffff02ff17ff2f808080ff0180ffff04ffff01ff32ff02ffff03ffff07ff0580ffff01ff0bffff0102ffff02ff06ffff04ff02ffff04ff09ff80808080ffff02ff06ffff04ff02ffff04ff0dff8080808080ffff01ff0bffff0101ff058080ff0180ff018080ffff04ffff01b0a042c855d234578415254b7870b711fb25e8f85beaa4a66bd0673d394c761fa156406c2e3bb375d5b18766d2a12cc918ff018080\",\n",
      "    \"solution\": \"0xff80ffff01ffff33ffa04fef5d120ed637afed882f830fa800b97c3b6d5cb31acff9ec68f95dd51f7653ff8600e8d4a5100180ffff33ffa04f45877796d7a64e192bcc9f899afeedae391f71af3afd7e15a0792c049d23d3ff8600ae9f7bcbff8080ff8080\"\n",
      "}\n",
      "97fae21296c4ceea3a3eb9395afc781c19c650c758d7905f91145c0aeaeab33e02203697ede141c544d9fb2e6ae9c464159466ac70b9d980521ce774e64120c0d4991fee3606afab57691beb4c3f3478d4ac35ef49f261c93631bd64a494ab68\n"
     ]
    }
   ],
   "source": [
    "# alice's coin creates a waiting room coin\n",
    "alice_coin_wrapper = await alice.choose_coin(1_750_000_000_000)\n",
    "alice_conditions = [\n",
    "    [\n",
    "        ConditionOpcode.CREATE_COIN,\n",
    "        alice_waiting_room_puzzle_hash,\n",
    "        play_amount + 1\n",
    "    ],\n",
    "    \n",
    "    # change\n",
    "    [\n",
    "        ConditionOpcode.CREATE_COIN, \n",
    "        alice.puzzle_hash, \n",
    "        alice_coin_wrapper.coin.amount - (play_amount + 1)\n",
    "    ]\n",
    "]\n",
    "\n",
    "coin_spend, signature = alice_coin_wrapper.create_standard_spend(alice_sk, alice_conditions)\n",
    "print_json(coin_spend.to_json_dict())\n",
    "print(signature)"
   ]
  },
  {
   "cell_type": "code",
   "execution_count": 6,
   "id": "12b8a0db-223b-4278-b3fe-266a2dd0c854",
   "metadata": {},
   "outputs": [],
   "source": [
    "from chia.util.bech32m import encode_puzzle_hash\n",
    "## alice\n",
    "alice_waiting_room_puzzle = waiting_room_puzzle.curry(\n",
    "    alice_puzzle_hash,\n",
    "    alice_pk, \n",
    "    bob_pk,\n",
    "    0, # P1_COIN_ID is null\n",
    "    play_amount,\n",
    "    game_amount\n",
    ")\n",
    "alice_waiting_room_puzzle_hash = alice_waiting_room_puzzle.get_tree_hash()"
   ]
  },
  {
   "cell_type": "code",
   "execution_count": 7,
   "id": "75f9bed8-7b12-43d9-a9d7-c89b4762971e",
   "metadata": {},
   "outputs": [
    {
     "name": "stdout",
     "output_type": "stream",
     "text": [
      "{\n",
      "    \"coin\": {\n",
      "        \"amount\": 1750000000000,\n",
      "        \"parent_coin_info\": \"0xe3b0c44298fc1c149afbf4c8996fb92400000000000000000000000000000001\",\n",
      "        \"puzzle_hash\": \"0x4f45877796d7a64e192bcc9f899afeedae391f71af3afd7e15a0792c049d23d3\"\n",
      "    },\n",
      "    \"puzzle_reveal\": \"0xff02ffff01ff02ffff01ff02ffff03ff0bffff01ff02ffff03ffff09ff05ffff1dff0bffff1effff0bff0bffff02ff06ffff04ff02ffff04ff17ff8080808080808080ffff01ff02ff17ff2f80ffff01ff088080ff0180ffff01ff04ffff04ff04ffff04ff05ffff04ffff02ff06ffff04ff02ffff04ff17ff80808080ff80808080ffff02ff17ff2f808080ff0180ffff04ffff01ff32ff02ffff03ffff07ff0580ffff01ff0bffff0102ffff02ff06ffff04ff02ffff04ff09ff80808080ffff02ff06ffff04ff02ffff04ff0dff8080808080ffff01ff0bffff0101ff058080ff0180ff018080ffff04ffff01b0a042c855d234578415254b7870b711fb25e8f85beaa4a66bd0673d394c761fa156406c2e3bb375d5b18766d2a12cc918ff018080\",\n",
      "    \"solution\": \"0xff80ffff01ffff33ffa04fef5d120ed637afed882f830fa800b97c3b6d5cb31acff9ec68f95dd51f7653ff8600e8d4a5100180ffff33ffa04f45877796d7a64e192bcc9f899afeedae391f71af3afd7e15a0792c049d23d3ff8600ae9f7bcbff8080ff8080\"\n",
      "}\n"
     ]
    }
   ],
   "source": [
    "# alice's coin creates a waiting room coin\n",
    "alice_coin_wrapper = await alice.choose_coin(1_750_000_000_000)\n",
    "alice_conditions = [\n",
    "    [\n",
    "        ConditionOpcode.CREATE_COIN,\n",
    "        alice_waiting_room_puzzle_hash,\n",
    "        play_amount + 1\n",
    "    ],\n",
    "    \n",
    "    # change\n",
    "    [\n",
    "        ConditionOpcode.CREATE_COIN, \n",
    "        alice.puzzle_hash, \n",
    "        alice_coin_wrapper.coin.amount - (play_amount + 1)\n",
    "    ]\n",
    "]\n",
    "\n",
    "coin_spend, signature = alice_coin_wrapper.create_standard_spend(alice_sk, alice_conditions)\n",
    "print_json(coin_spend.to_json_dict())"
   ]
  },
  {
   "cell_type": "code",
   "execution_count": 8,
   "id": "f80830b7-311c-4681-b7a6-1c871ffc8fef",
   "metadata": {},
   "outputs": [
    {
     "name": "stdout",
     "output_type": "stream",
     "text": [
      "additions:\n",
      "==========\n",
      "Coin { parent_coin_info: 12d7b8c1654f82f2330059abc28e3240e863450706de7fdc518026f393f68bba, puzzle_hash: 4fef5d120ed637afed882f830fa800b97c3b6d5cb31acff9ec68f95dd51f7653, amount: 1000000000001 }\n",
      "Coin { parent_coin_info: 12d7b8c1654f82f2330059abc28e3240e863450706de7fdc518026f393f68bba, puzzle_hash: 4f45877796d7a64e192bcc9f899afeedae391f71af3afd7e15a0792c049d23d3, amount: 749999999999 }\n",
      "removals:\n",
      "=========\n",
      "Coin { parent_coin_info: e3b0c44298fc1c149afbf4c8996fb92400000000000000000000000000000001, puzzle_hash: 4f45877796d7a64e192bcc9f899afeedae391f71af3afd7e15a0792c049d23d3, amount: 1750000000000 }\n"
     ]
    }
   ],
   "source": [
    "from chia.types.spend_bundle import SpendBundle\n",
    "spend_bundle = SpendBundle(\n",
    "    [ coin_spend],\n",
    "    signature\n",
    ")\n",
    "result = await network.push_tx(spend_bundle)\n",
    "print_push_tx_result(result)"
   ]
  },
  {
   "cell_type": "code",
   "execution_count": 19,
   "id": "9597341c-0a45-4c46-ab43-7dcfbd95f9fb",
   "metadata": {},
   "outputs": [
    {
     "name": "stdout",
     "output_type": "stream",
     "text": [
      "{'coin': {'amount': 1000000000001,\n",
      "          'parent_coin_info': '0x12d7b8c1654f82f2330059abc28e3240e863450706de7fdc518026f393f68bba',\n",
      "          'puzzle_hash': '0x4fef5d120ed637afed882f830fa800b97c3b6d5cb31acff9ec68f95dd51f7653'},\n",
      " 'coinbase': False,\n",
      " 'confirmed_block_index': 3,\n",
      " 'spent_block_index': 0,\n",
      " 'timestamp': 1}\n"
     ]
    }
   ],
   "source": [
    "coin_records = await get_coin_records_by_puzzle_hash(alice_waiting_room_puzzle_hash)\n",
    "alice_waiting_room_coin = coin_records[0].coin\n",
    "print(coin_records[0])"
   ]
  },
  {
   "cell_type": "markdown",
   "id": "47482780-6cea-432d-bb12-77afbb2d011c",
   "metadata": {},
   "source": [
    "## Clawback"
   ]
  },
  {
   "cell_type": "code",
   "execution_count": 10,
   "id": "41fb62f3-21fd-4b06-b848-3e1e99e34038",
   "metadata": {},
   "outputs": [
    {
     "name": "stdout",
     "output_type": "stream",
     "text": [
      "{\n",
      "    \"coin\": {\n",
      "        \"amount\": 1000000000001,\n",
      "        \"parent_coin_info\": \"0x12d7b8c1654f82f2330059abc28e3240e863450706de7fdc518026f393f68bba\",\n",
      "        \"puzzle_hash\": \"0x4fef5d120ed637afed882f830fa800b97c3b6d5cb31acff9ec68f95dd51f7653\"\n",
      "    },\n",
      "    \"puzzle_reveal\": \"0xff02ffff01ff02ffff01ff02ffff03ff82017fffff01ff02ff1effff04ff02ffff04ff0bffff04ff17ffff04ff2fffff04ff81bfffff04ff82017fff8080808080808080ffff01ff04ffff04ff14ffff04ff1cff808080ffff04ffff04ff12ffff04ff05ffff04ff5fff80808080ffff04ffff04ff10ffff04ffff02ffff03ff2fffff0117ffff010b80ff0180ffff04ffff0bff05ff5f80ff80808080ff8080808080ff0180ffff04ffff01ffffff323dff5264ffff333cffa0eff07522495060c066f66f32acc2a77e3a3e737aca8baea4d1a64ea4cdc13da9ff02ffff03ff17ffff01ff04ffff04ff18ffff04ffff0bff17ff5f80ff808080ff8080ffff01ff04ffff04ff12ffff04ff16ffff04ff2fff80808080ffff04ffff04ff18ffff04ff5fff808080ffff04ffff04ff1affff04ff5fff808080ffff04ffff04ff10ffff04ff05ffff04ff5fff80808080ff808080808080ff0180ff018080ffff04ffff01a04f45877796d7a64e192bcc9f899afeedae391f71af3afd7e15a0792c049d23d3ffff04ffff01b0aba7ed288dd79189bec34698a3437fa7a45f801596d397a4f70081a0956dcdbe998388bfa758f4d49fa421ce3850a6d8ffff04ffff01b0b01da35fe872b5c9c342d2a3ac6dfbe800eaf35c687a512a172d329f3bd10a83e675018a90a36178c81c0687b49d167fffff04ffff0180ffff04ffff018600e8d4a51000ffff04ffff018601d1a94a2001ff0180808080808080\",\n",
      "    \"solution\": \"0xff8080\"\n",
      "}\n"
     ]
    }
   ],
   "source": [
    "from utils import print_json\n",
    "from chia.types.coin_spend import CoinSpend\n",
    "\n",
    "# empty launcher_announcement for clawback spend\n",
    "solution = Program.to([\n",
    "    0\n",
    "])\n",
    "\n",
    "alice_waiting_room_coin_spend = CoinSpend(\n",
    "        alice_waiting_room_coin,\n",
    "        alice_waiting_room_puzzle,\n",
    "        solution\n",
    ")\n",
    "print_json(alice_waiting_room_coin_spend.to_json_dict())"
   ]
  },
  {
   "cell_type": "code",
   "execution_count": 11,
   "id": "726912a1-0da9-42b1-ab37-18a34b320926",
   "metadata": {},
   "outputs": [
    {
     "name": "stdout",
     "output_type": "stream",
     "text": [
      "{\n",
      "    \"aggregated_signature\": \"0x8d66b771632c513d54c02cdfd134940738825633d605b302b4421493531621267fc1d4eafba0382d37952e00d03bb8890aceda6d80bc1cb7c19259194fcafb277da20c7d56c91923cff97b85f97626b2dc827dc36ad22f0923eb9fd0b8e34f20\",\n",
      "    \"coin_spends\": [\n",
      "        {\n",
      "            \"coin\": {\n",
      "                \"amount\": 1000000000001,\n",
      "                \"parent_coin_info\": \"0x12d7b8c1654f82f2330059abc28e3240e863450706de7fdc518026f393f68bba\",\n",
      "                \"puzzle_hash\": \"0x4fef5d120ed637afed882f830fa800b97c3b6d5cb31acff9ec68f95dd51f7653\"\n",
      "            },\n",
      "            \"puzzle_reveal\": \"0xff02ffff01ff02ffff01ff02ffff03ff82017fffff01ff02ff1effff04ff02ffff04ff0bffff04ff17ffff04ff2fffff04ff81bfffff04ff82017fff8080808080808080ffff01ff04ffff04ff14ffff04ff1cff808080ffff04ffff04ff12ffff04ff05ffff04ff5fff80808080ffff04ffff04ff10ffff04ffff02ffff03ff2fffff0117ffff010b80ff0180ffff04ffff0bff05ff5f80ff80808080ff8080808080ff0180ffff04ffff01ffffff323dff5264ffff333cffa0eff07522495060c066f66f32acc2a77e3a3e737aca8baea4d1a64ea4cdc13da9ff02ffff03ff17ffff01ff04ffff04ff18ffff04ffff0bff17ff5f80ff808080ff8080ffff01ff04ffff04ff12ffff04ff16ffff04ff2fff80808080ffff04ffff04ff18ffff04ff5fff808080ffff04ffff04ff1affff04ff5fff808080ffff04ffff04ff10ffff04ff05ffff04ff5fff80808080ff808080808080ff0180ff018080ffff04ffff01a04f45877796d7a64e192bcc9f899afeedae391f71af3afd7e15a0792c049d23d3ffff04ffff01b0aba7ed288dd79189bec34698a3437fa7a45f801596d397a4f70081a0956dcdbe998388bfa758f4d49fa421ce3850a6d8ffff04ffff01b0b01da35fe872b5c9c342d2a3ac6dfbe800eaf35c687a512a172d329f3bd10a83e675018a90a36178c81c0687b49d167fffff04ffff0180ffff04ffff018600e8d4a51000ffff04ffff018601d1a94a2001ff0180808080808080\",\n",
      "            \"solution\": \"0xff8080\"\n",
      "        }\n",
      "    ]\n",
      "}\n"
     ]
    }
   ],
   "source": [
    "from chia.types.spend_bundle import SpendBundle\n",
    "from chia.util.hash import std_hash\n",
    "from clvm.casts import int_to_bytes\n",
    "\n",
    "message: bytes = std_hash(alice_puzzle_hash + int_to_bytes(play_amount))\n",
    "sig_alice_spend: G2Element = AugSchemeMPL.sign(\n",
    "    alice_sk,\n",
    "    message\n",
    "    + alice_waiting_room_coin.name()\n",
    "    + DEFAULT_CONSTANTS.AGG_SIG_ME_ADDITIONAL_DATA\n",
    ")\n",
    "spend_bundle = SpendBundle([alice_waiting_room_coin_spend],\n",
    "    sig_alice_spend\n",
    ")\n",
    "print_json(spend_bundle.to_json_dict(include_legacy_keys = False, exclude_modern_keys = False))"
   ]
  },
  {
   "cell_type": "code",
   "execution_count": 13,
   "id": "7e304545-0a3f-4234-8948-841da7535ca7",
   "metadata": {},
   "outputs": [
    {
     "data": {
      "text/plain": [
       "{'error': 'Err.ASSERT_HEIGHT_RELATIVE_FAILED'}"
      ]
     },
     "execution_count": 13,
     "metadata": {},
     "output_type": "execute_result"
    }
   ],
   "source": [
    "result = await network.push_tx(spend_bundle)\n",
    "result"
   ]
  },
  {
   "cell_type": "code",
   "execution_count": 17,
   "id": "5d9f6651-c61c-478e-902d-7192f8f9f90c",
   "metadata": {},
   "outputs": [
    {
     "data": {
      "text/plain": [
       "203"
      ]
     },
     "execution_count": 17,
     "metadata": {},
     "output_type": "execute_result"
    }
   ],
   "source": [
    "network.sim.pass_blocks(100)\n",
    "network.sim.get_height()"
   ]
  },
  {
   "cell_type": "code",
   "execution_count": 21,
   "id": "d7e62551-a73c-4684-b01b-aec29d4ce586",
   "metadata": {},
   "outputs": [
    {
     "data": {
      "text/plain": [
       "{'error': 'Err.ASSERT_HEIGHT_RELATIVE_FAILED'}"
      ]
     },
     "execution_count": 21,
     "metadata": {},
     "output_type": "execute_result"
    }
   ],
   "source": [
    "result = await network.push_tx(spend_bundle)\n",
    "result"
   ]
  }
 ],
 "metadata": {
  "kernelspec": {
   "display_name": "Python 3 (ipykernel)",
   "language": "python",
   "name": "python3"
  },
  "language_info": {
   "codemirror_mode": {
    "name": "ipython",
    "version": 3
   },
   "file_extension": ".py",
   "mimetype": "text/x-python",
   "name": "python",
   "nbconvert_exporter": "python",
   "pygments_lexer": "ipython3",
   "version": "3.10.7"
  }
 },
 "nbformat": 4,
 "nbformat_minor": 5
}
