{
 "cells": [
  {
   "cell_type": "code",
   "execution_count": 1,
   "id": "34ac8390-1159-453d-9e07-d1a4ccd46322",
   "metadata": {},
   "outputs": [
    {
     "name": "stdout",
     "output_type": "stream",
     "text": [
      "1.6.1b4.dev7\n",
      "cdv, version 1.1.2\n",
      "Python 3.10.6\n"
     ]
    }
   ],
   "source": [
    "%%bash\n",
    "chia version\n",
    "cdv --version\n",
    "python --version"
   ]
  },
  {
   "cell_type": "markdown",
   "id": "835c0628-fbb0-4165-9efe-855550da4921",
   "metadata": {},
   "source": [
    "# Clawback Scenario\n",
    "## block height 5"
   ]
  },
  {
   "cell_type": "code",
   "execution_count": 2,
   "id": "6a3eefbe-4b53-4d9e-9203-305b64e6a7fa",
   "metadata": {},
   "outputs": [
    {
     "name": "stdout",
     "output_type": "stream",
     "text": [
      "Network: simulator0    Port: 58444   RPC Port: 18422\n",
      "Node ID: 38401aad891c6ecd90a91150989b51e9c86d844e07387ed77338beda85b199e7\n",
      "Genesis Challenge: eb8c4d20b322be8d9fddbf9412016bdffe9a2901d7edb0e364e94266d0e095f7\n",
      "Current Blockchain Status: Full Node Synced\n",
      "\n",
      "Peak: Hash: c9f0f719fef8a1766f0446a89d6a68e1e662a9c1fb088797711ba61d740d632c\n",
      "      Time: Mon Sep 26 2022 17:12:16 +07                  Height:          4\n",
      "\n",
      "Estimated network space: 29.284 MiB\n",
      "Current difficulty: 1024\n",
      "Current VDF sub_slot_iters: 1024\n",
      "\n",
      "  Height: |   Hash:\n",
      "        4 | c9f0f719fef8a1766f0446a89d6a68e1e662a9c1fb088797711ba61d740d632c\n",
      "        3 | 802d397f4c91d8ab74b9ad7d470b14b2db0eb93b8fc2f1733cb34d2765f1bce2\n",
      "        2 | 1eef946c9154e000587facb15732114d1d029c4b294553bd1cb25db36ef28163\n",
      "        1 | 742bd7a0408ef45eb697f9aa84d5a5145e789924ce24690867acbddf79a5bc69\n"
     ]
    }
   ],
   "source": [
    "%%bash\n",
    "chia show -s"
   ]
  },
  {
   "cell_type": "code",
   "execution_count": 3,
   "id": "a6a53c65-b5e3-49b6-b40c-18a065f8174c",
   "metadata": {},
   "outputs": [],
   "source": [
    "# chia libraries\n",
    "from blspy import (PrivateKey, AugSchemeMPL, G1Element, G2Element)\n",
    "from chia.types.blockchain_format.program import Program\n",
    "from chia.wallet.puzzles import (p2_delegated_puzzle_or_hidden_puzzle)\n",
    "# utils & tic tac toe helper code\n",
    "import sys\n",
    "sys.path.insert(0, \"../code\")\n",
    "from utils import (load_program, print_program, print_puzzle, print_json)\n",
    "import singleton_utils\n",
    "import tic_tac_toe\n",
    "\n",
    "# puzzles\n",
    "tic_tac_toe_puzzle = load_program(\"../code/tic-tac-toe.clsp\", [\"../code\"])\n",
    "coin_puzzle = load_program(\"../code/coin.clsp\", [\"../code\"])\n",
    "terminate_puzzle = load_program(\"../code/terminate-game.clsp\", [\"../code\"])\n",
    "\n",
    "waiting_room_puzzle = load_program(\"../code/waiting-room.clsp\", [\"../code\"])\n",
    "play_amount = 1_000_000_000_000"
   ]
  },
  {
   "cell_type": "code",
   "execution_count": 4,
   "id": "b19ef544-fdd6-4109-95fc-95f34e24f485",
   "metadata": {},
   "outputs": [],
   "source": [
    "# from setup-sim notebook\n",
    "# alice 4070016934\n",
    "# bob 861183802\n",
    "alice_sk = PrivateKey.from_bytes(bytes.fromhex(\"67959bf0ade73bc2aa69cab59d0aa1fded890696f178393f7740b330a808f7c6\"))\n",
    "alice_pk = G1Element.from_bytes(bytes.fromhex(\"96f75bf45d09491e8a5adaedbdb458f6ac46d9b6507a788fe58349f6eb2a56bfbc72bdd70a09eceb060b552f10fb1010\"))\n",
    "alice_puzzle_hash = p2_delegated_puzzle_or_hidden_puzzle.puzzle_for_pk(alice_pk).get_tree_hash()\n",
    "bob_pk = G1Element.from_bytes(bytes.fromhex(\"b1bc8cb3442693d6093df74dc975f81b74ac1438290341a13feb94af6f08fd613fcd509abb773612b5fe68851b56f64a\"))\n",
    "bob_puzzle_hash = p2_delegated_puzzle_or_hidden_puzzle.puzzle_for_pk(bob_pk).get_tree_hash()\n",
    "\n",
    "# prepare players info\n",
    "player_one_info = Program.to([alice_pk, alice_puzzle_hash])\n",
    "player_two_info = Program.to([bob_pk, bob_puzzle_hash])"
   ]
  },
  {
   "cell_type": "code",
   "execution_count": 5,
   "id": "8ad52d5f-b9af-4ed4-966a-25cc9509184d",
   "metadata": {},
   "outputs": [
    {
     "data": {
      "text/plain": [
       "'txch1e3pp9eefvar8tje7h5mt2hy0epacyuyynyy53w9adtu56p7nhjxq737a5a'"
      ]
     },
     "execution_count": 5,
     "metadata": {},
     "output_type": "execute_result"
    }
   ],
   "source": [
    "from chia.util.bech32m import encode_puzzle_hash\n",
    "## alice\n",
    "alice_waiting_room_puzzle = waiting_room_puzzle.curry(\n",
    "    alice_puzzle_hash, \n",
    "    alice_pk,\n",
    "    alice_pk, \n",
    "    bob_pk\n",
    ")\n",
    "alice_waiting_room_puzzle_hash = alice_waiting_room_puzzle.get_tree_hash()\n",
    "alice_waiting_room_address = encode_puzzle_hash(alice_waiting_room_puzzle_hash, \"txch\")\n",
    "alice_waiting_room_address"
   ]
  },
  {
   "cell_type": "markdown",
   "id": "7d362e05-2bdc-404d-a694-fe716e7dfcae",
   "metadata": {},
   "source": [
    "# Create Alice's Waiting Room Coin"
   ]
  },
  {
   "cell_type": "code",
   "execution_count": 6,
   "id": "d3f7ce88-e441-4d51-a1db-594c1a2eda2d",
   "metadata": {},
   "outputs": [
    {
     "name": "stdout",
     "output_type": "stream",
     "text": [
      "Submitting transaction...\n",
      "Transaction submitted to nodes: [{'peer_id': '38401aad891c6ecd90a91150989b51e9c86d844e07387ed77338beda85b199e7', 'inclusion_status': 'SUCCESS', 'error_msg': None}]\n",
      "Run 'chia wallet get_transaction -f 4070016934 -tx 0x7d335df62d41ae1098d865fc1729ecc4bf8dc432599255fd675a5bf14b40a5d4' to get status\n"
     ]
    }
   ],
   "source": [
    "%%bash\n",
    "chia wallet send -f 4070016934 -t txch1e3pp9eefvar8tje7h5mt2hy0epacyuyynyy53w9adtu56p7nhjxq737a5a -a 1.000000000001"
   ]
  },
  {
   "cell_type": "code",
   "execution_count": 7,
   "id": "1f313f32-9d30-4c90-b0cb-fc70d3bfcfd8",
   "metadata": {},
   "outputs": [
    {
     "name": "stdout",
     "output_type": "stream",
     "text": [
      "cc4212e729674675cb3ebd36b55c8fc87b827084990948b8bd6af94d07d3bc8c\n"
     ]
    }
   ],
   "source": [
    "%%bash\n",
    "cdv decode txch1e3pp9eefvar8tje7h5mt2hy0epacyuyynyy53w9adtu56p7nhjxq737a5a"
   ]
  },
  {
   "cell_type": "code",
   "execution_count": 8,
   "id": "7fa51364-37e6-469d-a0af-8677cc50619c",
   "metadata": {},
   "outputs": [
    {
     "name": "stdout",
     "output_type": "stream",
     "text": [
      "Farmed 1 Transaction blocks\n",
      "Block Height is now: 6\n",
      "[\n",
      "    {\n",
      "        \"coin\": {\n",
      "            \"amount\": 1000000000001,\n",
      "            \"parent_coin_info\": \"0xdf2cf850264c22b8bfe7da999b56b8a6689c9ce25be52d0807fe12ed8c9e1b5b\",\n",
      "            \"puzzle_hash\": \"0xcc4212e729674675cb3ebd36b55c8fc87b827084990948b8bd6af94d07d3bc8c\"\n",
      "        },\n",
      "        \"coinbase\": false,\n",
      "        \"confirmed_block_index\": 6,\n",
      "        \"spent_block_index\": 0,\n",
      "        \"timestamp\": 1665157285\n",
      "    }\n",
      "]\n"
     ]
    }
   ],
   "source": [
    "%%bash\n",
    "cdv sim -n tic-tac-toe farm\n",
    "cdv rpc coinrecords --by puzzlehash \"cc4212e729674675cb3ebd36b55c8fc87b827084990948b8bd6af94d07d3bc8c\""
   ]
  },
  {
   "cell_type": "markdown",
   "id": "d6b90f49-ef9a-41b9-a461-2691440e9f81",
   "metadata": {},
   "source": [
    "## Clawback"
   ]
  },
  {
   "cell_type": "code",
   "execution_count": 9,
   "id": "51586068-e2c6-496f-867a-9ef7553ae249",
   "metadata": {},
   "outputs": [
    {
     "data": {
      "text/plain": [
       "'eb8c4d20b322be8d9fddbf9412016bdffe9a2901d7edb0e364e94266d0e095f7'"
      ]
     },
     "execution_count": 9,
     "metadata": {},
     "output_type": "execute_result"
    }
   ],
   "source": [
    "from chia.rpc.full_node_rpc_client import FullNodeRpcClient\n",
    "from chia.util.config import load_config\n",
    "from chia.util.default_root import DEFAULT_ROOT_PATH\n",
    "from chia.util.ints import uint16\n",
    "\n",
    "config = load_config(DEFAULT_ROOT_PATH, \"config.yaml\")\n",
    "selected_network = config[\"selected_network\"]\n",
    "genesis_challenge = config[\"network_overrides\"][\"constants\"][selected_network][\"GENESIS_CHALLENGE\"]\n",
    "\n",
    "self_hostname = config[\"self_hostname\"] # localhost\n",
    "full_node_rpc_port = config[\"full_node\"][\"rpc_port\"] # 8555\n",
    "genesis_challenge"
   ]
  },
  {
   "cell_type": "code",
   "execution_count": 10,
   "id": "a7161942-4652-46d8-8790-0a62b438c1e8",
   "metadata": {},
   "outputs": [
    {
     "data": {
      "text/plain": [
       "Coin { parent_coin_info: df2cf850264c22b8bfe7da999b56b8a6689c9ce25be52d0807fe12ed8c9e1b5b, puzzle_hash: cc4212e729674675cb3ebd36b55c8fc87b827084990948b8bd6af94d07d3bc8c, amount: 1000000000001 }"
      ]
     },
     "execution_count": 10,
     "metadata": {},
     "output_type": "execute_result"
    }
   ],
   "source": [
    "full_node_client = await FullNodeRpcClient.create(\n",
    "    self_hostname, uint16(full_node_rpc_port), DEFAULT_ROOT_PATH, config\n",
    ")\n",
    "coin_records = await full_node_client.get_coin_records_by_puzzle_hash(alice_waiting_room_puzzle_hash)\n",
    "full_node_client.close()\n",
    "await full_node_client.await_closed()\n",
    "\n",
    "alice_waiting_room_puzzle_coin = coin_records[0].coin\n",
    "alice_waiting_room_puzzle_coin"
   ]
  },
  {
   "cell_type": "code",
   "execution_count": 11,
   "id": "b209f06f-0c98-4ea4-a8dc-a1ae193b55ca",
   "metadata": {},
   "outputs": [
    {
     "name": "stdout",
     "output_type": "stream",
     "text": [
      "{\n",
      "    \"coin\": {\n",
      "        \"amount\": 1000000000001,\n",
      "        \"parent_coin_info\": \"0xdf2cf850264c22b8bfe7da999b56b8a6689c9ce25be52d0807fe12ed8c9e1b5b\",\n",
      "        \"puzzle_hash\": \"0xcc4212e729674675cb3ebd36b55c8fc87b827084990948b8bd6af94d07d3bc8c\"\n",
      "    },\n",
      "    \"puzzle_reveal\": \"0xff02ffff01ff02ffff01ff02ffff03ff82017fffff01ff04ffff04ff14ffff04ffff02ff16ffff04ff02ffff04ff82017fffff04ff5fffff04ff81bfffff04ff17ffff04ff2fff8080808080808080ff808080ffff02ffff03ffff09ff0bff1780ffff01ff04ffff04ff12ffff04ff1affff01ff8601d1a94a2001808080ff8080ff8080ff018080ffff01ff04ffff04ff1cffff01ff648080ffff04ffff04ff12ffff04ff05ffff01ff8600e8d4a51000808080ffff04ffff04ff08ffff04ff0bffff04ff05ff80808080ff8080808080ff0180ffff04ffff01ffff32ff3d52ffff33a0eff07522495060c066f66f32acc2a77e3a3e737aca8baea4d1a64ea4cdc13da9ffff0bff05ffff02ff1effff04ff02ffff04ffff04ff0bffff04ff17ffff04ffff04ffff01ff8467616d658b7469632d7461632d746f65ffff04ffff04ffff018570315f706bff2f80ffff04ffff04ffff018570325f706bff5f80ff80808080ff80808080ff8080808080ff02ffff03ffff07ff0580ffff01ff0bffff0102ffff02ff1effff04ff02ffff04ff09ff80808080ffff02ff1effff04ff02ffff04ff0dff8080808080ffff01ff0bffff0101ff058080ff0180ff018080ffff04ffff01a0d210b94e1c190321d74e68fa697a8da3dce5846bbaf9f2783ba345c431123387ffff04ffff01b096f75bf45d09491e8a5adaedbdb458f6ac46d9b6507a788fe58349f6eb2a56bfbc72bdd70a09eceb060b552f10fb1010ffff04ffff01b096f75bf45d09491e8a5adaedbdb458f6ac46d9b6507a788fe58349f6eb2a56bfbc72bdd70a09eceb060b552f10fb1010ffff04ffff01b0b1bc8cb3442693d6093df74dc975f81b74ac1438290341a13feb94af6f08fd613fcd509abb773612b5fe68851b56f64aff018080808080\",\n",
      "    \"solution\": \"0xff80ff80ff8080\"\n",
      "}\n"
     ]
    }
   ],
   "source": [
    "from utils import print_json\n",
    "from chia.types.coin_spend import CoinSpend\n",
    "\n",
    "#  (defconstant CLAWBACK -1)\n",
    "solution = Program.to([\n",
    "    0,0,0\n",
    "])\n",
    "\n",
    "coin_spend = CoinSpend(\n",
    "        alice_waiting_room_puzzle_coin,\n",
    "        alice_waiting_room_puzzle,\n",
    "        solution\n",
    ")\n",
    "print_json(coin_spend.to_json_dict())"
   ]
  },
  {
   "cell_type": "code",
   "execution_count": 15,
   "id": "a6584f6e-32fc-4f35-9a24-0518cd042356",
   "metadata": {},
   "outputs": [
    {
     "name": "stdout",
     "output_type": "stream",
     "text": [
      "{\n",
      "    \"aggregated_signature\": \"0xa319e81319dfc823f174c6164fa22a5e79c9e4b093128881a2d8d834bdf67aa94eee3480d483e9894da874b654e949d108a465a2120563ccc68066cdbf2f0290c9fd9c91cbf94e59813174b1001ea245695931d77288afb330ec46755fd697ea\",\n",
      "    \"coin_spends\": [\n",
      "        {\n",
      "            \"coin\": {\n",
      "                \"amount\": 1000000000001,\n",
      "                \"parent_coin_info\": \"0xdf2cf850264c22b8bfe7da999b56b8a6689c9ce25be52d0807fe12ed8c9e1b5b\",\n",
      "                \"puzzle_hash\": \"0xcc4212e729674675cb3ebd36b55c8fc87b827084990948b8bd6af94d07d3bc8c\"\n",
      "            },\n",
      "            \"puzzle_reveal\": \"0xff02ffff01ff02ffff01ff02ffff03ff82017fffff01ff04ffff04ff14ffff04ffff02ff16ffff04ff02ffff04ff82017fffff04ff5fffff04ff81bfffff04ff17ffff04ff2fff8080808080808080ff808080ffff02ffff03ffff09ff0bff1780ffff01ff04ffff04ff12ffff04ff1affff01ff8601d1a94a2001808080ff8080ff8080ff018080ffff01ff04ffff04ff1cffff01ff648080ffff04ffff04ff12ffff04ff05ffff01ff8600e8d4a51000808080ffff04ffff04ff08ffff04ff0bffff04ff05ff80808080ff8080808080ff0180ffff04ffff01ffff32ff3d52ffff33a0eff07522495060c066f66f32acc2a77e3a3e737aca8baea4d1a64ea4cdc13da9ffff0bff05ffff02ff1effff04ff02ffff04ffff04ff0bffff04ff17ffff04ffff04ffff01ff8467616d658b7469632d7461632d746f65ffff04ffff04ffff018570315f706bff2f80ffff04ffff04ffff018570325f706bff5f80ff80808080ff80808080ff8080808080ff02ffff03ffff07ff0580ffff01ff0bffff0102ffff02ff1effff04ff02ffff04ff09ff80808080ffff02ff1effff04ff02ffff04ff0dff8080808080ffff01ff0bffff0101ff058080ff0180ff018080ffff04ffff01a0d210b94e1c190321d74e68fa697a8da3dce5846bbaf9f2783ba345c431123387ffff04ffff01b096f75bf45d09491e8a5adaedbdb458f6ac46d9b6507a788fe58349f6eb2a56bfbc72bdd70a09eceb060b552f10fb1010ffff04ffff01b096f75bf45d09491e8a5adaedbdb458f6ac46d9b6507a788fe58349f6eb2a56bfbc72bdd70a09eceb060b552f10fb1010ffff04ffff01b0b1bc8cb3442693d6093df74dc975f81b74ac1438290341a13feb94af6f08fd613fcd509abb773612b5fe68851b56f64aff018080808080\",\n",
      "            \"solution\": \"0xff80ff80ff8080\"\n",
      "        }\n",
      "    ]\n",
      "}\n"
     ]
    }
   ],
   "source": [
    "from chia.types.spend_bundle import SpendBundle\n",
    "\n",
    "\n",
    "message: bytes = alice_puzzle_hash\n",
    "sig: G2Element = AugSchemeMPL.sign(\n",
    "    alice_sk,\n",
    "    message\n",
    "    + alice_waiting_room_puzzle_coin.name()\n",
    "    #+ bytes.fromhex(genesis_challenge),\n",
    "    + bytes.fromhex(\"ccd5bb71183532bff220ba46c268991a3ff07eb358e8255a65c30a2dce0e5fbb\")\n",
    ")\n",
    "\n",
    "spend_bundle = SpendBundle([coin_spend], sig)\n",
    "print_json(spend_bundle.to_json_dict(include_legacy_keys = False, exclude_modern_keys = False))"
   ]
  },
  {
   "cell_type": "markdown",
   "id": "165c917f-7081-4edc-8caf-2b2c38530a6e",
   "metadata": {},
   "source": [
    "## Clawback is not available yet"
   ]
  },
  {
   "cell_type": "code",
   "execution_count": 16,
   "id": "11a379c0-6259-4f7f-aea1-686110f9da93",
   "metadata": {},
   "outputs": [
    {
     "name": "stdout",
     "output_type": "stream",
     "text": [
      "Farmed 10 Transaction blocks\n",
      "Block Height is now: 26\n",
      "26\n"
     ]
    }
   ],
   "source": [
    "%%bash\n",
    "cdv sim -n tic-tac-toe farm --blocks 10\n",
    "chia rpc full_node get_blockchain_state | jq \".blockchain_state.peak.height\""
   ]
  },
  {
   "cell_type": "code",
   "execution_count": 17,
   "id": "4c70e881-7368-485d-9cd5-2c87a7cd2f91",
   "metadata": {},
   "outputs": [
    {
     "name": "stdout",
     "output_type": "stream",
     "text": [
      "{'status': 'PENDING', 'success': True}\n"
     ]
    }
   ],
   "source": [
    "full_node_client = await FullNodeRpcClient.create(\n",
    "    self_hostname, uint16(full_node_rpc_port), DEFAULT_ROOT_PATH, config\n",
    ")\n",
    "result = await full_node_client.push_tx(spend_bundle)\n",
    "full_node_client.close()\n",
    "await full_node_client.await_closed()\n",
    "print(result)"
   ]
  },
  {
   "cell_type": "markdown",
   "id": "97deff06-2594-4d8a-8e0f-6e9a72ed3303",
   "metadata": {},
   "source": [
    "## Clawback is available"
   ]
  },
  {
   "cell_type": "code",
   "execution_count": 18,
   "id": "e7f8d9d6-2513-4c7c-9257-a2dfd0938a2d",
   "metadata": {},
   "outputs": [
    {
     "name": "stdout",
     "output_type": "stream",
     "text": [
      "chia_full_node_simulator: stopped\n",
      "chia_full_node_simulator: started\n",
      "chia_wallet: stopped\n",
      "chia_wallet: started\n",
      "Farmed 10 Transaction blocks\n",
      "Block Height is now: 36\n",
      "36\n"
     ]
    }
   ],
   "source": [
    "%%bash\n",
    "cdv sim -n tic-tac-toe start -wr # restart to clear pending tx\n",
    "cdv sim -n tic-tac-toe farm --blocks 10\n",
    "chia rpc full_node get_blockchain_state | jq \".blockchain_state.peak.height\""
   ]
  },
  {
   "cell_type": "code",
   "execution_count": 19,
   "id": "fdb5abc7-4b01-41b6-9bb9-8a642881c5d4",
   "metadata": {},
   "outputs": [],
   "source": [
    "# check if the waiting room coin is spent\n",
    "full_node_client = await FullNodeRpcClient.create(\n",
    "    self_hostname, uint16(full_node_rpc_port), DEFAULT_ROOT_PATH, config\n",
    ")\n",
    "coin_records = await full_node_client.get_coin_records_by_puzzle_hash(alice_waiting_room_puzzle_hash)\n",
    "full_node_client.close()\n",
    "await full_node_client.await_closed()\n",
    "\n",
    "assert coin_records[0].spent_block_index == 0"
   ]
  },
  {
   "cell_type": "code",
   "execution_count": 20,
   "id": "05e021d0-a29f-4502-84d8-5bb0456ac4fb",
   "metadata": {},
   "outputs": [
    {
     "name": "stdout",
     "output_type": "stream",
     "text": [
      "Farmed 90 Transaction blocks\n",
      "Block Height is now: 126\n",
      "126\n"
     ]
    }
   ],
   "source": [
    "%%bash\n",
    "cdv sim -n tic-tac-toe farm --blocks 90\n",
    "chia rpc full_node get_blockchain_state | jq \".blockchain_state.peak.height\""
   ]
  },
  {
   "cell_type": "code",
   "execution_count": 21,
   "id": "e7ff37de-670b-4abc-a83e-e5ff85318821",
   "metadata": {},
   "outputs": [
    {
     "name": "stdout",
     "output_type": "stream",
     "text": [
      "{'status': 'SUCCESS', 'success': True}\n"
     ]
    }
   ],
   "source": [
    "# push tx again when the block height is greater than 100\n",
    "full_node_client = await FullNodeRpcClient.create(\n",
    "    self_hostname, uint16(full_node_rpc_port), DEFAULT_ROOT_PATH, config\n",
    ")\n",
    "result = await full_node_client.push_tx(spend_bundle)\n",
    "full_node_client.close()\n",
    "await full_node_client.await_closed()\n",
    "print(result)"
   ]
  },
  {
   "cell_type": "code",
   "execution_count": 22,
   "id": "acf10b0c-e07d-4d19-b928-c05d91e16003",
   "metadata": {},
   "outputs": [
    {
     "name": "stdout",
     "output_type": "stream",
     "text": [
      "Farmed 10 Transaction blocks\n",
      "Block Height is now: 136\n",
      "136\n"
     ]
    }
   ],
   "source": [
    "%%bash\n",
    "cdv sim -n tic-tac-toe farm --blocks 10\n",
    "chia rpc full_node get_blockchain_state | jq \".blockchain_state.peak.height\""
   ]
  },
  {
   "cell_type": "code",
   "execution_count": 23,
   "id": "d4f745d0-5f74-4239-a5b3-8423d376339e",
   "metadata": {},
   "outputs": [
    {
     "data": {
      "text/plain": [
       "{'coin': {'parent_coin_info': '0xdf2cf850264c22b8bfe7da999b56b8a6689c9ce25be52d0807fe12ed8c9e1b5b',\n",
       "  'puzzle_hash': '0xcc4212e729674675cb3ebd36b55c8fc87b827084990948b8bd6af94d07d3bc8c',\n",
       "  'amount': 1000000000001},\n",
       " 'confirmed_block_index': 6,\n",
       " 'spent_block_index': 127,\n",
       " 'coinbase': False,\n",
       " 'timestamp': 1665157285}"
      ]
     },
     "execution_count": 23,
     "metadata": {},
     "output_type": "execute_result"
    }
   ],
   "source": [
    "# check if the waiting room coin is spent at the 100+ block\n",
    "full_node_client = await FullNodeRpcClient.create(\n",
    "    self_hostname, uint16(full_node_rpc_port), DEFAULT_ROOT_PATH, config\n",
    ")\n",
    "coin_records = await full_node_client.get_coin_records_by_puzzle_hash(\n",
    "    alice_waiting_room_puzzle_hash\n",
    ")\n",
    "full_node_client.close()\n",
    "await full_node_client.await_closed()\n",
    "\n",
    "assert coin_records[0].spent_block_index > (100 + coin_records[0].confirmed_block_index)\n",
    "waiting_room_coin_id = coin_records[0].coin.name()\n",
    "coin_records[0].to_json_dict()"
   ]
  },
  {
   "cell_type": "code",
   "execution_count": 24,
   "id": "26a34e96-05d4-4bb8-8271-4b5966dac7a3",
   "metadata": {},
   "outputs": [
    {
     "data": {
      "text/plain": [
       "{'coin': {'parent_coin_info': '0x3b2f59f7a55e5ea62eee8d04f4a5d08497bffd756a33cc0feab0659fd3d39713',\n",
       "  'puzzle_hash': '0xd210b94e1c190321d74e68fa697a8da3dce5846bbaf9f2783ba345c431123387',\n",
       "  'amount': 1000000000000},\n",
       " 'confirmed_block_index': 127,\n",
       " 'spent_block_index': 0,\n",
       " 'coinbase': False,\n",
       " 'timestamp': 1665157587}"
      ]
     },
     "execution_count": 24,
     "metadata": {},
     "output_type": "execute_result"
    }
   ],
   "source": [
    "# check if the return coin with 1 XCH is unspent & created,by the waiting room coin\n",
    "full_node_client = await FullNodeRpcClient.create(\n",
    "    self_hostname, uint16(full_node_rpc_port), DEFAULT_ROOT_PATH, config\n",
    ")\n",
    "coin_records = await full_node_client.get_coin_records_by_puzzle_hash(\n",
    "    puzzle_hash = alice_puzzle_hash,\n",
    "    include_spent_coins = False\n",
    ")\n",
    "full_node_client.close()\n",
    "await full_node_client.await_closed()\n",
    "\n",
    "return_coin_record = next((cr for cr in coin_records if cr.coin.parent_coin_info == waiting_room_coin_id), None)\n",
    "assert return_coin_record is not None\n",
    "return_coin_record.to_json_dict()"
   ]
  }
 ],
 "metadata": {
  "kernelspec": {
   "display_name": "Python 3 (ipykernel)",
   "language": "python",
   "name": "python3"
  },
  "language_info": {
   "codemirror_mode": {
    "name": "ipython",
    "version": 3
   },
   "file_extension": ".py",
   "mimetype": "text/x-python",
   "name": "python",
   "nbconvert_exporter": "python",
   "pygments_lexer": "ipython3",
   "version": "3.10.6"
  }
 },
 "nbformat": 4,
 "nbformat_minor": 5
}
