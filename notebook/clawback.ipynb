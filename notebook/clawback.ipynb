{
 "cells": [
  {
   "cell_type": "code",
   "execution_count": 1,
   "id": "34ac8390-1159-453d-9e07-d1a4ccd46322",
   "metadata": {},
   "outputs": [
    {
     "name": "stdout",
     "output_type": "stream",
     "text": [
      "1.6.1b3.dev12\n",
      "cdv, version 1.1.2\n",
      "Python 3.10.6\n"
     ]
    }
   ],
   "source": [
    "%%bash\n",
    "chia version\n",
    "cdv --version\n",
    "python --version"
   ]
  },
  {
   "cell_type": "code",
   "execution_count": 2,
   "id": "a6a53c65-b5e3-49b6-b40c-18a065f8174c",
   "metadata": {},
   "outputs": [],
   "source": [
    "# chia libraries\n",
    "from blspy import (PrivateKey, AugSchemeMPL, G1Element, G2Element)\n",
    "from chia.types.blockchain_format.program import Program\n",
    "from chia.wallet.puzzles import (p2_delegated_puzzle_or_hidden_puzzle)\n",
    "# utils & tic tac toe helper code\n",
    "import sys\n",
    "sys.path.insert(0, \"../code\")\n",
    "from utils import (load_program, print_program, print_puzzle, print_json)\n",
    "import singleton_utils\n",
    "import tic_tac_toe\n",
    "\n",
    "# puzzles\n",
    "tic_tac_toe_puzzle = load_program(\"../code/tic-tac-toe.clsp\", [\"../code\"])\n",
    "coin_puzzle = load_program(\"../code/coin.clsp\", [\"../code\"])\n",
    "terminate_puzzle = load_program(\"../code/terminate-game.clsp\", [\"../code\"])\n",
    "\n",
    "waiting_room_puzzle = load_program(\"../code/waiting-room.clsp\", [\"../code\"])\n",
    "play_amount = 1_000_000_000_000"
   ]
  },
  {
   "cell_type": "code",
   "execution_count": 3,
   "id": "b19ef544-fdd6-4109-95fc-95f34e24f485",
   "metadata": {},
   "outputs": [],
   "source": [
    "# from setup-sim notebook\n",
    "# alice 4070016934\n",
    "alice_sk = PrivateKey.from_bytes(bytes.fromhex(\"67959bf0ade73bc2aa69cab59d0aa1fded890696f178393f7740b330a808f7c6\"))\n",
    "alice_pk = G1Element.from_bytes(bytes.fromhex(\"96f75bf45d09491e8a5adaedbdb458f6ac46d9b6507a788fe58349f6eb2a56bfbc72bdd70a09eceb060b552f10fb1010\"))\n",
    "alice_puzzle_hash = p2_delegated_puzzle_or_hidden_puzzle.puzzle_for_pk(alice_pk).get_tree_hash()\n",
    "\n",
    "# prepare players info\n",
    "player_one_info = Program.to([alice_pk, alice_puzzle_hash])"
   ]
  },
  {
   "cell_type": "code",
   "execution_count": 4,
   "id": "8ad52d5f-b9af-4ed4-966a-25cc9509184d",
   "metadata": {},
   "outputs": [
    {
     "data": {
      "text/plain": [
       "'txch1dmjr50rp03dpa330lml3kczlk5lveqd63nx5qf82l7d7l3fuv9zsdq4rrm'"
      ]
     },
     "execution_count": 4,
     "metadata": {},
     "output_type": "execute_result"
    }
   ],
   "source": [
    "from chia.util.bech32m import encode_puzzle_hash\n",
    "## alice\n",
    "alice_waiting_room_puzzle = waiting_room_puzzle.curry(\n",
    "    alice_puzzle_hash,\n",
    "    alice_pk\n",
    ")\n",
    "alice_waiting_room_puzzle_hash = alice_waiting_room_puzzle.get_tree_hash()\n",
    "alice_waiting_room_address = encode_puzzle_hash(alice_waiting_room_puzzle_hash, \"txch\")\n",
    "alice_waiting_room_address"
   ]
  },
  {
   "cell_type": "markdown",
   "id": "7d362e05-2bdc-404d-a694-fe716e7dfcae",
   "metadata": {},
   "source": [
    "# Create Alice's Waiting Room Coin"
   ]
  },
  {
   "cell_type": "code",
   "execution_count": 5,
   "id": "d3f7ce88-e441-4d51-a1db-594c1a2eda2d",
   "metadata": {},
   "outputs": [
    {
     "name": "stdout",
     "output_type": "stream",
     "text": [
      "Submitting transaction...\n",
      "Transaction submitted to nodes: [{'peer_id': '38401aad891c6ecd90a91150989b51e9c86d844e07387ed77338beda85b199e7', 'inclusion_status': 'SUCCESS', 'error_msg': None}]\n",
      "Run 'chia wallet get_transaction -f 4070016934 -tx 0xc94e3e5691bb30854468a232139bc3316c98a164276d1c0bfa5ecdc9d4e12669' to get status\n"
     ]
    }
   ],
   "source": [
    "%%bash\n",
    "chia wallet send -f 4070016934 -t txch1dmjr50rp03dpa330lml3kczlk5lveqd63nx5qf82l7d7l3fuv9zsdq4rrm -a 1.000000000001"
   ]
  },
  {
   "cell_type": "code",
   "execution_count": 6,
   "id": "1f313f32-9d30-4c90-b0cb-fc70d3bfcfd8",
   "metadata": {},
   "outputs": [
    {
     "name": "stdout",
     "output_type": "stream",
     "text": [
      "6ee43a3c617c5a1ec62ffeff1b605fb53ecc81ba8ccd4024eaff9befc53c6145\n"
     ]
    }
   ],
   "source": [
    "%%bash\n",
    "cdv decode txch1dmjr50rp03dpa330lml3kczlk5lveqd63nx5qf82l7d7l3fuv9zsdq4rrm"
   ]
  },
  {
   "cell_type": "code",
   "execution_count": 7,
   "id": "7fa51364-37e6-469d-a0af-8677cc50619c",
   "metadata": {},
   "outputs": [
    {
     "name": "stdout",
     "output_type": "stream",
     "text": [
      "[\n",
      "    {\n",
      "        \"coin\": {\n",
      "            \"amount\": 1000000000001,\n",
      "            \"parent_coin_info\": \"0xdf2cf850264c22b8bfe7da999b56b8a6689c9ce25be52d0807fe12ed8c9e1b5b\",\n",
      "            \"puzzle_hash\": \"0x6ee43a3c617c5a1ec62ffeff1b605fb53ecc81ba8ccd4024eaff9befc53c6145\"\n",
      "        },\n",
      "        \"coinbase\": false,\n",
      "        \"confirmed_block_index\": 6,\n",
      "        \"spent_block_index\": 0,\n",
      "        \"timestamp\": 1664467253\n",
      "    }\n",
      "]\n"
     ]
    }
   ],
   "source": [
    "%%bash\n",
    "cdv rpc coinrecords --by puzzlehash \"6ee43a3c617c5a1ec62ffeff1b605fb53ecc81ba8ccd4024eaff9befc53c6145\""
   ]
  },
  {
   "cell_type": "markdown",
   "id": "d6b90f49-ef9a-41b9-a461-2691440e9f81",
   "metadata": {},
   "source": [
    "## Clawback"
   ]
  },
  {
   "cell_type": "code",
   "execution_count": 8,
   "id": "51586068-e2c6-496f-867a-9ef7553ae249",
   "metadata": {},
   "outputs": [
    {
     "data": {
      "text/plain": [
       "'ccd5bb71183532bff220ba46c268991a3ff07eb358e8255a65c30a2dce0e5fbb'"
      ]
     },
     "execution_count": 8,
     "metadata": {},
     "output_type": "execute_result"
    }
   ],
   "source": [
    "from chia.rpc.full_node_rpc_client import FullNodeRpcClient\n",
    "from chia.util.config import load_config\n",
    "from chia.util.default_root import DEFAULT_ROOT_PATH\n",
    "from chia.util.ints import uint16\n",
    "\n",
    "config = load_config(DEFAULT_ROOT_PATH, \"config.yaml\")\n",
    "selected_network = \"mainnet\"\n",
    "genesis_challenge = config[\"network_overrides\"][\"constants\"][selected_network][\"GENESIS_CHALLENGE\"]\n",
    "\n",
    "self_hostname = config[\"self_hostname\"] # localhost\n",
    "full_node_rpc_port = config[\"full_node\"][\"rpc_port\"] # 8555\n",
    "genesis_challenge"
   ]
  },
  {
   "cell_type": "code",
   "execution_count": 9,
   "id": "a7161942-4652-46d8-8790-0a62b438c1e8",
   "metadata": {},
   "outputs": [
    {
     "data": {
      "text/plain": [
       "Coin { parent_coin_info: df2cf850264c22b8bfe7da999b56b8a6689c9ce25be52d0807fe12ed8c9e1b5b, puzzle_hash: 6ee43a3c617c5a1ec62ffeff1b605fb53ecc81ba8ccd4024eaff9befc53c6145, amount: 1000000000001 }"
      ]
     },
     "execution_count": 9,
     "metadata": {},
     "output_type": "execute_result"
    }
   ],
   "source": [
    "full_node_client = await FullNodeRpcClient.create(\n",
    "    self_hostname, uint16(full_node_rpc_port), DEFAULT_ROOT_PATH, config\n",
    ")\n",
    "coin_records = await full_node_client.get_coin_records_by_puzzle_hash(alice_waiting_room_puzzle_hash)\n",
    "full_node_client.close()\n",
    "await full_node_client.await_closed()\n",
    "\n",
    "alice_waiting_room_puzzle_coin = coin_records[0].coin\n",
    "alice_waiting_room_puzzle_coin"
   ]
  },
  {
   "cell_type": "code",
   "execution_count": 10,
   "id": "b209f06f-0c98-4ea4-a8dc-a1ae193b55ca",
   "metadata": {},
   "outputs": [
    {
     "name": "stdout",
     "output_type": "stream",
     "text": [
      "{\n",
      "    \"coin\": {\n",
      "        \"amount\": 1000000000001,\n",
      "        \"parent_coin_info\": \"0xdf2cf850264c22b8bfe7da999b56b8a6689c9ce25be52d0807fe12ed8c9e1b5b\",\n",
      "        \"puzzle_hash\": \"0x6ee43a3c617c5a1ec62ffeff1b605fb53ecc81ba8ccd4024eaff9befc53c6145\"\n",
      "    },\n",
      "    \"puzzle_reveal\": \"0xff02ffff01ff02ffff01ff02ffff03ffff09ff12ff2f80ffff01ff04ffff04ff14ffff01ff648080ffff04ffff04ff16ffff04ff05ffff01ff8600e8d4a51000808080ffff04ffff04ff10ffff04ff0bffff01ff9072657475726e20746f2073656e646572808080ff80808080ffff01ff02ffff03ffff09ff1aff2f80ffff01ff04ffff04ff16ffff04ff3effff01ff8601d1a94a2001808080ffff04ffff04ff18ffff04ff17ff808080ffff04ffff04ff2effff04ff17ff808080ff80808080ffff01ff04ffff04ff1cffff04ff17ff808080ff808080ff018080ff0180ffff04ffff01ffffff323dff523fffff81ff01ff33ff3ea0eff07522495060c066f66f32acc2a77e3a3e737aca8baea4d1a64ea4cdc13da9ff018080ffff04ffff01a0d210b94e1c190321d74e68fa697a8da3dce5846bbaf9f2783ba345c431123387ffff04ffff01b096f75bf45d09491e8a5adaedbdb458f6ac46d9b6507a788fe58349f6eb2a56bfbc72bdd70a09eceb060b552f10fb1010ff01808080\",\n",
      "    \"solution\": \"0xff84900ddeedff81ff80\"\n",
      "}\n"
     ]
    }
   ],
   "source": [
    "from utils import print_json\n",
    "from chia.types.coin_spend import CoinSpend\n",
    "\n",
    "#  (defconstant CLAWBACK -1)\n",
    "solution = Program.to([\n",
    "    bytes.fromhex('900ddeed'), # launcher_coin_announcement\n",
    "    -1\n",
    "])\n",
    "\n",
    "coin_spend = CoinSpend(\n",
    "        alice_waiting_room_puzzle_coin,\n",
    "        alice_waiting_room_puzzle,\n",
    "        solution\n",
    ")\n",
    "print_json(coin_spend.to_json_dict())"
   ]
  },
  {
   "cell_type": "code",
   "execution_count": 11,
   "id": "a6584f6e-32fc-4f35-9a24-0518cd042356",
   "metadata": {},
   "outputs": [
    {
     "name": "stdout",
     "output_type": "stream",
     "text": [
      "{\n",
      "    \"aggregated_signature\": \"0x96e063d6508437059da8a062fe0c7ee03820633d0a62a6c27f4d6a18078394dc0a604f6e340ceb865ad8273a32608eae06d96d6aadeec3bb63ada4b6ebb6ce198115394a7461a54d1829a4951d703cbf4203f3704238bf3e4c31c1ca00956ee2\",\n",
      "    \"coin_spends\": [\n",
      "        {\n",
      "            \"coin\": {\n",
      "                \"amount\": 1000000000001,\n",
      "                \"parent_coin_info\": \"0xdf2cf850264c22b8bfe7da999b56b8a6689c9ce25be52d0807fe12ed8c9e1b5b\",\n",
      "                \"puzzle_hash\": \"0x6ee43a3c617c5a1ec62ffeff1b605fb53ecc81ba8ccd4024eaff9befc53c6145\"\n",
      "            },\n",
      "            \"puzzle_reveal\": \"0xff02ffff01ff02ffff01ff02ffff03ffff09ff12ff2f80ffff01ff04ffff04ff14ffff01ff648080ffff04ffff04ff16ffff04ff05ffff01ff8600e8d4a51000808080ffff04ffff04ff10ffff04ff0bffff01ff9072657475726e20746f2073656e646572808080ff80808080ffff01ff02ffff03ffff09ff1aff2f80ffff01ff04ffff04ff16ffff04ff3effff01ff8601d1a94a2001808080ffff04ffff04ff18ffff04ff17ff808080ffff04ffff04ff2effff04ff17ff808080ff80808080ffff01ff04ffff04ff1cffff04ff17ff808080ff808080ff018080ff0180ffff04ffff01ffffff323dff523fffff81ff01ff33ff3ea0eff07522495060c066f66f32acc2a77e3a3e737aca8baea4d1a64ea4cdc13da9ff018080ffff04ffff01a0d210b94e1c190321d74e68fa697a8da3dce5846bbaf9f2783ba345c431123387ffff04ffff01b096f75bf45d09491e8a5adaedbdb458f6ac46d9b6507a788fe58349f6eb2a56bfbc72bdd70a09eceb060b552f10fb1010ff01808080\",\n",
      "            \"solution\": \"0xff84900ddeedff81ff80\"\n",
      "        }\n",
      "    ]\n",
      "}\n"
     ]
    }
   ],
   "source": [
    "from chia.types.spend_bundle import SpendBundle\n",
    "\n",
    "\n",
    "message: bytes = bytes(\"return to sender\", \"utf-8\")\n",
    "sig: G2Element = AugSchemeMPL.sign(\n",
    "    alice_sk,\n",
    "    message\n",
    "    + alice_waiting_room_puzzle_coin.name()\n",
    "    #+ bytes.fromhex(genesis_challenge),\n",
    "    + bytes.fromhex(\"ccd5bb71183532bff220ba46c268991a3ff07eb358e8255a65c30a2dce0e5fbb\")\n",
    ")\n",
    "\n",
    "spend_bundle = SpendBundle([coin_spend], sig)\n",
    "print_json(spend_bundle.to_json_dict(include_legacy_keys = False, exclude_modern_keys = False))"
   ]
  },
  {
   "cell_type": "markdown",
   "id": "165c917f-7081-4edc-8caf-2b2c38530a6e",
   "metadata": {},
   "source": [
    "## Clawback is not available yet"
   ]
  },
  {
   "cell_type": "code",
   "execution_count": 12,
   "id": "11a379c0-6259-4f7f-aea1-686110f9da93",
   "metadata": {},
   "outputs": [
    {
     "name": "stdout",
     "output_type": "stream",
     "text": [
      "Farmed 10 Transaction blocks\n",
      "Block Height is now: 16\n",
      "16\n"
     ]
    }
   ],
   "source": [
    "%%bash\n",
    "cdv sim -n tic-tac-toe farm --blocks 10\n",
    "chia rpc full_node get_blockchain_state | jq \".blockchain_state.peak.height\""
   ]
  },
  {
   "cell_type": "code",
   "execution_count": 13,
   "id": "4c70e881-7368-485d-9cd5-2c87a7cd2f91",
   "metadata": {},
   "outputs": [
    {
     "name": "stdout",
     "output_type": "stream",
     "text": [
      "{'status': 'PENDING', 'success': True}\n"
     ]
    }
   ],
   "source": [
    "full_node_client = await FullNodeRpcClient.create(\n",
    "    self_hostname, uint16(full_node_rpc_port), DEFAULT_ROOT_PATH, config\n",
    ")\n",
    "result = await full_node_client.push_tx(spend_bundle)\n",
    "full_node_client.close()\n",
    "await full_node_client.await_closed()\n",
    "print(result)"
   ]
  },
  {
   "cell_type": "markdown",
   "id": "97deff06-2594-4d8a-8e0f-6e9a72ed3303",
   "metadata": {},
   "source": [
    "## Clawback is available"
   ]
  },
  {
   "cell_type": "code",
   "execution_count": 12,
   "id": "e7f8d9d6-2513-4c7c-9257-a2dfd0938a2d",
   "metadata": {},
   "outputs": [
    {
     "name": "stdout",
     "output_type": "stream",
     "text": [
      "Farmed 100 Transaction blocks\n",
      "Block Height is now: 239\n",
      "239\n"
     ]
    }
   ],
   "source": [
    "%%bash\n",
    "cdv sim -n tic-tac-toe farm --blocks 100\n",
    "chia rpc full_node get_blockchain_state | jq \".blockchain_state.peak.height\""
   ]
  },
  {
   "cell_type": "code",
   "execution_count": 13,
   "id": "e7ff37de-670b-4abc-a83e-e5ff85318821",
   "metadata": {},
   "outputs": [
    {
     "name": "stdout",
     "output_type": "stream",
     "text": [
      "{'status': 'SUCCESS', 'success': True}\n"
     ]
    }
   ],
   "source": [
    "full_node_client = await FullNodeRpcClient.create(\n",
    "    self_hostname, uint16(full_node_rpc_port), DEFAULT_ROOT_PATH, config\n",
    ")\n",
    "result = await full_node_client.push_tx(spend_bundle)\n",
    "full_node_client.close()\n",
    "await full_node_client.await_closed()\n",
    "print(result)"
   ]
  },
  {
   "cell_type": "code",
   "execution_count": 17,
   "id": "d4f745d0-5f74-4239-a5b3-8423d376339e",
   "metadata": {},
   "outputs": [
    {
     "data": {
      "text/plain": [
       "CoinRecord(coin=Coin { parent_coin_info: df2cf850264c22b8bfe7da999b56b8a6689c9ce25be52d0807fe12ed8c9e1b5b, puzzle_hash: 6ee43a3c617c5a1ec62ffeff1b605fb53ecc81ba8ccd4024eaff9befc53c6145, amount: 1000000000001 }, confirmed_block_index=6, spent_block_index=240, coinbase=False, timestamp=1664467253)"
      ]
     },
     "execution_count": 17,
     "metadata": {},
     "output_type": "execute_result"
    }
   ],
   "source": [
    "# farm\n",
    "full_node_client = await FullNodeRpcClient.create(\n",
    "    self_hostname, uint16(full_node_rpc_port), DEFAULT_ROOT_PATH, config\n",
    ")\n",
    "coin_records = await full_node_client.get_coin_records_by_puzzle_hash(alice_waiting_room_puzzle_hash)\n",
    "full_node_client.close()\n",
    "await full_node_client.await_closed()\n",
    "\n",
    "coin_records[0]"
   ]
  }
 ],
 "metadata": {
  "kernelspec": {
   "display_name": "Python 3 (ipykernel)",
   "language": "python",
   "name": "python3"
  },
  "language_info": {
   "codemirror_mode": {
    "name": "ipython",
    "version": 3
   },
   "file_extension": ".py",
   "mimetype": "text/x-python",
   "name": "python",
   "nbconvert_exporter": "python",
   "pygments_lexer": "ipython3",
   "version": "3.10.6"
  }
 },
 "nbformat": 4,
 "nbformat_minor": 5
}
