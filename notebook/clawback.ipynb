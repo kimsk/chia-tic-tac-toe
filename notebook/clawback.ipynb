{
 "cells": [
  {
   "cell_type": "code",
   "execution_count": 1,
   "id": "34ac8390-1159-453d-9e07-d1a4ccd46322",
   "metadata": {},
   "outputs": [
    {
     "name": "stdout",
     "output_type": "stream",
     "text": [
      "1.6.1a2.dev20\n",
      "cdv, version 1.1.1\n",
      "Python 3.10.6\n"
     ]
    }
   ],
   "source": [
    "%%bash\n",
    "chia version\n",
    "cdv --version\n",
    "python --version"
   ]
  },
  {
   "cell_type": "code",
   "execution_count": 2,
   "id": "a6a53c65-b5e3-49b6-b40c-18a065f8174c",
   "metadata": {},
   "outputs": [],
   "source": [
    "# chia libraries\n",
    "from blspy import (PrivateKey, AugSchemeMPL, G1Element, G2Element)\n",
    "from chia.types.blockchain_format.program import Program\n",
    "from chia.wallet.puzzles import (p2_delegated_puzzle_or_hidden_puzzle)\n",
    "# utils & tic tac toe helper code\n",
    "import sys\n",
    "sys.path.insert(0, \"../code\")\n",
    "from utils import (load_program, print_program, print_puzzle, print_json)\n",
    "import singleton_utils\n",
    "import tic_tac_toe\n",
    "\n",
    "# puzzles\n",
    "tic_tac_toe_puzzle = load_program(\"../code/tic-tac-toe.clsp\", [\"../code\"])\n",
    "coin_puzzle = load_program(\"../code/coin.clsp\", [\"../code\"])\n",
    "terminate_puzzle = load_program(\"../code/terminate-game.clsp\", [\"../code\"])\n",
    "\n",
    "waiting_room_puzzle = load_program(\"../code/waiting-room.clsp\", [\"../code\"])\n",
    "play_amount = 1_000_000_000_000"
   ]
  },
  {
   "cell_type": "code",
   "execution_count": 3,
   "id": "b19ef544-fdd6-4109-95fc-95f34e24f485",
   "metadata": {},
   "outputs": [],
   "source": [
    "# from setup-sim notebook\n",
    "# alice 4070016934\n",
    "alice_pk = G1Element.from_bytes(bytes.fromhex(\"96f75bf45d09491e8a5adaedbdb458f6ac46d9b6507a788fe58349f6eb2a56bfbc72bdd70a09eceb060b552f10fb1010\"))\n",
    "alice_puzzle_hash = p2_delegated_puzzle_or_hidden_puzzle.puzzle_for_pk(alice_pk).get_tree_hash()\n",
    "\n",
    "# prepare players info\n",
    "player_one_info = Program.to([alice_pk, alice_puzzle_hash])"
   ]
  },
  {
   "cell_type": "code",
   "execution_count": 4,
   "id": "8ad52d5f-b9af-4ed4-966a-25cc9509184d",
   "metadata": {},
   "outputs": [
    {
     "data": {
      "text/plain": [
       "'txch194n24esv92hzz574frun8wsegt4vyv3ncsp5hyleav42c6dm0kmse727kn'"
      ]
     },
     "execution_count": 4,
     "metadata": {},
     "output_type": "execute_result"
    }
   ],
   "source": [
    "from chia.util.bech32m import encode_puzzle_hash\n",
    "## alice\n",
    "alice_waiting_room_puzzle = waiting_room_puzzle.curry(\n",
    "    alice_puzzle_hash,\n",
    "    alice_pk\n",
    ")\n",
    "alice_waiting_room_puzzle_hash = alice_waiting_room_puzzle.get_tree_hash()\n",
    "alice_waiting_room_address = encode_puzzle_hash(alice_waiting_room_puzzle_hash, \"txch\")\n",
    "alice_waiting_room_address"
   ]
  },
  {
   "cell_type": "markdown",
   "id": "7d362e05-2bdc-404d-a694-fe716e7dfcae",
   "metadata": {},
   "source": [
    "# Create Alice's Waiting Room Coin"
   ]
  },
  {
   "cell_type": "code",
   "execution_count": 5,
   "id": "d3f7ce88-e441-4d51-a1db-594c1a2eda2d",
   "metadata": {},
   "outputs": [
    {
     "name": "stdout",
     "output_type": "stream",
     "text": [
      "Submitting transaction...\n",
      "Transaction submitted to nodes: [{'peer_id': '38401aad891c6ecd90a91150989b51e9c86d844e07387ed77338beda85b199e7', 'inclusion_status': 'SUCCESS', 'error_msg': None}]\n",
      "Run 'chia wallet get_transaction -f 4070016934 -tx 0x9a21ed76562ac49439ab14475b4165ea43999d97e7f97b127067405f5318cfa9' to get status\n"
     ]
    }
   ],
   "source": [
    "%%bash\n",
    "chia wallet send -f 4070016934 -t txch194n24esv92hzz574frun8wsegt4vyv3ncsp5hyleav42c6dm0kmse727kn -a 1.000000000001"
   ]
  },
  {
   "cell_type": "code",
   "execution_count": 6,
   "id": "1f313f32-9d30-4c90-b0cb-fc70d3bfcfd8",
   "metadata": {},
   "outputs": [
    {
     "name": "stdout",
     "output_type": "stream",
     "text": [
      "2d66aae60c2aae2153d548f933ba1942eac23233c4034b93f9eb2aac69bb7db7\n"
     ]
    }
   ],
   "source": [
    "%%bash\n",
    "cdv decode txch194n24esv92hzz574frun8wsegt4vyv3ncsp5hyleav42c6dm0kmse727kn"
   ]
  },
  {
   "cell_type": "code",
   "execution_count": 7,
   "id": "7fa51364-37e6-469d-a0af-8677cc50619c",
   "metadata": {},
   "outputs": [
    {
     "name": "stdout",
     "output_type": "stream",
     "text": [
      "[\n",
      "    {\n",
      "        \"coin\": {\n",
      "            \"amount\": 1000000000001,\n",
      "            \"parent_coin_info\": \"0xdf2cf850264c22b8bfe7da999b56b8a6689c9ce25be52d0807fe12ed8c9e1b5b\",\n",
      "            \"puzzle_hash\": \"0x2d66aae60c2aae2153d548f933ba1942eac23233c4034b93f9eb2aac69bb7db7\"\n",
      "        },\n",
      "        \"coinbase\": false,\n",
      "        \"confirmed_block_index\": 6,\n",
      "        \"spent_block_index\": 0,\n",
      "        \"timestamp\": 1664270246\n",
      "    }\n",
      "]\n"
     ]
    }
   ],
   "source": [
    "%%bash\n",
    "cdv rpc coinrecords --by puzzlehash \"2d66aae60c2aae2153d548f933ba1942eac23233c4034b93f9eb2aac69bb7db7\""
   ]
  },
  {
   "cell_type": "markdown",
   "id": "d6b90f49-ef9a-41b9-a461-2691440e9f81",
   "metadata": {},
   "source": [
    "## Clawback"
   ]
  },
  {
   "cell_type": "code",
   "execution_count": 9,
   "id": "a5af2f6f-9eb1-4525-9e7f-a0c259aa4265",
   "metadata": {},
   "outputs": [
    {
     "name": "stdout",
     "output_type": "stream",
     "text": [
      "Farmed 10 Transaction blocks\n",
      "Block Height is now: 16\n"
     ]
    }
   ],
   "source": [
    "%%bash\n",
    "cdv sim -n tic-tac-toe farm --blocks 10"
   ]
  },
  {
   "cell_type": "markdown",
   "id": "5dd1b2ce-e768-41bb-937e-bf0510cd34a1",
   "metadata": {},
   "source": [
    "## Clawback is not available yet"
   ]
  },
  {
   "cell_type": "code",
   "execution_count": 10,
   "id": "51586068-e2c6-496f-867a-9ef7553ae249",
   "metadata": {},
   "outputs": [
    {
     "data": {
      "text/plain": [
       "Coin { parent_coin_info: df2cf850264c22b8bfe7da999b56b8a6689c9ce25be52d0807fe12ed8c9e1b5b, puzzle_hash: 2d66aae60c2aae2153d548f933ba1942eac23233c4034b93f9eb2aac69bb7db7, amount: 1000000000001 }"
      ]
     },
     "execution_count": 10,
     "metadata": {},
     "output_type": "execute_result"
    }
   ],
   "source": [
    "from chia.rpc.full_node_rpc_client import FullNodeRpcClient\n",
    "from chia.util.config import load_config\n",
    "from chia.util.default_root import DEFAULT_ROOT_PATH\n",
    "from chia.util.ints import uint16\n",
    "\n",
    "config = load_config(DEFAULT_ROOT_PATH, \"config.yaml\")\n",
    "selected_network = config[\"selected_network\"]\n",
    "genesis_challenge = config[\"farmer\"][\"network_overrides\"][\"constants\"][selected_network][\"GENESIS_CHALLENGE\"]\n",
    "\n",
    "self_hostname = config[\"self_hostname\"] # localhost\n",
    "full_node_rpc_port = config[\"full_node\"][\"rpc_port\"] # 8555\n",
    "full_node_client = await FullNodeRpcClient.create(\n",
    "    self_hostname, uint16(full_node_rpc_port), DEFAULT_ROOT_PATH, config\n",
    ")\n",
    "coin_records = await full_node_client.get_coin_records_by_puzzle_hash(alice_waiting_room_puzzle_hash)\n",
    "full_node_client.close()\n",
    "await full_node_client.await_closed()\n",
    "\n",
    "alice_waiting_room_puzzle_coin = coin_records[0].coin\n",
    "alice_waiting_room_puzzle_coin"
   ]
  },
  {
   "cell_type": "code",
   "execution_count": null,
   "id": "d2dc0822-7624-497b-b8f3-79cc68b209cb",
   "metadata": {},
   "outputs": [],
   "source": []
  }
 ],
 "metadata": {
  "kernelspec": {
   "display_name": "Python 3 (ipykernel)",
   "language": "python",
   "name": "python3"
  },
  "language_info": {
   "codemirror_mode": {
    "name": "ipython",
    "version": 3
   },
   "file_extension": ".py",
   "mimetype": "text/x-python",
   "name": "python",
   "nbconvert_exporter": "python",
   "pygments_lexer": "ipython3",
   "version": "3.10.6"
  }
 },
 "nbformat": 4,
 "nbformat_minor": 5
}
