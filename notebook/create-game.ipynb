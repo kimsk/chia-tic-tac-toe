{
 "cells": [
  {
   "cell_type": "code",
   "execution_count": 1,
   "id": "09785456-5ff3-4e89-85e1-9137a7c030d1",
   "metadata": {},
   "outputs": [
    {
     "name": "stdout",
     "output_type": "stream",
     "text": [
      "1.6.1b3.dev43\n",
      "cdv, version 1.1.2\n",
      "Python 3.10.6\n"
     ]
    }
   ],
   "source": [
    "%%bash\n",
    "chia version\n",
    "cdv --version\n",
    "python --version"
   ]
  },
  {
   "cell_type": "code",
   "execution_count": 2,
   "id": "997536c4-41e0-488b-ad80-0178fee9bca7",
   "metadata": {},
   "outputs": [],
   "source": [
    "# chia libraries\n",
    "from blspy import (PrivateKey, AugSchemeMPL, G1Element, G2Element)\n",
    "from chia.types.blockchain_format.program import Program\n",
    "from chia.wallet.puzzles import (p2_delegated_puzzle_or_hidden_puzzle)\n",
    "# utils & tic tac toe helper code\n",
    "import sys\n",
    "sys.path.insert(0, \"../code\")\n",
    "from utils import (load_program, print_program, print_puzzle, print_json)\n",
    "import singleton_utils\n",
    "import tic_tac_toe\n",
    "\n",
    "# puzzles\n",
    "tic_tac_toe_puzzle = load_program(\"../code/tic-tac-toe.clsp\", [\"../code\"])\n",
    "coin_puzzle = load_program(\"../code/coin.clsp\", [\"../code\"])\n",
    "terminate_puzzle = load_program(\"../code/terminate-game.clsp\", [\"../code\"])\n",
    "\n",
    "waiting_room_puzzle = load_program(\"../code/waiting-room.clsp\", [\"../code\"])"
   ]
  },
  {
   "cell_type": "code",
   "execution_count": 3,
   "id": "08ef0269-61da-4453-b2aa-1e885f2694cd",
   "metadata": {},
   "outputs": [],
   "source": [
    "# from setup-sim notebook\n",
    "# alice 4070016934\n",
    "# bob 861183802\n",
    "alice_pk = G1Element.from_bytes(bytes.fromhex(\"96f75bf45d09491e8a5adaedbdb458f6ac46d9b6507a788fe58349f6eb2a56bfbc72bdd70a09eceb060b552f10fb1010\"))\n",
    "alice_puzzle_hash = p2_delegated_puzzle_or_hidden_puzzle.puzzle_for_pk(alice_pk).get_tree_hash()\n",
    "bob_pk = G1Element.from_bytes(bytes.fromhex(\"b1bc8cb3442693d6093df74dc975f81b74ac1438290341a13feb94af6f08fd613fcd509abb773612b5fe68851b56f64a\"))\n",
    "bob_puzzle_hash = p2_delegated_puzzle_or_hidden_puzzle.puzzle_for_pk(bob_pk).get_tree_hash()\n",
    "\n",
    "# prepare players info\n",
    "player_one_info = Program.to([alice_pk, alice_puzzle_hash])\n",
    "player_two_info = Program.to([bob_pk, bob_puzzle_hash])"
   ]
  },
  {
   "cell_type": "code",
   "execution_count": 4,
   "id": "3f03df8a-d122-4e36-89a8-01c5b4c4d84a",
   "metadata": {},
   "outputs": [
    {
     "name": "stdout",
     "output_type": "stream",
     "text": [
      "[\n",
      "    {\n",
      "        \"coin\": {\n",
      "            \"amount\": 1000000000001,\n",
      "            \"parent_coin_info\": \"0xdf2cf850264c22b8bfe7da999b56b8a6689c9ce25be52d0807fe12ed8c9e1b5b\",\n",
      "            \"puzzle_hash\": \"0x6ee43a3c617c5a1ec62ffeff1b605fb53ecc81ba8ccd4024eaff9befc53c6145\"\n",
      "        },\n",
      "        \"coinbase\": false,\n",
      "        \"confirmed_block_index\": 6,\n",
      "        \"spent_block_index\": 0,\n",
      "        \"timestamp\": 1664895510\n",
      "    }\n",
      "]\n",
      "[\n",
      "    {\n",
      "        \"coin\": {\n",
      "            \"amount\": 1000000000000,\n",
      "            \"parent_coin_info\": \"0xfc669e48c63de848a7159610118f21d96efeb328af1876afd91a17cf1fecda97\",\n",
      "            \"puzzle_hash\": \"0x5dcd5eca9a5919a0e435b671bd693bfdf845383563ae8565ae66bcdc3f27b598\"\n",
      "        },\n",
      "        \"coinbase\": false,\n",
      "        \"confirmed_block_index\": 6,\n",
      "        \"spent_block_index\": 0,\n",
      "        \"timestamp\": 1664895510\n",
      "    }\n",
      "]\n"
     ]
    }
   ],
   "source": [
    "%%bash\n",
    "# two waiting-room-coins\n",
    "cdv rpc coinrecords --by puzzlehash \"6ee43a3c617c5a1ec62ffeff1b605fb53ecc81ba8ccd4024eaff9befc53c6145\"\n",
    "cdv rpc coinrecords --by puzzlehash \"5dcd5eca9a5919a0e435b671bd693bfdf845383563ae8565ae66bcdc3f27b598\""
   ]
  },
  {
   "cell_type": "markdown",
   "id": "de7375a3-bda5-4d0f-8b82-6477a4fe0e53",
   "metadata": {},
   "source": [
    "# Create Game Coin\n",
    "> Two waiting room coins available from Alice and Bob\n",
    "\n",
    "[waiting-room.clsp](../code/waiting-room.clsp)\n",
    "```clojure\n",
    "(mod (OWNER_PUZZLE_HASH PK action)\n",
    "```"
   ]
  },
  {
   "cell_type": "code",
   "execution_count": 5,
   "id": "75acf273-2312-4762-8b24-d04738782cba",
   "metadata": {},
   "outputs": [
    {
     "data": {
      "text/plain": [
       "'txch1dmjr50rp03dpa330lml3kczlk5lveqd63nx5qf82l7d7l3fuv9zsdq4rrm'"
      ]
     },
     "execution_count": 5,
     "metadata": {},
     "output_type": "execute_result"
    }
   ],
   "source": [
    "from chia.util.bech32m import encode_puzzle_hash\n",
    "## alice\n",
    "alice_waiting_room_puzzle = waiting_room_puzzle.curry(\n",
    "    alice_puzzle_hash,\n",
    "    alice_pk\n",
    ")\n",
    "alice_waiting_room_puzzle_hash = alice_waiting_room_puzzle.get_tree_hash()\n",
    "alice_waiting_room_address = encode_puzzle_hash(alice_waiting_room_puzzle_hash, \"txch\")\n",
    "alice_waiting_room_address"
   ]
  },
  {
   "cell_type": "code",
   "execution_count": 6,
   "id": "181affe9-cd95-49ee-bf17-1b37f0a451e2",
   "metadata": {},
   "outputs": [
    {
     "data": {
      "text/plain": [
       "'txch1thx4aj56tyv6pep4kecm66fmlhuy2wp4vwhg2edwv67dc0e8kkvqyscpvq'"
      ]
     },
     "execution_count": 6,
     "metadata": {},
     "output_type": "execute_result"
    }
   ],
   "source": [
    "## bob\n",
    "bob_waiting_room_puzzle = waiting_room_puzzle.curry(\n",
    "    bob_puzzle_hash,\n",
    "    bob_pk\n",
    ")\n",
    "bob_waiting_room_puzzle_hash = bob_waiting_room_puzzle.get_tree_hash()\n",
    "bob_waiting_room_address = encode_puzzle_hash(bob_waiting_room_puzzle_hash, \"txch\")\n",
    "bob_waiting_room_address"
   ]
  },
  {
   "cell_type": "markdown",
   "id": "318a7494-6109-4805-8abb-4b0dea7ceea3",
   "metadata": {},
   "source": [
    "## Terminate Puzzle (Curried)\n",
    "[terminate-game.clsp](../code/terminate-game.clsp)\n",
    "```clojure\n",
    "(mod (IS_SINGLETON PLAYER_ONE_HASH PLAYER_TWO_HASH P2_AMOUNT play_result)\n",
    "```"
   ]
  },
  {
   "cell_type": "code",
   "execution_count": 7,
   "id": "b31bb6b0-d2be-44b3-8412-1789595844e1",
   "metadata": {},
   "outputs": [],
   "source": [
    "player_amount = 1_000_000_000_000\n",
    "player_fee = 50_000_000\n",
    "p2_amount = player_amount - player_fee\n",
    "game_amount = (player_amount * 2) + 1 # odd amount for singleton\n",
    "curried_terminate_puzzle = terminate_puzzle.curry(\n",
    "    1, # Terminate Singleton Coin\n",
    "    alice_puzzle_hash,\n",
    "    bob_puzzle_hash,\n",
    "    p2_amount\n",
    ")"
   ]
  },
  {
   "cell_type": "markdown",
   "id": "25f2d0e5-c213-4710-8466-9dbfb1d6ed64",
   "metadata": {},
   "source": [
    "## Coin Puzzle (Curried)\n",
    "[coin.clsp](../code/coin.clsp)\n",
    "```clojure\n",
    "(mod (MOD TERMINATE_PUZZLE PLAYER_ONE_INFO PLAYER_TWO_INFO CURRIED_TIC_TAC_TOE_PUZZLE AMOUNT position)\n",
    "```"
   ]
  },
  {
   "cell_type": "code",
   "execution_count": 8,
   "id": "bb0db5a8-3936-4404-9f03-f708efd5fa4e",
   "metadata": {},
   "outputs": [],
   "source": [
    "def get_coin_puzzle(board, player):\n",
    "    # (mod (BOARD V pos)\n",
    "    curried_tic_tac_toe_puzzle = tic_tac_toe_puzzle.curry(\n",
    "            Program.to(board), \n",
    "            Program.to(player)\n",
    "        ) \n",
    "\n",
    "    #(mod (MOD PLAYER_ONE_INFO PLAYER_TWO_INFO CURRIED_TIC_TAC_TOE_PUZZLE amount position)\n",
    "    curried_coin_puzzle = coin_puzzle.curry(\n",
    "        coin_puzzle,\n",
    "        curried_terminate_puzzle,\n",
    "        player_one_info,\n",
    "        player_two_info,\n",
    "        curried_tic_tac_toe_puzzle,\n",
    "        game_amount)\n",
    "    return curried_coin_puzzle\n",
    "\n",
    "curried_coin_puzzle = get_coin_puzzle([' '] * 9, 'x')"
   ]
  },
  {
   "cell_type": "markdown",
   "id": "064827c3-132a-40d6-a8e8-96f8d961972f",
   "metadata": {},
   "source": [
    "## Launcher Coin"
   ]
  },
  {
   "cell_type": "code",
   "execution_count": 26,
   "id": "6bb3af7a-b4a8-48ec-8d81-55da45fea33f",
   "metadata": {},
   "outputs": [
    {
     "name": "stdout",
     "output_type": "stream",
     "text": [
      "alice_waiting_room_coin:\n",
      " {'parent_coin_info': '0xdf2cf850264c22b8bfe7da999b56b8a6689c9ce25be52d0807fe12ed8c9e1b5b', 'puzzle_hash': '0x6ee43a3c617c5a1ec62ffeff1b605fb53ecc81ba8ccd4024eaff9befc53c6145', 'amount': 1000000000001}\n",
      "\n",
      "bob_waiting_room_coin:\n",
      " {'parent_coin_info': '0xfc669e48c63de848a7159610118f21d96efeb328af1876afd91a17cf1fecda97', 'puzzle_hash': '0x5dcd5eca9a5919a0e435b671bd693bfdf845383563ae8565ae66bcdc3f27b598', 'amount': 1000000000000}\n"
     ]
    }
   ],
   "source": [
    "from chia.rpc.full_node_rpc_client import FullNodeRpcClient\n",
    "from chia.util.config import load_config\n",
    "from chia.util.default_root import DEFAULT_ROOT_PATH\n",
    "from chia.util.ints import uint16\n",
    "\n",
    "config = load_config(DEFAULT_ROOT_PATH, \"config.yaml\")\n",
    "selected_network = \"mainnet\"\n",
    "genesis_challenge = config[\"farmer\"][\"network_overrides\"][\"constants\"][selected_network][\"GENESIS_CHALLENGE\"]\n",
    "\n",
    "self_hostname = config[\"self_hostname\"] # localhost\n",
    "full_node_rpc_port = config[\"full_node\"][\"rpc_port\"] # 8555\n",
    "full_node_client = await FullNodeRpcClient.create(\n",
    "    self_hostname, uint16(full_node_rpc_port), DEFAULT_ROOT_PATH, config\n",
    ")\n",
    "coin_records = await full_node_client.get_coin_records_by_puzzle_hash(alice_waiting_room_puzzle_hash)\n",
    "full_node_client.close()\n",
    "await full_node_client.await_closed()\n",
    "\n",
    "alice_waiting_room_coin = coin_records[0].coin\n",
    "print(f'alice_waiting_room_coin:\\n {alice_waiting_room_coin.to_json_dict()}')\n",
    "print()\n",
    "full_node_client = await FullNodeRpcClient.create(\n",
    "    self_hostname, uint16(full_node_rpc_port), DEFAULT_ROOT_PATH, config\n",
    ")\n",
    "coin_records = await full_node_client.get_coin_records_by_puzzle_hash(bob_waiting_room_puzzle_hash)\n",
    "full_node_client.close()\n",
    "await full_node_client.await_closed()\n",
    "\n",
    "bob_waiting_room_coin = coin_records[0].coin\n",
    "print(f'bob_waiting_room_coin:\\n {bob_waiting_room_coin.to_json_dict()}')"
   ]
  },
  {
   "cell_type": "code",
   "execution_count": 12,
   "id": "c8b3c51b-e404-4c8e-9be5-7f576edaf803",
   "metadata": {},
   "outputs": [
    {
     "name": "stdout",
     "output_type": "stream",
     "text": [
      "\n",
      "launcher id: b341aa0befd1a1b9199677fff0a8874cc6f2a26dc20b70f5b4810a74bf9b3aa2\n"
     ]
    },
    {
     "data": {
      "text/plain": [
       "Coin { parent_coin_info: c9aa560dc25dedbaa2a7a6180d39299595ba1ac1ca677f9f5f1eecb5874b82aa, puzzle_hash: eff07522495060c066f66f32acc2a77e3a3e737aca8baea4d1a64ea4cdc13da9, amount: 2000000000001 }"
      ]
     },
     "execution_count": 12,
     "metadata": {},
     "output_type": "execute_result"
    }
   ],
   "source": [
    "from chia.types.blockchain_format.coin import Coin\n",
    "from chia.types.coin_spend import CoinSpend\n",
    "from chia.wallet.puzzles import singleton_top_layer_v1_1\n",
    "\n",
    "# prepare launcher coin\n",
    "launcher_coin = Coin(\n",
    "    alice_waiting_room_puzzle_coin.name(), # waiting_room's coin spend creates the launcher coin\n",
    "    singleton_top_layer_v1_1.SINGLETON_LAUNCHER_HASH, \n",
    "    game_amount\n",
    ")\n",
    "\n",
    "launcher_id = launcher_coin.name()\n",
    "print(f'\\nlauncher id: {launcher_id.hex()}')\n",
    "\n",
    "singleton_struct = (\n",
    "    singleton_top_layer_v1_1.SINGLETON_MOD_HASH, \n",
    "    (launcher_id, singleton_top_layer_v1_1.SINGLETON_LAUNCHER_HASH)\n",
    ")\n",
    "\n",
    "singleton_puzzle = singleton_top_layer_v1_1.SINGLETON_MOD.curry(\n",
    "    singleton_struct,\n",
    "    curried_coin_puzzle, # tic tac toe coin puzzle\n",
    ")\n",
    "launcher_coin"
   ]
  },
  {
   "cell_type": "markdown",
   "id": "a9f2c9da-43ce-4d35-ac7b-4ba6180325e0",
   "metadata": {},
   "source": [
    "### Singleton Launcher\n",
    "[singleton_top_layer.clvm](https://github.com/Chia-Network/chia-blockchain/blob/main/chia/wallet/puzzles/singleton_top_layer.clvm)\n",
    "[singleton_launcher.clvm](https://github.com/Chia-Network/chia-blockchain/blob/main/chia/wallet/puzzles/singleton_launcher.clvm)\n",
    "```clojure\n",
    "(mod (singleton_full_puzzle_hash amount key_value_list)\n",
    "```"
   ]
  },
  {
   "cell_type": "code",
   "execution_count": 13,
   "id": "57144da0-806b-43a0-984f-7ced1ba5dbc0",
   "metadata": {},
   "outputs": [
    {
     "name": "stdout",
     "output_type": "stream",
     "text": [
      "e313cb637e7ac4a16b51584d31e7166530ff37546d192e9bd6f8d19e453eb36c\n",
      "{\n",
      "    \"coin\": {\n",
      "        \"amount\": 2000000000001,\n",
      "        \"parent_coin_info\": \"0xc9aa560dc25dedbaa2a7a6180d39299595ba1ac1ca677f9f5f1eecb5874b82aa\",\n",
      "        \"puzzle_hash\": \"0xeff07522495060c066f66f32acc2a77e3a3e737aca8baea4d1a64ea4cdc13da9\"\n",
      "    },\n",
      "    \"puzzle_reveal\": \"0xff02ffff01ff04ffff04ff04ffff04ff05ffff04ff0bff80808080ffff04ffff04ff0affff04ffff02ff0effff04ff02ffff04ffff04ff05ffff04ff0bffff04ff17ff80808080ff80808080ff808080ff808080ffff04ffff01ff33ff3cff02ffff03ffff07ff0580ffff01ff0bffff0102ffff02ff0effff04ff02ffff04ff09ff80808080ffff02ff0effff04ff02ffff04ff0dff8080808080ffff01ff0bffff0101ff058080ff0180ff018080\",\n",
      "    \"solution\": \"0xffa0d3f29a4d3413d20d8bf5691beb8c9b6e15c953b4f4ad71d5e5ed35869b0d4afcff8601d1a94a2001ffffff8467616d658b7469632074616320746f65ffff8a706c61796572206f6e65a0d210b94e1c190321d74e68fa697a8da3dce5846bbaf9f2783ba345c431123387ffff8a706c617965722074776fa03ac42b719d0b34879714d1e601721f08ba317862d2118fa16aa7e8bf1a19657b8080\"\n",
      "}\n"
     ]
    }
   ],
   "source": [
    "launcher_solution = Program.to(\n",
    "    [\n",
    "        singleton_puzzle.get_tree_hash(),\n",
    "        game_amount,\n",
    "        [\n",
    "            (\"game\", \"tic tac toe\"), \n",
    "            (\"player one\", alice_puzzle_hash),\n",
    "            (\"player two\", bob_puzzle_hash),\n",
    "        ]\n",
    "    ]\n",
    ")\n",
    "launcher_announcement = launcher_solution.get_tree_hash()\n",
    "print(launcher_announcement)\n",
    "\n",
    "launcher_coin_spend = CoinSpend(\n",
    "    launcher_coin,\n",
    "    singleton_top_layer_v1_1.SINGLETON_LAUNCHER,\n",
    "    launcher_solution\n",
    ")\n",
    "print_json(launcher_coin_spend.to_json_dict())"
   ]
  },
  {
   "cell_type": "code",
   "execution_count": 16,
   "id": "3902b0b3-93ac-48e6-8eca-7b52f438b103",
   "metadata": {},
   "outputs": [
    {
     "name": "stdout",
     "output_type": "stream",
     "text": [
      "((51 0xd3f29a4d3413d20d8bf5691beb8c9b6e15c953b4f4ad71d5e5ed35869b0d4afc 0x01d1a94a2001) (60 0xe313cb637e7ac4a16b51584d31e7166530ff37546d192e9bd6f8d19e453eb36c))\n"
     ]
    }
   ],
   "source": [
    "%%bash\n",
    "brun '(a (q 4 (c 4 (c 5 (c 11 ()))) (c (c 10 (c (a 14 (c 2 (c (c 5 (c 11 (c 23 ()))) ()))) ())) ())) (c (q 51 60 2 (i (l 5) (q 11 (q . 2) (a 14 (c 2 (c 9 ()))) (a 14 (c 2 (c 13 ())))) (q 11 (q . 1) 5)) 1) 1))' '(0xd3f29a4d3413d20d8bf5691beb8c9b6e15c953b4f4ad71d5e5ed35869b0d4afc 0x01d1a94a2001 ((\"game\" . \"tic tac toe\") (\"player one\" . 0xd210b94e1c190321d74e68fa697a8da3dce5846bbaf9f2783ba345c431123387) (\"player two\" . 0x3ac42b719d0b34879714d1e601721f08ba317862d2118fa16aa7e8bf1a19657b)))'"
   ]
  },
  {
   "cell_type": "code",
   "execution_count": 28,
   "id": "03c8bd56-2fbb-4e95-8fe2-a5853a8e0b35",
   "metadata": {},
   "outputs": [
    {
     "name": "stdout",
     "output_type": "stream",
     "text": [
      "launcher_coin_announcement:\n",
      "e313cb637e7ac4a16b51584d31e7166530ff37546d192e9bd6f8d19e453eb36c\n",
      "\n",
      "launcher_coin_id:\n",
      "b341aa0befd1a1b9199677fff0a8874cc6f2a26dc20b70f5b4810a74bf9b3aa2\n",
      "\n",
      "launcher_coin_announcement:\n",
      "40cd1f0167c364dd3c3ef48ca966bcbf882a112364625c9c54bb05cfc3acd718\n"
     ]
    }
   ],
   "source": [
    "print(f'launcher_coin_announcement:\\n{launcher_announcement}')\n",
    "print(f'\\nlauncher_coin_id:\\n{launcher_id.hex()}')\n",
    "\n",
    "# announcementID == sha256(coinID + message).\n",
    "from chia.util.hash import std_hash\n",
    "launcher_coin_announcement = std_hash(launcher_id + launcher_announcement)\n",
    "print(f'\\nlauncher_coin_announcement:\\n{launcher_coin_announcement}')"
   ]
  },
  {
   "cell_type": "code",
   "execution_count": 34,
   "id": "b5d72a8c-cfa5-47e9-81ae-edebb2c50e1b",
   "metadata": {},
   "outputs": [
    {
     "name": "stdout",
     "output_type": "stream",
     "text": [
      "{\n",
      "    \"coin\": {\n",
      "        \"amount\": 1000000000001,\n",
      "        \"parent_coin_info\": \"0xdf2cf850264c22b8bfe7da999b56b8a6689c9ce25be52d0807fe12ed8c9e1b5b\",\n",
      "        \"puzzle_hash\": \"0x6ee43a3c617c5a1ec62ffeff1b605fb53ecc81ba8ccd4024eaff9befc53c6145\"\n",
      "    },\n",
      "    \"puzzle_reveal\": \"0xff02ffff01ff02ffff01ff02ffff03ffff09ff12ff2f80ffff01ff04ffff04ff14ffff01ff648080ffff04ffff04ff16ffff04ff05ffff01ff8600e8d4a51000808080ffff04ffff04ff10ffff04ff0bffff01ff9072657475726e20746f2073656e646572808080ff80808080ffff01ff02ffff03ffff09ff1aff2f80ffff01ff04ffff04ff16ffff04ff3effff01ff8601d1a94a2001808080ffff04ffff04ff18ffff04ff17ff808080ffff04ffff04ff2effff04ff17ff808080ff80808080ffff01ff04ffff04ff1cffff04ff17ff808080ff808080ff018080ff0180ffff04ffff01ffffff323dff523fffff81ff01ff33ff3ea0eff07522495060c066f66f32acc2a77e3a3e737aca8baea4d1a64ea4cdc13da9ff018080ffff04ffff01a0d210b94e1c190321d74e68fa697a8da3dce5846bbaf9f2783ba345c431123387ffff04ffff01b096f75bf45d09491e8a5adaedbdb458f6ac46d9b6507a788fe58349f6eb2a56bfbc72bdd70a09eceb060b552f10fb1010ff01808080\",\n",
      "    \"solution\": \"0xffa040cd1f0167c364dd3c3ef48ca966bcbf882a112364625c9c54bb05cfc3acd718ff0180\"\n",
      "}\n"
     ]
    }
   ],
   "source": [
    "alice_waiting_room_coin_spend = CoinSpend(\n",
    "    alice_waiting_room_coin,\n",
    "    alice_waiting_room_puzzle,\n",
    "    Program.to([\n",
    "        launcher_coin_announcement,\n",
    "        1 # CREATE-GAME\n",
    "    ])\n",
    ")\n",
    "print_json(alice_waiting_room_coin_spend.to_json_dict())"
   ]
  },
  {
   "cell_type": "code",
   "execution_count": 32,
   "id": "fb202459-6118-4250-8f9b-d267f88fdaa5",
   "metadata": {},
   "outputs": [
    {
     "name": "stdout",
     "output_type": "stream",
     "text": [
      "((51 0xeff07522495060c066f66f32acc2a77e3a3e737aca8baea4d1a64ea4cdc13da9 0x01d1a94a2001) (61 0x40cd1f0167c364dd3c3ef48ca966bcbf882a112364625c9c54bb05cfc3acd718) (62 0x40cd1f0167c364dd3c3ef48ca966bcbf882a112364625c9c54bb05cfc3acd718))\n"
     ]
    }
   ],
   "source": [
    "%%bash\n",
    "brun '(a (q 2 (q 2 (i (= 18 47) (q 4 (c 20 (q 100)) (c (c 22 (c 5 (q 0x00e8d4a51000))) (c (c 16 (c 11 (q \"return to sender\"))) ()))) (q 2 (i (= 26 47) (q 4 (c 22 (c 62 (q 0x01d1a94a2001))) (c (c 24 (c 23 ())) (c (c 46 (c 23 ())) ()))) (q 4 (c 28 (c 23 ())) ())) 1)) 1) (c (q ((50 . 61) 82 . 63) (-1 . 1) 51 62 . 0xeff07522495060c066f66f32acc2a77e3a3e737aca8baea4d1a64ea4cdc13da9) 1)) (c (q . 0xd210b94e1c190321d74e68fa697a8da3dce5846bbaf9f2783ba345c431123387) (c (q . 0x96f75bf45d09491e8a5adaedbdb458f6ac46d9b6507a788fe58349f6eb2a56bfbc72bdd70a09eceb060b552f10fb1010) 1)))' '(0x40cd1f0167c364dd3c3ef48ca966bcbf882a112364625c9c54bb05cfc3acd718 1)'"
   ]
  },
  {
   "cell_type": "code",
   "execution_count": 35,
   "id": "f870f11d-7043-4016-8eda-77f189b7a50f",
   "metadata": {},
   "outputs": [
    {
     "name": "stdout",
     "output_type": "stream",
     "text": [
      "{\n",
      "    \"coin\": {\n",
      "        \"amount\": 1000000000000,\n",
      "        \"parent_coin_info\": \"0xfc669e48c63de848a7159610118f21d96efeb328af1876afd91a17cf1fecda97\",\n",
      "        \"puzzle_hash\": \"0x5dcd5eca9a5919a0e435b671bd693bfdf845383563ae8565ae66bcdc3f27b598\"\n",
      "    },\n",
      "    \"puzzle_reveal\": \"0xff02ffff01ff02ffff01ff02ffff03ffff09ff12ff2f80ffff01ff04ffff04ff14ffff01ff648080ffff04ffff04ff16ffff04ff05ffff01ff8600e8d4a51000808080ffff04ffff04ff10ffff04ff0bffff01ff9072657475726e20746f2073656e646572808080ff80808080ffff01ff02ffff03ffff09ff1aff2f80ffff01ff04ffff04ff16ffff04ff3effff01ff8601d1a94a2001808080ffff04ffff04ff18ffff04ff17ff808080ffff04ffff04ff2effff04ff17ff808080ff80808080ffff01ff04ffff04ff1cffff04ff17ff808080ff808080ff018080ff0180ffff04ffff01ffffff323dff523fffff81ff01ff33ff3ea0eff07522495060c066f66f32acc2a77e3a3e737aca8baea4d1a64ea4cdc13da9ff018080ffff04ffff01a03ac42b719d0b34879714d1e601721f08ba317862d2118fa16aa7e8bf1a19657bffff04ffff01b0b1bc8cb3442693d6093df74dc975f81b74ac1438290341a13feb94af6f08fd613fcd509abb773612b5fe68851b56f64aff01808080\",\n",
      "    \"solution\": \"0xffa040cd1f0167c364dd3c3ef48ca966bcbf882a112364625c9c54bb05cfc3acd718ff8080\"\n",
      "}\n"
     ]
    }
   ],
   "source": [
    "bob_waiting_room_coin_spend = CoinSpend(\n",
    "    bob_waiting_room_coin,\n",
    "    bob_waiting_room_puzzle,\n",
    "    Program.to([\n",
    "        launcher_coin_announcement,\n",
    "        0 # SPEND\n",
    "    ])\n",
    ")\n",
    "print_json(bob_waiting_room_coin_spend.to_json_dict())"
   ]
  },
  {
   "cell_type": "code",
   "execution_count": 36,
   "id": "72dba951-ed77-4519-a4e7-a4fba8eac318",
   "metadata": {},
   "outputs": [
    {
     "name": "stdout",
     "output_type": "stream",
     "text": [
      "((63 0x40cd1f0167c364dd3c3ef48ca966bcbf882a112364625c9c54bb05cfc3acd718))\n"
     ]
    }
   ],
   "source": [
    "%%bash\n",
    "brun '(a (q 2 (q 2 (i (= 18 47) (q 4 (c 20 (q 100)) (c (c 22 (c 5 (q 0x00e8d4a51000))) (c (c 16 (c 11 (q \"return to sender\"))) ()))) (q 2 (i (= 26 47) (q 4 (c 22 (c 62 (q 0x01d1a94a2001))) (c (c 24 (c 23 ())) (c (c 46 (c 23 ())) ()))) (q 4 (c 28 (c 23 ())) ())) 1)) 1) (c (q ((50 . 61) 82 . 63) (-1 . 1) 51 62 . 0xeff07522495060c066f66f32acc2a77e3a3e737aca8baea4d1a64ea4cdc13da9) 1)) (c (q . 0x3ac42b719d0b34879714d1e601721f08ba317862d2118fa16aa7e8bf1a19657b) (c (q . 0xb1bc8cb3442693d6093df74dc975f81b74ac1438290341a13feb94af6f08fd613fcd509abb773612b5fe68851b56f64a) 1)))' '(0x40cd1f0167c364dd3c3ef48ca966bcbf882a112364625c9c54bb05cfc3acd718 ())'"
   ]
  },
  {
   "cell_type": "code",
   "execution_count": 37,
   "id": "639c09c6-1d5f-4a36-83b9-ce54ae4b75ea",
   "metadata": {},
   "outputs": [
    {
     "name": "stdout",
     "output_type": "stream",
     "text": [
      "{\n",
      "    \"aggregated_signature\": \"0xc00000000000000000000000000000000000000000000000000000000000000000000000000000000000000000000000000000000000000000000000000000000000000000000000000000000000000000000000000000000000000000000000\",\n",
      "    \"coin_spends\": [\n",
      "        {\n",
      "            \"coin\": {\n",
      "                \"amount\": 2000000000001,\n",
      "                \"parent_coin_info\": \"0xc9aa560dc25dedbaa2a7a6180d39299595ba1ac1ca677f9f5f1eecb5874b82aa\",\n",
      "                \"puzzle_hash\": \"0xeff07522495060c066f66f32acc2a77e3a3e737aca8baea4d1a64ea4cdc13da9\"\n",
      "            },\n",
      "            \"puzzle_reveal\": \"0xff02ffff01ff04ffff04ff04ffff04ff05ffff04ff0bff80808080ffff04ffff04ff0affff04ffff02ff0effff04ff02ffff04ffff04ff05ffff04ff0bffff04ff17ff80808080ff80808080ff808080ff808080ffff04ffff01ff33ff3cff02ffff03ffff07ff0580ffff01ff0bffff0102ffff02ff0effff04ff02ffff04ff09ff80808080ffff02ff0effff04ff02ffff04ff0dff8080808080ffff01ff0bffff0101ff058080ff0180ff018080\",\n",
      "            \"solution\": \"0xffa0d3f29a4d3413d20d8bf5691beb8c9b6e15c953b4f4ad71d5e5ed35869b0d4afcff8601d1a94a2001ffffff8467616d658b7469632074616320746f65ffff8a706c61796572206f6e65a0d210b94e1c190321d74e68fa697a8da3dce5846bbaf9f2783ba345c431123387ffff8a706c617965722074776fa03ac42b719d0b34879714d1e601721f08ba317862d2118fa16aa7e8bf1a19657b8080\"\n",
      "        },\n",
      "        {\n",
      "            \"coin\": {\n",
      "                \"amount\": 1000000000001,\n",
      "                \"parent_coin_info\": \"0xdf2cf850264c22b8bfe7da999b56b8a6689c9ce25be52d0807fe12ed8c9e1b5b\",\n",
      "                \"puzzle_hash\": \"0x6ee43a3c617c5a1ec62ffeff1b605fb53ecc81ba8ccd4024eaff9befc53c6145\"\n",
      "            },\n",
      "            \"puzzle_reveal\": \"0xff02ffff01ff02ffff01ff02ffff03ffff09ff12ff2f80ffff01ff04ffff04ff14ffff01ff648080ffff04ffff04ff16ffff04ff05ffff01ff8600e8d4a51000808080ffff04ffff04ff10ffff04ff0bffff01ff9072657475726e20746f2073656e646572808080ff80808080ffff01ff02ffff03ffff09ff1aff2f80ffff01ff04ffff04ff16ffff04ff3effff01ff8601d1a94a2001808080ffff04ffff04ff18ffff04ff17ff808080ffff04ffff04ff2effff04ff17ff808080ff80808080ffff01ff04ffff04ff1cffff04ff17ff808080ff808080ff018080ff0180ffff04ffff01ffffff323dff523fffff81ff01ff33ff3ea0eff07522495060c066f66f32acc2a77e3a3e737aca8baea4d1a64ea4cdc13da9ff018080ffff04ffff01a0d210b94e1c190321d74e68fa697a8da3dce5846bbaf9f2783ba345c431123387ffff04ffff01b096f75bf45d09491e8a5adaedbdb458f6ac46d9b6507a788fe58349f6eb2a56bfbc72bdd70a09eceb060b552f10fb1010ff01808080\",\n",
      "            \"solution\": \"0xffa040cd1f0167c364dd3c3ef48ca966bcbf882a112364625c9c54bb05cfc3acd718ff0180\"\n",
      "        },\n",
      "        {\n",
      "            \"coin\": {\n",
      "                \"amount\": 1000000000000,\n",
      "                \"parent_coin_info\": \"0xfc669e48c63de848a7159610118f21d96efeb328af1876afd91a17cf1fecda97\",\n",
      "                \"puzzle_hash\": \"0x5dcd5eca9a5919a0e435b671bd693bfdf845383563ae8565ae66bcdc3f27b598\"\n",
      "            },\n",
      "            \"puzzle_reveal\": \"0xff02ffff01ff02ffff01ff02ffff03ffff09ff12ff2f80ffff01ff04ffff04ff14ffff01ff648080ffff04ffff04ff16ffff04ff05ffff01ff8600e8d4a51000808080ffff04ffff04ff10ffff04ff0bffff01ff9072657475726e20746f2073656e646572808080ff80808080ffff01ff02ffff03ffff09ff1aff2f80ffff01ff04ffff04ff16ffff04ff3effff01ff8601d1a94a2001808080ffff04ffff04ff18ffff04ff17ff808080ffff04ffff04ff2effff04ff17ff808080ff80808080ffff01ff04ffff04ff1cffff04ff17ff808080ff808080ff018080ff0180ffff04ffff01ffffff323dff523fffff81ff01ff33ff3ea0eff07522495060c066f66f32acc2a77e3a3e737aca8baea4d1a64ea4cdc13da9ff018080ffff04ffff01a03ac42b719d0b34879714d1e601721f08ba317862d2118fa16aa7e8bf1a19657bffff04ffff01b0b1bc8cb3442693d6093df74dc975f81b74ac1438290341a13feb94af6f08fd613fcd509abb773612b5fe68851b56f64aff01808080\",\n",
      "            \"solution\": \"0xffa040cd1f0167c364dd3c3ef48ca966bcbf882a112364625c9c54bb05cfc3acd718ff8080\"\n",
      "        }\n",
      "    ]\n",
      "}\n"
     ]
    }
   ],
   "source": [
    "from chia.types.spend_bundle import SpendBundle\n",
    "spend_bundle = SpendBundle([\n",
    "        launcher_coin_spend,\n",
    "        alice_waiting_room_coin_spend,\n",
    "        bob_waiting_room_coin_spend\n",
    "    ], \n",
    "    G2Element() # empty signature\n",
    ")\n",
    "print_json(spend_bundle.to_json_dict(include_legacy_keys = False, exclude_modern_keys = False))"
   ]
  },
  {
   "cell_type": "code",
   "execution_count": null,
   "id": "4a2051f4-985c-438f-82fe-5bff7eb47719",
   "metadata": {},
   "outputs": [],
   "source": []
  }
 ],
 "metadata": {
  "kernelspec": {
   "display_name": "Python 3 (ipykernel)",
   "language": "python",
   "name": "python3"
  },
  "language_info": {
   "codemirror_mode": {
    "name": "ipython",
    "version": 3
   },
   "file_extension": ".py",
   "mimetype": "text/x-python",
   "name": "python",
   "nbconvert_exporter": "python",
   "pygments_lexer": "ipython3",
   "version": "3.10.6"
  }
 },
 "nbformat": 4,
 "nbformat_minor": 5
}
