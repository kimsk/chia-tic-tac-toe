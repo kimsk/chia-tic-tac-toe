{
 "cells": [
  {
   "cell_type": "code",
   "execution_count": 1,
   "id": "09785456-5ff3-4e89-85e1-9137a7c030d1",
   "metadata": {},
   "outputs": [
    {
     "name": "stdout",
     "output_type": "stream",
     "text": [
      "1.6.1b4.dev7\n",
      "cdv, version 1.1.2\n",
      "Python 3.10.7\n"
     ]
    }
   ],
   "source": [
    "%%bash\n",
    "chia version\n",
    "cdv --version\n",
    "python --version"
   ]
  },
  {
   "cell_type": "code",
   "execution_count": 2,
   "id": "997536c4-41e0-488b-ad80-0178fee9bca7",
   "metadata": {},
   "outputs": [],
   "source": [
    "# chia libraries\n",
    "from blspy import (PrivateKey, AugSchemeMPL, G1Element, G2Element)\n",
    "from chia.types.blockchain_format.program import Program\n",
    "from chia.wallet.puzzles import (p2_delegated_puzzle_or_hidden_puzzle)\n",
    "# utils & tic tac toe helper code\n",
    "import sys\n",
    "sys.path.insert(0, \"../code\")\n",
    "from utils import (load_program, print_program, print_puzzle, print_json)\n",
    "import singleton_utils\n",
    "import tic_tac_toe\n",
    "\n",
    "# puzzles\n",
    "tic_tac_toe_puzzle = load_program(\"../code/tic-tac-toe.clsp\", [\"../code\"])\n",
    "coin_puzzle = load_program(\"../code/coin.clsp\", [\"../code\"])\n",
    "terminate_puzzle = load_program(\"../code/terminate-game.clsp\", [\"../code\"])\n",
    "\n",
    "waiting_room_puzzle = load_program(\"../code/waiting-room.clsp\", [\"../code\"])\n",
    "play_amount = 1_000_000_000_000\n",
    "game_amount = (play_amount * 2) + 1 # singleton odd mojos"
   ]
  },
  {
   "cell_type": "code",
   "execution_count": 22,
   "id": "08ef0269-61da-4453-b2aa-1e885f2694cd",
   "metadata": {},
   "outputs": [],
   "source": [
    "# from setup-sim notebook\n",
    "# alice 4070016934\n",
    "# bob 861183802\n",
    "alice_sk = PrivateKey.from_bytes(bytes.fromhex(\"67959bf0ade73bc2aa69cab59d0aa1fded890696f178393f7740b330a808f7c6\"))\n",
    "alice_pk = G1Element.from_bytes(bytes.fromhex(\"96f75bf45d09491e8a5adaedbdb458f6ac46d9b6507a788fe58349f6eb2a56bfbc72bdd70a09eceb060b552f10fb1010\"))\n",
    "alice_puzzle_hash = p2_delegated_puzzle_or_hidden_puzzle.puzzle_for_pk(alice_pk).get_tree_hash()\n",
    "bob_pk = G1Element.from_bytes(bytes.fromhex(\"b1bc8cb3442693d6093df74dc975f81b74ac1438290341a13feb94af6f08fd613fcd509abb773612b5fe68851b56f64a\"))\n",
    "bob_puzzle_hash = p2_delegated_puzzle_or_hidden_puzzle.puzzle_for_pk(bob_pk).get_tree_hash()\n",
    "\n",
    "# prepare players info\n",
    "player_one_info = Program.to([alice_pk, alice_puzzle_hash])\n",
    "player_two_info = Program.to([bob_pk, bob_puzzle_hash])"
   ]
  },
  {
   "cell_type": "code",
   "execution_count": 4,
   "id": "3f03df8a-d122-4e36-89a8-01c5b4c4d84a",
   "metadata": {},
   "outputs": [
    {
     "name": "stdout",
     "output_type": "stream",
     "text": [
      "[\n",
      "    {\n",
      "        \"coin\": {\n",
      "            \"amount\": 1000000000001,\n",
      "            \"parent_coin_info\": \"0xdf2cf850264c22b8bfe7da999b56b8a6689c9ce25be52d0807fe12ed8c9e1b5b\",\n",
      "            \"puzzle_hash\": \"0x7e08f4d8a28561f9fccc983c5449ae3913d0b707563dd7db5dffe5b1fc97c666\"\n",
      "        },\n",
      "        \"coinbase\": false,\n",
      "        \"confirmed_block_index\": 6,\n",
      "        \"spent_block_index\": 0,\n",
      "        \"timestamp\": 1665217886\n",
      "    }\n",
      "]\n",
      "[\n",
      "    {\n",
      "        \"coin\": {\n",
      "            \"amount\": 1000000000000,\n",
      "            \"parent_coin_info\": \"0xfc669e48c63de848a7159610118f21d96efeb328af1876afd91a17cf1fecda97\",\n",
      "            \"puzzle_hash\": \"0xe8d49de75b6d5c4848fe220c47b6fdb87c4dc72e757325c93b7a68e1e4a5d9b4\"\n",
      "        },\n",
      "        \"coinbase\": false,\n",
      "        \"confirmed_block_index\": 6,\n",
      "        \"spent_block_index\": 0,\n",
      "        \"timestamp\": 1665217886\n",
      "    }\n",
      "]\n"
     ]
    }
   ],
   "source": [
    "%%bash\n",
    "cdv rpc coinrecords --by puzzlehash \"7e08f4d8a28561f9fccc983c5449ae3913d0b707563dd7db5dffe5b1fc97c666\"\n",
    "cdv rpc coinrecords --by puzzlehash \"e8d49de75b6d5c4848fe220c47b6fdb87c4dc72e757325c93b7a68e1e4a5d9b4\""
   ]
  },
  {
   "cell_type": "markdown",
   "id": "de7375a3-bda5-4d0f-8b82-6477a4fe0e53",
   "metadata": {},
   "source": [
    "# Create Game Coin\n",
    "> Two waiting room coins available from Alice and Bob\n",
    "\n",
    "[waiting-room.clsp](../code/waiting-room.clsp)\n",
    "```clojure\n",
    "(mod (\n",
    "        PLAYER_PH\n",
    "        PLAYER_PK \n",
    "        P1_PK\n",
    "        P2_PK \n",
    "        RETURN_AMOUNT\n",
    "        GAME_AMOUNT\n",
    "        launcher_id\n",
    "        singleton_full_puzzle_hash\n",
    "    )\n",
    "```"
   ]
  },
  {
   "cell_type": "code",
   "execution_count": 5,
   "id": "75acf273-2312-4762-8b24-d04738782cba",
   "metadata": {},
   "outputs": [
    {
     "data": {
      "text/plain": [
       "'txch10cy0fk9zs4slnlxvnq79gjdw8yfapdc82c7a0k6alljmrlyhcenqwwvzrt'"
      ]
     },
     "execution_count": 5,
     "metadata": {},
     "output_type": "execute_result"
    }
   ],
   "source": [
    "from chia.util.bech32m import encode_puzzle_hash\n",
    "## alice\n",
    "alice_waiting_room_puzzle = waiting_room_puzzle.curry(\n",
    "    alice_puzzle_hash, \n",
    "    alice_pk,\n",
    "    alice_pk, \n",
    "    bob_pk,\n",
    "    play_amount,\n",
    "    game_amount\n",
    ")\n",
    "alice_waiting_room_puzzle_hash = alice_waiting_room_puzzle.get_tree_hash()\n",
    "alice_waiting_room_address = encode_puzzle_hash(alice_waiting_room_puzzle_hash, \"txch\")\n",
    "alice_waiting_room_address"
   ]
  },
  {
   "cell_type": "code",
   "execution_count": 6,
   "id": "181affe9-cd95-49ee-bf17-1b37f0a451e2",
   "metadata": {},
   "outputs": [
    {
     "data": {
      "text/plain": [
       "'txch1ar2fme6md4wysj87ygxy0dhahp7ym3eww4ejtjfm0f5wre99mx6qu7quv6'"
      ]
     },
     "execution_count": 6,
     "metadata": {},
     "output_type": "execute_result"
    }
   ],
   "source": [
    "## bob\n",
    "bob_waiting_room_puzzle = waiting_room_puzzle.curry(\n",
    "    bob_puzzle_hash, \n",
    "    bob_pk,\n",
    "    alice_pk, \n",
    "    bob_pk,\n",
    "    play_amount,\n",
    "    game_amount\n",
    ")\n",
    "bob_waiting_room_puzzle_hash = bob_waiting_room_puzzle.get_tree_hash()\n",
    "bob_waiting_room_address = encode_puzzle_hash(bob_waiting_room_puzzle_hash, \"txch\")\n",
    "bob_waiting_room_address"
   ]
  },
  {
   "cell_type": "markdown",
   "id": "318a7494-6109-4805-8abb-4b0dea7ceea3",
   "metadata": {},
   "source": [
    "## Terminate Puzzle (Curried)\n",
    "[terminate-game.clsp](../code/terminate-game.clsp)\n",
    "```clojure\n",
    "(mod (IS_SINGLETON PLAYER_ONE_HASH PLAYER_TWO_HASH P2_AMOUNT play_result)\n",
    "```"
   ]
  },
  {
   "cell_type": "code",
   "execution_count": 8,
   "id": "b31bb6b0-d2be-44b3-8412-1789595844e1",
   "metadata": {},
   "outputs": [],
   "source": [
    "player_fee = 50_000_000\n",
    "p2_amount = play_amount - player_fee\n",
    "curried_terminate_puzzle = terminate_puzzle.curry(\n",
    "    1, # Terminate Singleton Coin\n",
    "    alice_puzzle_hash,\n",
    "    bob_puzzle_hash,\n",
    "    p2_amount\n",
    ")"
   ]
  },
  {
   "cell_type": "markdown",
   "id": "25f2d0e5-c213-4710-8466-9dbfb1d6ed64",
   "metadata": {},
   "source": [
    "## Coin Puzzle (Curried)\n",
    "[coin.clsp](../code/coin.clsp)\n",
    "```clojure\n",
    "(mod (MOD TERMINATE_PUZZLE PLAYER_ONE_INFO PLAYER_TWO_INFO CURRIED_TIC_TAC_TOE_PUZZLE AMOUNT position)\n",
    "```"
   ]
  },
  {
   "cell_type": "code",
   "execution_count": 9,
   "id": "bb0db5a8-3936-4404-9f03-f708efd5fa4e",
   "metadata": {},
   "outputs": [],
   "source": [
    "def get_coin_puzzle(board, player):\n",
    "    # (mod (BOARD V pos)\n",
    "    curried_tic_tac_toe_puzzle = tic_tac_toe_puzzle.curry(\n",
    "            Program.to(board), \n",
    "            Program.to(player)\n",
    "        ) \n",
    "\n",
    "    #(mod (MOD PLAYER_ONE_INFO PLAYER_TWO_INFO CURRIED_TIC_TAC_TOE_PUZZLE amount position)\n",
    "    curried_coin_puzzle = coin_puzzle.curry(\n",
    "        coin_puzzle,\n",
    "        curried_terminate_puzzle,\n",
    "        player_one_info,\n",
    "        player_two_info,\n",
    "        curried_tic_tac_toe_puzzle,\n",
    "        game_amount)\n",
    "    return curried_coin_puzzle\n",
    "\n",
    "curried_coin_puzzle = get_coin_puzzle([' '] * 9, 'x')"
   ]
  },
  {
   "cell_type": "markdown",
   "id": "064827c3-132a-40d6-a8e8-96f8d961972f",
   "metadata": {},
   "source": [
    "## Launcher Coin"
   ]
  },
  {
   "cell_type": "code",
   "execution_count": 10,
   "id": "6bb3af7a-b4a8-48ec-8d81-55da45fea33f",
   "metadata": {},
   "outputs": [
    {
     "name": "stdout",
     "output_type": "stream",
     "text": [
      "alice_waiting_room_coin:\n",
      " {'parent_coin_info': '0xdf2cf850264c22b8bfe7da999b56b8a6689c9ce25be52d0807fe12ed8c9e1b5b', 'puzzle_hash': '0x7e08f4d8a28561f9fccc983c5449ae3913d0b707563dd7db5dffe5b1fc97c666', 'amount': 1000000000001}\n",
      "\n",
      "bob_waiting_room_coin:\n",
      " {'parent_coin_info': '0xfc669e48c63de848a7159610118f21d96efeb328af1876afd91a17cf1fecda97', 'puzzle_hash': '0xe8d49de75b6d5c4848fe220c47b6fdb87c4dc72e757325c93b7a68e1e4a5d9b4', 'amount': 1000000000000}\n"
     ]
    }
   ],
   "source": [
    "from chia.rpc.full_node_rpc_client import FullNodeRpcClient\n",
    "from chia.util.config import load_config\n",
    "from chia.util.default_root import DEFAULT_ROOT_PATH\n",
    "from chia.util.ints import uint16\n",
    "\n",
    "config = load_config(DEFAULT_ROOT_PATH, \"config.yaml\")\n",
    "selected_network = \"mainnet\"\n",
    "genesis_challenge = config[\"farmer\"][\"network_overrides\"][\"constants\"][selected_network][\"GENESIS_CHALLENGE\"]\n",
    "\n",
    "self_hostname = config[\"self_hostname\"] # localhost\n",
    "full_node_rpc_port = config[\"full_node\"][\"rpc_port\"] # 8555\n",
    "full_node_client = await FullNodeRpcClient.create(\n",
    "    self_hostname, uint16(full_node_rpc_port), DEFAULT_ROOT_PATH, config\n",
    ")\n",
    "coin_records = await full_node_client.get_coin_records_by_puzzle_hash(alice_waiting_room_puzzle_hash)\n",
    "full_node_client.close()\n",
    "await full_node_client.await_closed()\n",
    "\n",
    "alice_waiting_room_coin = coin_records[0].coin\n",
    "print(f'alice_waiting_room_coin:\\n {alice_waiting_room_coin.to_json_dict()}')\n",
    "print()\n",
    "full_node_client = await FullNodeRpcClient.create(\n",
    "    self_hostname, uint16(full_node_rpc_port), DEFAULT_ROOT_PATH, config\n",
    ")\n",
    "coin_records = await full_node_client.get_coin_records_by_puzzle_hash(bob_waiting_room_puzzle_hash)\n",
    "full_node_client.close()\n",
    "await full_node_client.await_closed()\n",
    "\n",
    "bob_waiting_room_coin = coin_records[0].coin\n",
    "print(f'bob_waiting_room_coin:\\n {bob_waiting_room_coin.to_json_dict()}')"
   ]
  },
  {
   "cell_type": "code",
   "execution_count": 11,
   "id": "c8b3c51b-e404-4c8e-9be5-7f576edaf803",
   "metadata": {},
   "outputs": [
    {
     "name": "stdout",
     "output_type": "stream",
     "text": [
      "\n",
      "launcher id: bc5380576ba129467fe776cfea6bc0b86ad6453697f10d51360ccd7ac4303c24\n"
     ]
    },
    {
     "data": {
      "text/plain": [
       "Coin { parent_coin_info: 72a614f271998c9ddd0bf79b2b65605c650b733ed3ba739ffea410dd5976d867, puzzle_hash: eff07522495060c066f66f32acc2a77e3a3e737aca8baea4d1a64ea4cdc13da9, amount: 2000000000001 }"
      ]
     },
     "execution_count": 11,
     "metadata": {},
     "output_type": "execute_result"
    }
   ],
   "source": [
    "from chia.types.blockchain_format.coin import Coin\n",
    "from chia.types.coin_spend import CoinSpend\n",
    "from chia.wallet.puzzles import singleton_top_layer_v1_1\n",
    "\n",
    "# prepare launcher coin\n",
    "launcher_coin = Coin(\n",
    "    alice_waiting_room_coin.name(), # waiting_room's coin spend creates the launcher coin\n",
    "    singleton_top_layer_v1_1.SINGLETON_LAUNCHER_HASH, \n",
    "    game_amount\n",
    ")\n",
    "\n",
    "launcher_id = launcher_coin.name()\n",
    "print(f'\\nlauncher id: {launcher_id.hex()}')\n",
    "\n",
    "singleton_struct = (\n",
    "    singleton_top_layer_v1_1.SINGLETON_MOD_HASH, \n",
    "    (launcher_id, singleton_top_layer_v1_1.SINGLETON_LAUNCHER_HASH)\n",
    ")\n",
    "\n",
    "singleton_puzzle = singleton_top_layer_v1_1.SINGLETON_MOD.curry(\n",
    "    singleton_struct,\n",
    "    curried_coin_puzzle, # tic tac toe coin puzzle\n",
    ")\n",
    "launcher_coin"
   ]
  },
  {
   "cell_type": "markdown",
   "id": "a9f2c9da-43ce-4d35-ac7b-4ba6180325e0",
   "metadata": {},
   "source": [
    "### Singleton Launcher\n",
    "[singleton_top_layer.clvm](https://github.com/Chia-Network/chia-blockchain/blob/main/chia/wallet/puzzles/singleton_top_layer.clvm)\n",
    "\n",
    "[singleton_launcher.clvm](https://github.com/Chia-Network/chia-blockchain/blob/main/chia/wallet/puzzles/singleton_launcher.clvm)\n",
    "```clojure\n",
    "(mod (singleton_full_puzzle_hash amount key_value_list)\n",
    "```"
   ]
  },
  {
   "cell_type": "code",
   "execution_count": 12,
   "id": "57144da0-806b-43a0-984f-7ced1ba5dbc0",
   "metadata": {},
   "outputs": [
    {
     "name": "stdout",
     "output_type": "stream",
     "text": [
      "(0xd878ddc7c62757e6116f7e843fee3eae2374062d16b3372500fceba6e9adbffc 0x01d1a94a2001 ((\"game\" . \"tic-tac-toe\") (\"p1_pk\" . 0x96f75bf45d09491e8a5adaedbdb458f6ac46d9b6507a788fe58349f6eb2a56bfbc72bdd70a09eceb060b552f10fb1010) (\"p2_pk\" . 0xb1bc8cb3442693d6093df74dc975f81b74ac1438290341a13feb94af6f08fd613fcd509abb773612b5fe68851b56f64a)))\n",
      "\n",
      "launcher_announcement:\n",
      "94e1d162edcc65e02767b4a1907fa370bccaae65133ae5f62b1da8a7122bf044\n",
      "{\n",
      "    \"coin\": {\n",
      "        \"amount\": 2000000000001,\n",
      "        \"parent_coin_info\": \"0x72a614f271998c9ddd0bf79b2b65605c650b733ed3ba739ffea410dd5976d867\",\n",
      "        \"puzzle_hash\": \"0xeff07522495060c066f66f32acc2a77e3a3e737aca8baea4d1a64ea4cdc13da9\"\n",
      "    },\n",
      "    \"puzzle_reveal\": \"0xff02ffff01ff04ffff04ff04ffff04ff05ffff04ff0bff80808080ffff04ffff04ff0affff04ffff02ff0effff04ff02ffff04ffff04ff05ffff04ff0bffff04ff17ff80808080ff80808080ff808080ff808080ffff04ffff01ff33ff3cff02ffff03ffff07ff0580ffff01ff0bffff0102ffff02ff0effff04ff02ffff04ff09ff80808080ffff02ff0effff04ff02ffff04ff0dff8080808080ffff01ff0bffff0101ff058080ff0180ff018080\",\n",
      "    \"solution\": \"0xffa0d878ddc7c62757e6116f7e843fee3eae2374062d16b3372500fceba6e9adbffcff8601d1a94a2001ffffff8467616d658b7469632d7461632d746f65ffff8570315f706bb096f75bf45d09491e8a5adaedbdb458f6ac46d9b6507a788fe58349f6eb2a56bfbc72bdd70a09eceb060b552f10fb1010ffff8570325f706bb0b1bc8cb3442693d6093df74dc975f81b74ac1438290341a13feb94af6f08fd613fcd509abb773612b5fe68851b56f64a8080\"\n",
      "}\n"
     ]
    }
   ],
   "source": [
    "launcher_solution = Program.to(\n",
    "    [\n",
    "        singleton_puzzle.get_tree_hash(),\n",
    "        game_amount,\n",
    "        [\n",
    "            (\"game\", \"tic-tac-toe\"), \n",
    "            (\"p1_pk\", alice_pk),\n",
    "            (\"p2_pk\", bob_pk)\n",
    "        ]\n",
    "    ]\n",
    ")\n",
    "print_program(launcher_solution)\n",
    "\n",
    "launcher_announcement = launcher_solution.get_tree_hash()\n",
    "print(f'\\nlauncher_announcement:\\n{launcher_announcement}')\n",
    "\n",
    "launcher_coin_spend = CoinSpend(\n",
    "    launcher_coin,\n",
    "    singleton_top_layer_v1_1.SINGLETON_LAUNCHER,\n",
    "    launcher_solution\n",
    ")\n",
    "print_json(launcher_coin_spend.to_json_dict())"
   ]
  },
  {
   "cell_type": "code",
   "execution_count": 13,
   "id": "51e4af49-f02b-470c-be88-91b2dea3ca96",
   "metadata": {},
   "outputs": [
    {
     "name": "stdout",
     "output_type": "stream",
     "text": [
      "(a (q 4 (c 4 (c 5 (c 11 ()))) (c (c 10 (c (a 14 (c 2 (c (c 5 (c 11 (c 23 ()))) ()))) ())) ())) (c (q 51 60 2 (i (l 5) (q 11 (q . 2) (a 14 (c 2 (c 9 ()))) (a 14 (c 2 (c 13 ())))) (q 11 (q . 1) 5)) 1) 1))\n",
      "(0xd878ddc7c62757e6116f7e843fee3eae2374062d16b3372500fceba6e9adbffc 0x01d1a94a2001 ((\"game\" . \"tic-tac-toe\") (\"p1_pk\" . 0x96f75bf45d09491e8a5adaedbdb458f6ac46d9b6507a788fe58349f6eb2a56bfbc72bdd70a09eceb060b552f10fb1010) (\"p2_pk\" . 0xb1bc8cb3442693d6093df74dc975f81b74ac1438290341a13feb94af6f08fd613fcd509abb773612b5fe68851b56f64a)))\n"
     ]
    }
   ],
   "source": [
    "%%bash\n",
    "opd ff02ffff01ff04ffff04ff04ffff04ff05ffff04ff0bff80808080ffff04ffff04ff0affff04ffff02ff0effff04ff02ffff04ffff04ff05ffff04ff0bffff04ff17ff80808080ff80808080ff808080ff808080ffff04ffff01ff33ff3cff02ffff03ffff07ff0580ffff01ff0bffff0102ffff02ff0effff04ff02ffff04ff09ff80808080ffff02ff0effff04ff02ffff04ff0dff8080808080ffff01ff0bffff0101ff058080ff0180ff018080\n",
    "opd ffa0d878ddc7c62757e6116f7e843fee3eae2374062d16b3372500fceba6e9adbffcff8601d1a94a2001ffffff8467616d658b7469632d7461632d746f65ffff8570315f706bb096f75bf45d09491e8a5adaedbdb458f6ac46d9b6507a788fe58349f6eb2a56bfbc72bdd70a09eceb060b552f10fb1010ffff8570325f706bb0b1bc8cb3442693d6093df74dc975f81b74ac1438290341a13feb94af6f08fd613fcd509abb773612b5fe68851b56f64a8080"
   ]
  },
  {
   "cell_type": "code",
   "execution_count": 14,
   "id": "3902b0b3-93ac-48e6-8eca-7b52f438b103",
   "metadata": {},
   "outputs": [
    {
     "name": "stdout",
     "output_type": "stream",
     "text": [
      "((51 0xd878ddc7c62757e6116f7e843fee3eae2374062d16b3372500fceba6e9adbffc 0x01d1a94a2001) (60 0x94e1d162edcc65e02767b4a1907fa370bccaae65133ae5f62b1da8a7122bf044))\n"
     ]
    }
   ],
   "source": [
    "%%bash\n",
    "brun '(a (q 4 (c 4 (c 5 (c 11 ()))) (c (c 10 (c (a 14 (c 2 (c (c 5 (c 11 (c 23 ()))) ()))) ())) ())) (c (q 51 60 2 (i (l 5) (q 11 (q . 2) (a 14 (c 2 (c 9 ()))) (a 14 (c 2 (c 13 ())))) (q 11 (q . 1) 5)) 1) 1))' '(0xd878ddc7c62757e6116f7e843fee3eae2374062d16b3372500fceba6e9adbffc 0x01d1a94a2001 ((\"game\" . \"tic-tac-toe\") (\"p1_pk\" . 0x96f75bf45d09491e8a5adaedbdb458f6ac46d9b6507a788fe58349f6eb2a56bfbc72bdd70a09eceb060b552f10fb1010) (\"p2_pk\" . 0xb1bc8cb3442693d6093df74dc975f81b74ac1438290341a13feb94af6f08fd613fcd509abb773612b5fe68851b56f64a)))'"
   ]
  },
  {
   "cell_type": "code",
   "execution_count": 15,
   "id": "03c8bd56-2fbb-4e95-8fe2-a5853a8e0b35",
   "metadata": {},
   "outputs": [
    {
     "name": "stdout",
     "output_type": "stream",
     "text": [
      "launcher_announcement:\n",
      "94e1d162edcc65e02767b4a1907fa370bccaae65133ae5f62b1da8a7122bf044\n",
      "\n",
      "launcher_coin_id:\n",
      "bc5380576ba129467fe776cfea6bc0b86ad6453697f10d51360ccd7ac4303c24\n",
      "\n",
      "launcher_coin_announcement:\n",
      "af04a998f8a00160a5d04b41759f80a3bdad932fc6d7d9c08dbce97701551be0\n"
     ]
    }
   ],
   "source": [
    "print(f'launcher_announcement:\\n{launcher_announcement}')\n",
    "print(f'\\nlauncher_coin_id:\\n{launcher_id.hex()}')\n",
    "\n",
    "# announcementID == sha256(coinID + message).\n",
    "from chia.util.hash import std_hash\n",
    "launcher_coin_announcement = std_hash(launcher_id + launcher_announcement)\n",
    "print(f'\\nlauncher_coin_announcement:\\n{launcher_coin_announcement}')"
   ]
  },
  {
   "cell_type": "code",
   "execution_count": 16,
   "id": "b5d72a8c-cfa5-47e9-81ae-edebb2c50e1b",
   "metadata": {},
   "outputs": [
    {
     "name": "stdout",
     "output_type": "stream",
     "text": [
      "{\n",
      "    \"coin\": {\n",
      "        \"amount\": 1000000000001,\n",
      "        \"parent_coin_info\": \"0xdf2cf850264c22b8bfe7da999b56b8a6689c9ce25be52d0807fe12ed8c9e1b5b\",\n",
      "        \"puzzle_hash\": \"0x7e08f4d8a28561f9fccc983c5449ae3913d0b707563dd7db5dffe5b1fc97c666\"\n",
      "    },\n",
      "    \"puzzle_reveal\": \"0xff02ffff01ff02ffff01ff02ffff03ff82017fffff01ff02ff3effff04ff02ffff04ff0bffff04ff17ffff04ff2fffff04ff81bfffff04ff82017fffff04ff8202ffff808080808080808080ffff01ff04ffff04ff14ffff04ff1cff808080ffff04ffff04ff12ffff04ff05ffff04ff5fff80808080ffff04ffff04ff10ffff04ff0bffff04ff05ff80808080ff8080808080ff0180ffff04ffff01ffffff323dff5264ffff33a0eff07522495060c066f66f32acc2a77e3a3e737aca8baea4d1a64ea4cdc13da9ffff02ff2effff04ff02ffff04ffff04ff05ffff04ff0bffff04ffff04ffff01ff8467616d658b7469632d7461632d746f65ffff04ffff04ffff018570315f706bff1780ffff04ffff04ffff018570325f706bff2f80ff80808080ff80808080ff80808080ffff02ffff03ffff07ff0580ffff01ff0bffff0102ffff02ff2effff04ff02ffff04ff09ff80808080ffff02ff2effff04ff02ffff04ff0dff8080808080ffff01ff0bffff0101ff058080ff0180ff04ffff04ff18ffff04ffff0bff5fffff02ff16ffff04ff02ffff04ff81bfffff04ff2fffff04ff0bffff04ff17ff8080808080808080ff808080ffff04ffff04ff10ffff04ff0bffff04ff5fff80808080ffff02ffff03ffff09ff05ff0b80ffff01ff04ffff04ff12ffff04ff1affff04ff2fff80808080ff8080ff8080ff01808080ff018080ffff04ffff01a0d210b94e1c190321d74e68fa697a8da3dce5846bbaf9f2783ba345c431123387ffff04ffff01b096f75bf45d09491e8a5adaedbdb458f6ac46d9b6507a788fe58349f6eb2a56bfbc72bdd70a09eceb060b552f10fb1010ffff04ffff01b096f75bf45d09491e8a5adaedbdb458f6ac46d9b6507a788fe58349f6eb2a56bfbc72bdd70a09eceb060b552f10fb1010ffff04ffff01b0b1bc8cb3442693d6093df74dc975f81b74ac1438290341a13feb94af6f08fd613fcd509abb773612b5fe68851b56f64affff04ffff018600e8d4a51000ffff04ffff018601d1a94a2001ff0180808080808080\",\n",
      "    \"solution\": \"0xffa0bc5380576ba129467fe776cfea6bc0b86ad6453697f10d51360ccd7ac4303c24ffa0d878ddc7c62757e6116f7e843fee3eae2374062d16b3372500fceba6e9adbffc80\"\n",
      "}\n"
     ]
    }
   ],
   "source": [
    "alice_waiting_room_coin_spend = CoinSpend(\n",
    "    alice_waiting_room_coin,\n",
    "    alice_waiting_room_puzzle,\n",
    "    Program.to([\n",
    "        launcher_id,\n",
    "        singleton_puzzle.get_tree_hash()\n",
    "    ])\n",
    ")\n",
    "print_json(alice_waiting_room_coin_spend.to_json_dict())"
   ]
  },
  {
   "cell_type": "code",
   "execution_count": 17,
   "id": "9eb9260b-4f49-46c3-9142-339516e98e3a",
   "metadata": {},
   "outputs": [
    {
     "name": "stdout",
     "output_type": "stream",
     "text": [
      "(a (q 2 (q 2 (i 383 (q 2 62 (c 2 (c 11 (c 23 (c 47 (c -65 (c 383 (c 767 ())))))))) (q 4 (c 20 (c 28 ())) (c (c 18 (c 5 (c 95 ()))) (c (c 16 (c 11 (c 5 ()))) ())))) 1) (c (q ((50 . 61) 82 . 100) (51 . 0xeff07522495060c066f66f32acc2a77e3a3e737aca8baea4d1a64ea4cdc13da9) (a 46 (c 2 (c (c 5 (c 11 (c (c (q \"game\" . \"tic-tac-toe\") (c (c (q . \"p1_pk\") 23) (c (c (q . \"p2_pk\") 47) ()))) ()))) ()))) (a (i (l 5) (q 11 (q . 2) (a 46 (c 2 (c 9 ()))) (a 46 (c 2 (c 13 ())))) (q 11 (q . 1) 5)) 1) 4 (c 24 (c (sha256 95 (a 22 (c 2 (c -65 (c 47 (c 11 (c 23 ()))))))) ())) (c (c 16 (c 11 (c 95 ()))) (a (i (= 5 11) (q 4 (c 18 (c 26 (c 47 ()))) ()) ()) 1))) 1)) (c (q . 0xd210b94e1c190321d74e68fa697a8da3dce5846bbaf9f2783ba345c431123387) (c (q . 0x96f75bf45d09491e8a5adaedbdb458f6ac46d9b6507a788fe58349f6eb2a56bfbc72bdd70a09eceb060b552f10fb1010) (c (q . 0x96f75bf45d09491e8a5adaedbdb458f6ac46d9b6507a788fe58349f6eb2a56bfbc72bdd70a09eceb060b552f10fb1010) (c (q . 0xb1bc8cb3442693d6093df74dc975f81b74ac1438290341a13feb94af6f08fd613fcd509abb773612b5fe68851b56f64a) (c (q . 0x00e8d4a51000) (c (q . 0x01d1a94a2001) 1)))))))\n",
      "(0xbc5380576ba129467fe776cfea6bc0b86ad6453697f10d51360ccd7ac4303c24 0xd878ddc7c62757e6116f7e843fee3eae2374062d16b3372500fceba6e9adbffc)\n"
     ]
    }
   ],
   "source": [
    "%%bash\n",
    "opd ff02ffff01ff02ffff01ff02ffff03ff82017fffff01ff02ff3effff04ff02ffff04ff0bffff04ff17ffff04ff2fffff04ff81bfffff04ff82017fffff04ff8202ffff808080808080808080ffff01ff04ffff04ff14ffff04ff1cff808080ffff04ffff04ff12ffff04ff05ffff04ff5fff80808080ffff04ffff04ff10ffff04ff0bffff04ff05ff80808080ff8080808080ff0180ffff04ffff01ffffff323dff5264ffff33a0eff07522495060c066f66f32acc2a77e3a3e737aca8baea4d1a64ea4cdc13da9ffff02ff2effff04ff02ffff04ffff04ff05ffff04ff0bffff04ffff04ffff01ff8467616d658b7469632d7461632d746f65ffff04ffff04ffff018570315f706bff1780ffff04ffff04ffff018570325f706bff2f80ff80808080ff80808080ff80808080ffff02ffff03ffff07ff0580ffff01ff0bffff0102ffff02ff2effff04ff02ffff04ff09ff80808080ffff02ff2effff04ff02ffff04ff0dff8080808080ffff01ff0bffff0101ff058080ff0180ff04ffff04ff18ffff04ffff0bff5fffff02ff16ffff04ff02ffff04ff81bfffff04ff2fffff04ff0bffff04ff17ff8080808080808080ff808080ffff04ffff04ff10ffff04ff0bffff04ff5fff80808080ffff02ffff03ffff09ff05ff0b80ffff01ff04ffff04ff12ffff04ff1affff04ff2fff80808080ff8080ff8080ff01808080ff018080ffff04ffff01a0d210b94e1c190321d74e68fa697a8da3dce5846bbaf9f2783ba345c431123387ffff04ffff01b096f75bf45d09491e8a5adaedbdb458f6ac46d9b6507a788fe58349f6eb2a56bfbc72bdd70a09eceb060b552f10fb1010ffff04ffff01b096f75bf45d09491e8a5adaedbdb458f6ac46d9b6507a788fe58349f6eb2a56bfbc72bdd70a09eceb060b552f10fb1010ffff04ffff01b0b1bc8cb3442693d6093df74dc975f81b74ac1438290341a13feb94af6f08fd613fcd509abb773612b5fe68851b56f64affff04ffff018600e8d4a51000ffff04ffff018601d1a94a2001ff0180808080808080\n",
    "opd ffa0bc5380576ba129467fe776cfea6bc0b86ad6453697f10d51360ccd7ac4303c24ffa0d878ddc7c62757e6116f7e843fee3eae2374062d16b3372500fceba6e9adbffc80"
   ]
  },
  {
   "cell_type": "code",
   "execution_count": 18,
   "id": "fb202459-6118-4250-8f9b-d267f88fdaa5",
   "metadata": {},
   "outputs": [
    {
     "name": "stdout",
     "output_type": "stream",
     "text": [
      "((61 0xaf04a998f8a00160a5d04b41759f80a3bdad932fc6d7d9c08dbce97701551be0) (50 0x96f75bf45d09491e8a5adaedbdb458f6ac46d9b6507a788fe58349f6eb2a56bfbc72bdd70a09eceb060b552f10fb1010 0xbc5380576ba129467fe776cfea6bc0b86ad6453697f10d51360ccd7ac4303c24) (51 0xeff07522495060c066f66f32acc2a77e3a3e737aca8baea4d1a64ea4cdc13da9 0x01d1a94a2001))\n"
     ]
    }
   ],
   "source": [
    "%%bash\n",
    "brun '(a (q 2 (q 2 (i 383 (q 2 62 (c 2 (c 11 (c 23 (c 47 (c -65 (c 383 (c 767 ())))))))) (q 4 (c 20 (c 28 ())) (c (c 18 (c 5 (c 95 ()))) (c (c 16 (c 11 (c 5 ()))) ())))) 1) (c (q ((50 . 61) 82 . 100) (51 . 0xeff07522495060c066f66f32acc2a77e3a3e737aca8baea4d1a64ea4cdc13da9) (a 46 (c 2 (c (c 5 (c 11 (c (c (q \"game\" . \"tic-tac-toe\") (c (c (q . \"p1_pk\") 23) (c (c (q . \"p2_pk\") 47) ()))) ()))) ()))) (a (i (l 5) (q 11 (q . 2) (a 46 (c 2 (c 9 ()))) (a 46 (c 2 (c 13 ())))) (q 11 (q . 1) 5)) 1) 4 (c 24 (c (sha256 95 (a 22 (c 2 (c -65 (c 47 (c 11 (c 23 ()))))))) ())) (c (c 16 (c 11 (c 95 ()))) (a (i (= 5 11) (q 4 (c 18 (c 26 (c 47 ()))) ()) ()) 1))) 1)) (c (q . 0xd210b94e1c190321d74e68fa697a8da3dce5846bbaf9f2783ba345c431123387) (c (q . 0x96f75bf45d09491e8a5adaedbdb458f6ac46d9b6507a788fe58349f6eb2a56bfbc72bdd70a09eceb060b552f10fb1010) (c (q . 0x96f75bf45d09491e8a5adaedbdb458f6ac46d9b6507a788fe58349f6eb2a56bfbc72bdd70a09eceb060b552f10fb1010) (c (q . 0xb1bc8cb3442693d6093df74dc975f81b74ac1438290341a13feb94af6f08fd613fcd509abb773612b5fe68851b56f64a) (c (q . 0x00e8d4a51000) (c (q . 0x01d1a94a2001) 1)))))))' '(0xbc5380576ba129467fe776cfea6bc0b86ad6453697f10d51360ccd7ac4303c24 0xd878ddc7c62757e6116f7e843fee3eae2374062d16b3372500fceba6e9adbffc)'"
   ]
  },
  {
   "cell_type": "code",
   "execution_count": 19,
   "id": "f870f11d-7043-4016-8eda-77f189b7a50f",
   "metadata": {},
   "outputs": [
    {
     "name": "stdout",
     "output_type": "stream",
     "text": [
      "{\n",
      "    \"coin\": {\n",
      "        \"amount\": 1000000000000,\n",
      "        \"parent_coin_info\": \"0xfc669e48c63de848a7159610118f21d96efeb328af1876afd91a17cf1fecda97\",\n",
      "        \"puzzle_hash\": \"0xe8d49de75b6d5c4848fe220c47b6fdb87c4dc72e757325c93b7a68e1e4a5d9b4\"\n",
      "    },\n",
      "    \"puzzle_reveal\": \"0xff02ffff01ff02ffff01ff02ffff03ff82017fffff01ff02ff3effff04ff02ffff04ff0bffff04ff17ffff04ff2fffff04ff81bfffff04ff82017fffff04ff8202ffff808080808080808080ffff01ff04ffff04ff14ffff04ff1cff808080ffff04ffff04ff12ffff04ff05ffff04ff5fff80808080ffff04ffff04ff10ffff04ff0bffff04ff05ff80808080ff8080808080ff0180ffff04ffff01ffffff323dff5264ffff33a0eff07522495060c066f66f32acc2a77e3a3e737aca8baea4d1a64ea4cdc13da9ffff02ff2effff04ff02ffff04ffff04ff05ffff04ff0bffff04ffff04ffff01ff8467616d658b7469632d7461632d746f65ffff04ffff04ffff018570315f706bff1780ffff04ffff04ffff018570325f706bff2f80ff80808080ff80808080ff80808080ffff02ffff03ffff07ff0580ffff01ff0bffff0102ffff02ff2effff04ff02ffff04ff09ff80808080ffff02ff2effff04ff02ffff04ff0dff8080808080ffff01ff0bffff0101ff058080ff0180ff04ffff04ff18ffff04ffff0bff5fffff02ff16ffff04ff02ffff04ff81bfffff04ff2fffff04ff0bffff04ff17ff8080808080808080ff808080ffff04ffff04ff10ffff04ff0bffff04ff5fff80808080ffff02ffff03ffff09ff05ff0b80ffff01ff04ffff04ff12ffff04ff1affff04ff2fff80808080ff8080ff8080ff01808080ff018080ffff04ffff01a03ac42b719d0b34879714d1e601721f08ba317862d2118fa16aa7e8bf1a19657bffff04ffff01b0b1bc8cb3442693d6093df74dc975f81b74ac1438290341a13feb94af6f08fd613fcd509abb773612b5fe68851b56f64affff04ffff01b096f75bf45d09491e8a5adaedbdb458f6ac46d9b6507a788fe58349f6eb2a56bfbc72bdd70a09eceb060b552f10fb1010ffff04ffff01b0b1bc8cb3442693d6093df74dc975f81b74ac1438290341a13feb94af6f08fd613fcd509abb773612b5fe68851b56f64affff04ffff018600e8d4a51000ffff04ffff018601d1a94a2001ff0180808080808080\",\n",
      "    \"solution\": \"0xffa0bc5380576ba129467fe776cfea6bc0b86ad6453697f10d51360ccd7ac4303c24ffa0d878ddc7c62757e6116f7e843fee3eae2374062d16b3372500fceba6e9adbffc80\"\n",
      "}\n"
     ]
    }
   ],
   "source": [
    "bob_waiting_room_coin_spend = CoinSpend(\n",
    "    bob_waiting_room_coin,\n",
    "    bob_waiting_room_puzzle,\n",
    "    Program.to([\n",
    "        launcher_id,\n",
    "        singleton_puzzle.get_tree_hash()\n",
    "    ])\n",
    ")\n",
    "print_json(bob_waiting_room_coin_spend.to_json_dict())"
   ]
  },
  {
   "cell_type": "code",
   "execution_count": 20,
   "id": "156cced3-8e09-49a9-b5ba-6def07883957",
   "metadata": {},
   "outputs": [
    {
     "name": "stdout",
     "output_type": "stream",
     "text": [
      "(a (q 2 (q 2 (i 383 (q 2 62 (c 2 (c 11 (c 23 (c 47 (c -65 (c 383 (c 767 ())))))))) (q 4 (c 20 (c 28 ())) (c (c 18 (c 5 (c 95 ()))) (c (c 16 (c 11 (c 5 ()))) ())))) 1) (c (q ((50 . 61) 82 . 100) (51 . 0xeff07522495060c066f66f32acc2a77e3a3e737aca8baea4d1a64ea4cdc13da9) (a 46 (c 2 (c (c 5 (c 11 (c (c (q \"game\" . \"tic-tac-toe\") (c (c (q . \"p1_pk\") 23) (c (c (q . \"p2_pk\") 47) ()))) ()))) ()))) (a (i (l 5) (q 11 (q . 2) (a 46 (c 2 (c 9 ()))) (a 46 (c 2 (c 13 ())))) (q 11 (q . 1) 5)) 1) 4 (c 24 (c (sha256 95 (a 22 (c 2 (c -65 (c 47 (c 11 (c 23 ()))))))) ())) (c (c 16 (c 11 (c 95 ()))) (a (i (= 5 11) (q 4 (c 18 (c 26 (c 47 ()))) ()) ()) 1))) 1)) (c (q . 0x3ac42b719d0b34879714d1e601721f08ba317862d2118fa16aa7e8bf1a19657b) (c (q . 0xb1bc8cb3442693d6093df74dc975f81b74ac1438290341a13feb94af6f08fd613fcd509abb773612b5fe68851b56f64a) (c (q . 0x96f75bf45d09491e8a5adaedbdb458f6ac46d9b6507a788fe58349f6eb2a56bfbc72bdd70a09eceb060b552f10fb1010) (c (q . 0xb1bc8cb3442693d6093df74dc975f81b74ac1438290341a13feb94af6f08fd613fcd509abb773612b5fe68851b56f64a) (c (q . 0x00e8d4a51000) (c (q . 0x01d1a94a2001) 1)))))))\n",
      "(0xbc5380576ba129467fe776cfea6bc0b86ad6453697f10d51360ccd7ac4303c24 0xd878ddc7c62757e6116f7e843fee3eae2374062d16b3372500fceba6e9adbffc)\n"
     ]
    }
   ],
   "source": [
    "%%bash\n",
    "opd ff02ffff01ff02ffff01ff02ffff03ff82017fffff01ff02ff3effff04ff02ffff04ff0bffff04ff17ffff04ff2fffff04ff81bfffff04ff82017fffff04ff8202ffff808080808080808080ffff01ff04ffff04ff14ffff04ff1cff808080ffff04ffff04ff12ffff04ff05ffff04ff5fff80808080ffff04ffff04ff10ffff04ff0bffff04ff05ff80808080ff8080808080ff0180ffff04ffff01ffffff323dff5264ffff33a0eff07522495060c066f66f32acc2a77e3a3e737aca8baea4d1a64ea4cdc13da9ffff02ff2effff04ff02ffff04ffff04ff05ffff04ff0bffff04ffff04ffff01ff8467616d658b7469632d7461632d746f65ffff04ffff04ffff018570315f706bff1780ffff04ffff04ffff018570325f706bff2f80ff80808080ff80808080ff80808080ffff02ffff03ffff07ff0580ffff01ff0bffff0102ffff02ff2effff04ff02ffff04ff09ff80808080ffff02ff2effff04ff02ffff04ff0dff8080808080ffff01ff0bffff0101ff058080ff0180ff04ffff04ff18ffff04ffff0bff5fffff02ff16ffff04ff02ffff04ff81bfffff04ff2fffff04ff0bffff04ff17ff8080808080808080ff808080ffff04ffff04ff10ffff04ff0bffff04ff5fff80808080ffff02ffff03ffff09ff05ff0b80ffff01ff04ffff04ff12ffff04ff1affff04ff2fff80808080ff8080ff8080ff01808080ff018080ffff04ffff01a03ac42b719d0b34879714d1e601721f08ba317862d2118fa16aa7e8bf1a19657bffff04ffff01b0b1bc8cb3442693d6093df74dc975f81b74ac1438290341a13feb94af6f08fd613fcd509abb773612b5fe68851b56f64affff04ffff01b096f75bf45d09491e8a5adaedbdb458f6ac46d9b6507a788fe58349f6eb2a56bfbc72bdd70a09eceb060b552f10fb1010ffff04ffff01b0b1bc8cb3442693d6093df74dc975f81b74ac1438290341a13feb94af6f08fd613fcd509abb773612b5fe68851b56f64affff04ffff018600e8d4a51000ffff04ffff018601d1a94a2001ff0180808080808080\n",
    "opd ffa0bc5380576ba129467fe776cfea6bc0b86ad6453697f10d51360ccd7ac4303c24ffa0d878ddc7c62757e6116f7e843fee3eae2374062d16b3372500fceba6e9adbffc80"
   ]
  },
  {
   "cell_type": "code",
   "execution_count": 21,
   "id": "72dba951-ed77-4519-a4e7-a4fba8eac318",
   "metadata": {},
   "outputs": [
    {
     "name": "stdout",
     "output_type": "stream",
     "text": [
      "((61 0xaf04a998f8a00160a5d04b41759f80a3bdad932fc6d7d9c08dbce97701551be0) (50 0x96f75bf45d09491e8a5adaedbdb458f6ac46d9b6507a788fe58349f6eb2a56bfbc72bdd70a09eceb060b552f10fb1010 0xbc5380576ba129467fe776cfea6bc0b86ad6453697f10d51360ccd7ac4303c24))\n"
     ]
    }
   ],
   "source": [
    "%%bash\n",
    "brun '(a (q 2 (q 2 (i 383 (q 2 62 (c 2 (c 11 (c 23 (c 47 (c -65 (c 383 (c 767 ())))))))) (q 4 (c 20 (c 28 ())) (c (c 18 (c 5 (c 95 ()))) (c (c 16 (c 11 (c 5 ()))) ())))) 1) (c (q ((50 . 61) 82 . 100) (51 . 0xeff07522495060c066f66f32acc2a77e3a3e737aca8baea4d1a64ea4cdc13da9) (a 46 (c 2 (c (c 5 (c 11 (c (c (q \"game\" . \"tic-tac-toe\") (c (c (q . \"p1_pk\") 23) (c (c (q . \"p2_pk\") 47) ()))) ()))) ()))) (a (i (l 5) (q 11 (q . 2) (a 46 (c 2 (c 9 ()))) (a 46 (c 2 (c 13 ())))) (q 11 (q . 1) 5)) 1) 4 (c 24 (c (sha256 95 (a 22 (c 2 (c -65 (c 47 (c 11 (c 23 ()))))))) ())) (c (c 16 (c 11 (c 95 ()))) (a (i (= 5 11) (q 4 (c 18 (c 26 (c 47 ()))) ()) ()) 1))) 1)) (c (q . 0x3ac42b719d0b34879714d1e601721f08ba317862d2118fa16aa7e8bf1a19657b) (c (q . 0xb1bc8cb3442693d6093df74dc975f81b74ac1438290341a13feb94af6f08fd613fcd509abb773612b5fe68851b56f64a) (c (q . 0x96f75bf45d09491e8a5adaedbdb458f6ac46d9b6507a788fe58349f6eb2a56bfbc72bdd70a09eceb060b552f10fb1010) (c (q . 0xb1bc8cb3442693d6093df74dc975f81b74ac1438290341a13feb94af6f08fd613fcd509abb773612b5fe68851b56f64a) (c (q . 0x00e8d4a51000) (c (q . 0x01d1a94a2001) 1)))))))' '(0xbc5380576ba129467fe776cfea6bc0b86ad6453697f10d51360ccd7ac4303c24 0xd878ddc7c62757e6116f7e843fee3eae2374062d16b3372500fceba6e9adbffc)'"
   ]
  },
  {
   "cell_type": "code",
   "execution_count": 26,
   "id": "639c09c6-1d5f-4a36-83b9-ce54ae4b75ea",
   "metadata": {},
   "outputs": [
    {
     "name": "stdout",
     "output_type": "stream",
     "text": [
      "{\n",
      "    \"aggregated_signature\": \"0x9958918817d378f0436a0eadaa4fe24865487f5b80e9899aeb69de50b8e245fdbad85fba61c5a56903658022f38a0d4e11c241572a8413fcd15b2bb054cba1994b86b2c834ee7d96f373fb19103e45fce77dd4f4a17437be3eb183845970a34c\",\n",
      "    \"coin_spends\": [\n",
      "        {\n",
      "            \"coin\": {\n",
      "                \"amount\": 2000000000001,\n",
      "                \"parent_coin_info\": \"0x72a614f271998c9ddd0bf79b2b65605c650b733ed3ba739ffea410dd5976d867\",\n",
      "                \"puzzle_hash\": \"0xeff07522495060c066f66f32acc2a77e3a3e737aca8baea4d1a64ea4cdc13da9\"\n",
      "            },\n",
      "            \"puzzle_reveal\": \"0xff02ffff01ff04ffff04ff04ffff04ff05ffff04ff0bff80808080ffff04ffff04ff0affff04ffff02ff0effff04ff02ffff04ffff04ff05ffff04ff0bffff04ff17ff80808080ff80808080ff808080ff808080ffff04ffff01ff33ff3cff02ffff03ffff07ff0580ffff01ff0bffff0102ffff02ff0effff04ff02ffff04ff09ff80808080ffff02ff0effff04ff02ffff04ff0dff8080808080ffff01ff0bffff0101ff058080ff0180ff018080\",\n",
      "            \"solution\": \"0xffa0d878ddc7c62757e6116f7e843fee3eae2374062d16b3372500fceba6e9adbffcff8601d1a94a2001ffffff8467616d658b7469632d7461632d746f65ffff8570315f706bb096f75bf45d09491e8a5adaedbdb458f6ac46d9b6507a788fe58349f6eb2a56bfbc72bdd70a09eceb060b552f10fb1010ffff8570325f706bb0b1bc8cb3442693d6093df74dc975f81b74ac1438290341a13feb94af6f08fd613fcd509abb773612b5fe68851b56f64a8080\"\n",
      "        },\n",
      "        {\n",
      "            \"coin\": {\n",
      "                \"amount\": 1000000000001,\n",
      "                \"parent_coin_info\": \"0xdf2cf850264c22b8bfe7da999b56b8a6689c9ce25be52d0807fe12ed8c9e1b5b\",\n",
      "                \"puzzle_hash\": \"0x7e08f4d8a28561f9fccc983c5449ae3913d0b707563dd7db5dffe5b1fc97c666\"\n",
      "            },\n",
      "            \"puzzle_reveal\": \"0xff02ffff01ff02ffff01ff02ffff03ff82017fffff01ff02ff3effff04ff02ffff04ff0bffff04ff17ffff04ff2fffff04ff81bfffff04ff82017fffff04ff8202ffff808080808080808080ffff01ff04ffff04ff14ffff04ff1cff808080ffff04ffff04ff12ffff04ff05ffff04ff5fff80808080ffff04ffff04ff10ffff04ff0bffff04ff05ff80808080ff8080808080ff0180ffff04ffff01ffffff323dff5264ffff33a0eff07522495060c066f66f32acc2a77e3a3e737aca8baea4d1a64ea4cdc13da9ffff02ff2effff04ff02ffff04ffff04ff05ffff04ff0bffff04ffff04ffff01ff8467616d658b7469632d7461632d746f65ffff04ffff04ffff018570315f706bff1780ffff04ffff04ffff018570325f706bff2f80ff80808080ff80808080ff80808080ffff02ffff03ffff07ff0580ffff01ff0bffff0102ffff02ff2effff04ff02ffff04ff09ff80808080ffff02ff2effff04ff02ffff04ff0dff8080808080ffff01ff0bffff0101ff058080ff0180ff04ffff04ff18ffff04ffff0bff5fffff02ff16ffff04ff02ffff04ff81bfffff04ff2fffff04ff0bffff04ff17ff8080808080808080ff808080ffff04ffff04ff10ffff04ff0bffff04ff5fff80808080ffff02ffff03ffff09ff05ff0b80ffff01ff04ffff04ff12ffff04ff1affff04ff2fff80808080ff8080ff8080ff01808080ff018080ffff04ffff01a0d210b94e1c190321d74e68fa697a8da3dce5846bbaf9f2783ba345c431123387ffff04ffff01b096f75bf45d09491e8a5adaedbdb458f6ac46d9b6507a788fe58349f6eb2a56bfbc72bdd70a09eceb060b552f10fb1010ffff04ffff01b096f75bf45d09491e8a5adaedbdb458f6ac46d9b6507a788fe58349f6eb2a56bfbc72bdd70a09eceb060b552f10fb1010ffff04ffff01b0b1bc8cb3442693d6093df74dc975f81b74ac1438290341a13feb94af6f08fd613fcd509abb773612b5fe68851b56f64affff04ffff018600e8d4a51000ffff04ffff018601d1a94a2001ff0180808080808080\",\n",
      "            \"solution\": \"0xffa0bc5380576ba129467fe776cfea6bc0b86ad6453697f10d51360ccd7ac4303c24ffa0d878ddc7c62757e6116f7e843fee3eae2374062d16b3372500fceba6e9adbffc80\"\n",
      "        },\n",
      "        {\n",
      "            \"coin\": {\n",
      "                \"amount\": 1000000000000,\n",
      "                \"parent_coin_info\": \"0xfc669e48c63de848a7159610118f21d96efeb328af1876afd91a17cf1fecda97\",\n",
      "                \"puzzle_hash\": \"0xe8d49de75b6d5c4848fe220c47b6fdb87c4dc72e757325c93b7a68e1e4a5d9b4\"\n",
      "            },\n",
      "            \"puzzle_reveal\": \"0xff02ffff01ff02ffff01ff02ffff03ff82017fffff01ff02ff3effff04ff02ffff04ff0bffff04ff17ffff04ff2fffff04ff81bfffff04ff82017fffff04ff8202ffff808080808080808080ffff01ff04ffff04ff14ffff04ff1cff808080ffff04ffff04ff12ffff04ff05ffff04ff5fff80808080ffff04ffff04ff10ffff04ff0bffff04ff05ff80808080ff8080808080ff0180ffff04ffff01ffffff323dff5264ffff33a0eff07522495060c066f66f32acc2a77e3a3e737aca8baea4d1a64ea4cdc13da9ffff02ff2effff04ff02ffff04ffff04ff05ffff04ff0bffff04ffff04ffff01ff8467616d658b7469632d7461632d746f65ffff04ffff04ffff018570315f706bff1780ffff04ffff04ffff018570325f706bff2f80ff80808080ff80808080ff80808080ffff02ffff03ffff07ff0580ffff01ff0bffff0102ffff02ff2effff04ff02ffff04ff09ff80808080ffff02ff2effff04ff02ffff04ff0dff8080808080ffff01ff0bffff0101ff058080ff0180ff04ffff04ff18ffff04ffff0bff5fffff02ff16ffff04ff02ffff04ff81bfffff04ff2fffff04ff0bffff04ff17ff8080808080808080ff808080ffff04ffff04ff10ffff04ff0bffff04ff5fff80808080ffff02ffff03ffff09ff05ff0b80ffff01ff04ffff04ff12ffff04ff1affff04ff2fff80808080ff8080ff8080ff01808080ff018080ffff04ffff01a03ac42b719d0b34879714d1e601721f08ba317862d2118fa16aa7e8bf1a19657bffff04ffff01b0b1bc8cb3442693d6093df74dc975f81b74ac1438290341a13feb94af6f08fd613fcd509abb773612b5fe68851b56f64affff04ffff01b096f75bf45d09491e8a5adaedbdb458f6ac46d9b6507a788fe58349f6eb2a56bfbc72bdd70a09eceb060b552f10fb1010ffff04ffff01b0b1bc8cb3442693d6093df74dc975f81b74ac1438290341a13feb94af6f08fd613fcd509abb773612b5fe68851b56f64affff04ffff018600e8d4a51000ffff04ffff018601d1a94a2001ff0180808080808080\",\n",
      "            \"solution\": \"0xffa0bc5380576ba129467fe776cfea6bc0b86ad6453697f10d51360ccd7ac4303c24ffa0d878ddc7c62757e6116f7e843fee3eae2374062d16b3372500fceba6e9adbffc80\"\n",
      "        }\n",
      "    ]\n",
      "}\n"
     ]
    }
   ],
   "source": [
    "from chia.types.spend_bundle import SpendBundle\n",
    "\n",
    "message: bytes = launcher_id\n",
    "sig_alice_spend: G2Element = AugSchemeMPL.sign(\n",
    "    alice_sk,\n",
    "    message\n",
    "    + alice_waiting_room_coin.name()\n",
    "    #+ bytes.fromhex(genesis_challenge),\n",
    "    + bytes.fromhex(\"ccd5bb71183532bff220ba46c268991a3ff07eb358e8255a65c30a2dce0e5fbb\")\n",
    ")\n",
    "\n",
    "sig_bob_spend: G2Element = AugSchemeMPL.sign(\n",
    "    alice_sk,\n",
    "    message\n",
    "    + bob_waiting_room_coin.name()\n",
    "    #+ bytes.fromhex(genesis_challenge),\n",
    "    + bytes.fromhex(\"ccd5bb71183532bff220ba46c268991a3ff07eb358e8255a65c30a2dce0e5fbb\")\n",
    ")\n",
    "\n",
    "spend_bundle = SpendBundle([\n",
    "        launcher_coin_spend,\n",
    "        alice_waiting_room_coin_spend,\n",
    "        bob_waiting_room_coin_spend\n",
    "    ], \n",
    "    AugSchemeMPL.aggregate([sig_alice_spend, sig_bob_spend])\n",
    ")\n",
    "print_json(spend_bundle.to_json_dict(include_legacy_keys = False, exclude_modern_keys = False))"
   ]
  },
  {
   "cell_type": "code",
   "execution_count": 27,
   "id": "5cde1d80-1358-4ab6-88a9-dfe3cc1f8ee4",
   "metadata": {},
   "outputs": [
    {
     "name": "stdout",
     "output_type": "stream",
     "text": [
      "{'status': 'SUCCESS', 'success': True}\n"
     ]
    }
   ],
   "source": [
    "full_node_client = await FullNodeRpcClient.create(\n",
    "    self_hostname, uint16(full_node_rpc_port), DEFAULT_ROOT_PATH, config\n",
    ")\n",
    "result = await full_node_client.push_tx(spend_bundle)\n",
    "full_node_client.close()\n",
    "await full_node_client.await_closed()\n",
    "print(result)"
   ]
  },
  {
   "cell_type": "code",
   "execution_count": 29,
   "id": "aca444e5-2222-4126-9044-e606c8482bce",
   "metadata": {},
   "outputs": [
    {
     "name": "stdout",
     "output_type": "stream",
     "text": [
      "Farmed 1 Transaction blocks\n",
      "Block Height is now: 9\n"
     ]
    }
   ],
   "source": [
    "%%bash\n",
    "cdv sim -n tic-tac-toe farm"
   ]
  },
  {
   "cell_type": "code",
   "execution_count": 36,
   "id": "6d7af3a9-57cd-4d78-94f0-6dc728f57800",
   "metadata": {},
   "outputs": [
    {
     "name": "stdout",
     "output_type": "stream",
     "text": [
      "{\n",
      "    \"coin\": {\n",
      "        \"amount\": 2000000000001,\n",
      "        \"parent_coin_info\": \"0xbc5380576ba129467fe776cfea6bc0b86ad6453697f10d51360ccd7ac4303c24\",\n",
      "        \"puzzle_hash\": \"0xd878ddc7c62757e6116f7e843fee3eae2374062d16b3372500fceba6e9adbffc\"\n",
      "    },\n",
      "    \"coinbase\": false,\n",
      "    \"confirmed_block_index\": 7,\n",
      "    \"spent_block_index\": 0,\n",
      "    \"timestamp\": 1665219677\n",
      "}\n"
     ]
    }
   ],
   "source": [
    "full_node_client = await FullNodeRpcClient.create(\n",
    "    self_hostname, uint16(full_node_rpc_port), DEFAULT_ROOT_PATH, config\n",
    ")\n",
    "coin_records = await full_node_client.get_coin_records_by_puzzle_hash(singleton_puzzle.get_tree_hash())\n",
    "full_node_client.close()\n",
    "await full_node_client.await_closed()\n",
    "print_json(coin_records[0].to_json_dict())\n",
    "game_coin = coin_records[0].coin\n"
   ]
  },
  {
   "cell_type": "markdown",
   "id": "82fefc12-1474-43a3-8b21-9c5ae2cd6943",
   "metadata": {},
   "source": [
    "```sh\n",
    "❯ cdv inspect spendbundles $spendbundle --debug --cost\n",
    "[{\"aggregated_signature\": \"0x9958918817d378f0436a0eadaa4fe24865487f5b80e9899aeb69de50b8e245fdbad85fba61c5a56903658022f38a0d4e11c241572a8413fcd15b2bb054cba1994b86b2c834ee7d96f373fb19103e45fce77dd4f4a17437be3eb183845970a34c\", \"coin_solutions\": [{\"coin\": {\"parent_coin_info\": \"0x72a614f271998c9ddd0bf79b2b65605c650b733ed3ba739ffea410dd5976d867\", \"puzzle_hash\": \"0xeff07522495060c066f66f32acc2a77e3a3e737aca8baea4d1a64ea4cdc13da9\", \"amount\": 2000000000001}, \"puzzle_reveal\": \"0xff02ffff01ff04ffff04ff04ffff04ff05ffff04ff0bff80808080ffff04ffff04ff0affff04ffff02ff0effff04ff02ffff04ffff04ff05ffff04ff0bffff04ff17ff80808080ff80808080ff808080ff808080ffff04ffff01ff33ff3cff02ffff03ffff07ff0580ffff01ff0bffff0102ffff02ff0effff04ff02ffff04ff09ff80808080ffff02ff0effff04ff02ffff04ff0dff8080808080ffff01ff0bffff0101ff058080ff0180ff018080\", \"solution\": \"0xffa0d878ddc7c62757e6116f7e843fee3eae2374062d16b3372500fceba6e9adbffcff8601d1a94a2001ffffff8467616d658b7469632d7461632d746f65ffff8570315f706bb096f75bf45d09491e8a5adaedbdb458f6ac46d9b6507a788fe58349f6eb2a56bfbc72bdd70a09eceb060b552f10fb1010ffff8570325f706bb0b1bc8cb3442693d6093df74dc975f81b74ac1438290341a13feb94af6f08fd613fcd509abb773612b5fe68851b56f64a8080\"}, {\"coin\": {\"parent_coin_info\": \"0xdf2cf850264c22b8bfe7da999b56b8a6689c9ce25be52d0807fe12ed8c9e1b5b\", \"puzzle_hash\": \"0x7e08f4d8a28561f9fccc983c5449ae3913d0b707563dd7db5dffe5b1fc97c666\", \"amount\": 1000000000001}, \"puzzle_reveal\": \"0xff02ffff01ff02ffff01ff02ffff03ff82017fffff01ff02ff3effff04ff02ffff04ff0bffff04ff17ffff04ff2fffff04ff81bfffff04ff82017fffff04ff8202ffff808080808080808080ffff01ff04ffff04ff14ffff04ff1cff808080ffff04ffff04ff12ffff04ff05ffff04ff5fff80808080ffff04ffff04ff10ffff04ff0bffff04ff05ff80808080ff8080808080ff0180ffff04ffff01ffffff323dff5264ffff33a0eff07522495060c066f66f32acc2a77e3a3e737aca8baea4d1a64ea4cdc13da9ffff02ff2effff04ff02ffff04ffff04ff05ffff04ff0bffff04ffff04ffff01ff8467616d658b7469632d7461632d746f65ffff04ffff04ffff018570315f706bff1780ffff04ffff04ffff018570325f706bff2f80ff80808080ff80808080ff80808080ffff02ffff03ffff07ff0580ffff01ff0bffff0102ffff02ff2effff04ff02ffff04ff09ff80808080ffff02ff2effff04ff02ffff04ff0dff8080808080ffff01ff0bffff0101ff058080ff0180ff04ffff04ff18ffff04ffff0bff5fffff02ff16ffff04ff02ffff04ff81bfffff04ff2fffff04ff0bffff04ff17ff8080808080808080ff808080ffff04ffff04ff10ffff04ff0bffff04ff5fff80808080ffff02ffff03ffff09ff05ff0b80ffff01ff04ffff04ff12ffff04ff1affff04ff2fff80808080ff8080ff8080ff01808080ff018080ffff04ffff01a0d210b94e1c190321d74e68fa697a8da3dce5846bbaf9f2783ba345c431123387ffff04ffff01b096f75bf45d09491e8a5adaedbdb458f6ac46d9b6507a788fe58349f6eb2a56bfbc72bdd70a09eceb060b552f10fb1010ffff04ffff01b096f75bf45d09491e8a5adaedbdb458f6ac46d9b6507a788fe58349f6eb2a56bfbc72bdd70a09eceb060b552f10fb1010ffff04ffff01b0b1bc8cb3442693d6093df74dc975f81b74ac1438290341a13feb94af6f08fd613fcd509abb773612b5fe68851b56f64affff04ffff018600e8d4a51000ffff04ffff018601d1a94a2001ff0180808080808080\", \"solution\": \"0xffa0bc5380576ba129467fe776cfea6bc0b86ad6453697f10d51360ccd7ac4303c24ffa0d878ddc7c62757e6116f7e843fee3eae2374062d16b3372500fceba6e9adbffc80\"}, {\"coin\": {\"parent_coin_info\": \"0xfc669e48c63de848a7159610118f21d96efeb328af1876afd91a17cf1fecda97\", \"puzzle_hash\": \"0xe8d49de75b6d5c4848fe220c47b6fdb87c4dc72e757325c93b7a68e1e4a5d9b4\", \"amount\": 1000000000000}, \"puzzle_reveal\": \"0xff02ffff01ff02ffff01ff02ffff03ff82017fffff01ff02ff3effff04ff02ffff04ff0bffff04ff17ffff04ff2fffff04ff81bfffff04ff82017fffff04ff8202ffff808080808080808080ffff01ff04ffff04ff14ffff04ff1cff808080ffff04ffff04ff12ffff04ff05ffff04ff5fff80808080ffff04ffff04ff10ffff04ff0bffff04ff05ff80808080ff8080808080ff0180ffff04ffff01ffffff323dff5264ffff33a0eff07522495060c066f66f32acc2a77e3a3e737aca8baea4d1a64ea4cdc13da9ffff02ff2effff04ff02ffff04ffff04ff05ffff04ff0bffff04ffff04ffff01ff8467616d658b7469632d7461632d746f65ffff04ffff04ffff018570315f706bff1780ffff04ffff04ffff018570325f706bff2f80ff80808080ff80808080ff80808080ffff02ffff03ffff07ff0580ffff01ff0bffff0102ffff02ff2effff04ff02ffff04ff09ff80808080ffff02ff2effff04ff02ffff04ff0dff8080808080ffff01ff0bffff0101ff058080ff0180ff04ffff04ff18ffff04ffff0bff5fffff02ff16ffff04ff02ffff04ff81bfffff04ff2fffff04ff0bffff04ff17ff8080808080808080ff808080ffff04ffff04ff10ffff04ff0bffff04ff5fff80808080ffff02ffff03ffff09ff05ff0b80ffff01ff04ffff04ff12ffff04ff1affff04ff2fff80808080ff8080ff8080ff01808080ff018080ffff04ffff01a03ac42b719d0b34879714d1e601721f08ba317862d2118fa16aa7e8bf1a19657bffff04ffff01b0b1bc8cb3442693d6093df74dc975f81b74ac1438290341a13feb94af6f08fd613fcd509abb773612b5fe68851b56f64affff04ffff01b096f75bf45d09491e8a5adaedbdb458f6ac46d9b6507a788fe58349f6eb2a56bfbc72bdd70a09eceb060b552f10fb1010ffff04ffff01b0b1bc8cb3442693d6093df74dc975f81b74ac1438290341a13feb94af6f08fd613fcd509abb773612b5fe68851b56f64affff04ffff018600e8d4a51000ffff04ffff018601d1a94a2001ff0180808080808080\", \"solution\": \"0xffa0bc5380576ba129467fe776cfea6bc0b86ad6453697f10d51360ccd7ac4303c24ffa0d878ddc7c62757e6116f7e843fee3eae2374062d16b3372500fceba6e9adbffc80\"}]}]\n",
    "Cost: 33623004\n",
    "\n",
    "Debugging Information\n",
    "---------------------\n",
    "================================================================================\n",
    "consuming coin (0x72a614f271998c9ddd0bf79b2b65605c650b733ed3ba739ffea410dd5976d867 0xeff07522495060c066f66f32acc2a77e3a3e737aca8baea4d1a64ea4cdc13da9 0x01d1a94a2001)\n",
    "  with id b'\\xbcS\\x80Wk\\xa1)F\\x7f\\xe7v\\xcf\\xeak\\xc0\\xb8j\\xd6E6\\x97\\xf1\\rQ6\\x0c\\xcdz\\xc40<$'\n",
    "\n",
    "\n",
    "brun -y main.sym '(a (q 4 (c 4 (c 5 (c 11 ()))) (c (c 10 (c (a 14 (c 2 (c (c 5 (c 11 (c 23 ()))) ()))) ())) ())) (c (q 51 60 2 (i (l 5) (q 11 (q . 2) (a 14 (c 2 (c 9 ()))) (a 14 (c 2 (c 13 ())))) (q 11 (q . 1) 5)) 1) 1))' '(0xd878ddc7c62757e6116f7e843fee3eae2374062d16b3372500fceba6e9adbffc 0x01d1a94a2001 ((\"game\" . \"tic-tac-toe\") (\"p1_pk\" . 0x96f75bf45d09491e8a5adaedbdb458f6ac46d9b6507a788fe58349f6eb2a56bfbc72bdd70a09eceb060b552f10fb1010) (\"p2_pk\" . 0xb1bc8cb3442693d6093df74dc975f81b74ac1438290341a13feb94af6f08fd613fcd509abb773612b5fe68851b56f64a)))'\n",
    "\n",
    "((CREATE_COIN 0xd878ddc7c62757e6116f7e843fee3eae2374062d16b3372500fceba6e9adbffc 0x01d1a94a2001) (CREATE_COIN_ANNOUNCEMENT 0x94e1d162edcc65e02767b4a1907fa370bccaae65133ae5f62b1da8a7122bf044))\n",
    "\n",
    "grouped conditions:\n",
    "\n",
    "  (CREATE_COIN 0xd878ddc7c62757e6116f7e843fee3eae2374062d16b3372500fceba6e9adbffc 0x01d1a94a2001)\n",
    "\n",
    "  (CREATE_COIN_ANNOUNCEMENT 0x94e1d162edcc65e02767b4a1907fa370bccaae65133ae5f62b1da8a7122bf044)\n",
    "\n",
    "\n",
    "-------\n",
    "consuming coin (0xdf2cf850264c22b8bfe7da999b56b8a6689c9ce25be52d0807fe12ed8c9e1b5b 0x7e08f4d8a28561f9fccc983c5449ae3913d0b707563dd7db5dffe5b1fc97c666 0x00e8d4a51001)\n",
    "  with id b'r\\xa6\\x14\\xf2q\\x99\\x8c\\x9d\\xdd\\x0b\\xf7\\x9b+e`\\\\e\\x0bs>\\xd3\\xbas\\x9f\\xfe\\xa4\\x10\\xddYv\\xd8g'\n",
    "\n",
    "\n",
    "brun -y main.sym '(a (q 2 (q 2 (i 383 (q 2 62 (c 2 (c 11 (c 23 (c 47 (c -65 (c 383 (c 767 ())))))))) (q 4 (c 20 (c 28 ())) (c (c 18 (c 5 (c 95 ()))) (c (c 16 (c 11 (c 5 ()))) ())))) 1) (c (q ((50 . 61) 82 . 100) (51 . 0xeff07522495060c066f66f32acc2a77e3a3e737aca8baea4d1a64ea4cdc13da9) (a 46 (c 2 (c (c 5 (c 11 (c (c (q \"game\" . \"tic-tac-toe\") (c (c (q . \"p1_pk\") 23) (c (c (q . \"p2_pk\") 47) ()))) ()))) ()))) (a (i (l 5) (q 11 (q . 2) (a 46 (c 2 (c 9 ()))) (a 46 (c 2 (c 13 ())))) (q 11 (q . 1) 5)) 1) 4 (c 24 (c (sha256 95 (a 22 (c 2 (c -65 (c 47 (c 11 (c 23 ()))))))) ())) (c (c 16 (c 11 (c 95 ()))) (a (i (= 5 11) (q 4 (c 18 (c 26 (c 47 ()))) ()) ()) 1))) 1)) (c (q . 0xd210b94e1c190321d74e68fa697a8da3dce5846bbaf9f2783ba345c431123387) (c (q . 0x96f75bf45d09491e8a5adaedbdb458f6ac46d9b6507a788fe58349f6eb2a56bfbc72bdd70a09eceb060b552f10fb1010) (c (q . 0x96f75bf45d09491e8a5adaedbdb458f6ac46d9b6507a788fe58349f6eb2a56bfbc72bdd70a09eceb060b552f10fb1010) (c (q . 0xb1bc8cb3442693d6093df74dc975f81b74ac1438290341a13feb94af6f08fd613fcd509abb773612b5fe68851b56f64a) (c (q . 0x00e8d4a51000) (c (q . 0x01d1a94a2001) 1)))))))' '(0xbc5380576ba129467fe776cfea6bc0b86ad6453697f10d51360ccd7ac4303c24 0xd878ddc7c62757e6116f7e843fee3eae2374062d16b3372500fceba6e9adbffc)'\n",
    "\n",
    "((ASSERT_COIN_ANNOUNCEMENT 0xaf04a998f8a00160a5d04b41759f80a3bdad932fc6d7d9c08dbce97701551be0) (AGG_SIG_ME 0x96f75bf45d09491e8a5adaedbdb458f6ac46d9b6507a788fe58349f6eb2a56bfbc72bdd70a09eceb060b552f10fb1010 0xbc5380576ba129467fe776cfea6bc0b86ad6453697f10d51360ccd7ac4303c24) (CREATE_COIN 0xeff07522495060c066f66f32acc2a77e3a3e737aca8baea4d1a64ea4cdc13da9 0x01d1a94a2001))\n",
    "\n",
    "grouped conditions:\n",
    "\n",
    "  (ASSERT_COIN_ANNOUNCEMENT 0xaf04a998f8a00160a5d04b41759f80a3bdad932fc6d7d9c08dbce97701551be0)\n",
    "\n",
    "  (AGG_SIG_ME 0x96f75bf45d09491e8a5adaedbdb458f6ac46d9b6507a788fe58349f6eb2a56bfbc72bdd70a09eceb060b552f10fb1010 0xbc5380576ba129467fe776cfea6bc0b86ad6453697f10d51360ccd7ac4303c24)\n",
    "\n",
    "  (CREATE_COIN 0xeff07522495060c066f66f32acc2a77e3a3e737aca8baea4d1a64ea4cdc13da9 0x01d1a94a2001)\n",
    "\n",
    "\n",
    "-------\n",
    "consuming coin (0xfc669e48c63de848a7159610118f21d96efeb328af1876afd91a17cf1fecda97 0xe8d49de75b6d5c4848fe220c47b6fdb87c4dc72e757325c93b7a68e1e4a5d9b4 0x00e8d4a51000)\n",
    "  with id b'U/V\\x1c\\x10:!J\\x9bF\\x19\\xc7>J\\xdc\\xccy\\xb4\\xd6\\xde\\x03\\x9c\\x0c^\\x0f\\xf8\\x81rG\\xca\\x14$'\n",
    "\n",
    "\n",
    "brun -y main.sym '(a (q 2 (q 2 (i 383 (q 2 62 (c 2 (c 11 (c 23 (c 47 (c -65 (c 383 (c 767 ())))))))) (q 4 (c 20 (c 28 ())) (c (c 18 (c 5 (c 95 ()))) (c (c 16 (c 11 (c 5 ()))) ())))) 1) (c (q ((50 . 61) 82 . 100) (51 . 0xeff07522495060c066f66f32acc2a77e3a3e737aca8baea4d1a64ea4cdc13da9) (a 46 (c 2 (c (c 5 (c 11 (c (c (q \"game\" . \"tic-tac-toe\") (c (c (q . \"p1_pk\") 23) (c (c (q . \"p2_pk\") 47) ()))) ()))) ()))) (a (i (l 5) (q 11 (q . 2) (a 46 (c 2 (c 9 ()))) (a 46 (c 2 (c 13 ())))) (q 11 (q . 1) 5)) 1) 4 (c 24 (c (sha256 95 (a 22 (c 2 (c -65 (c 47 (c 11 (c 23 ()))))))) ())) (c (c 16 (c 11 (c 95 ()))) (a (i (= 5 11) (q 4 (c 18 (c 26 (c 47 ()))) ()) ()) 1))) 1)) (c (q . 0x3ac42b719d0b34879714d1e601721f08ba317862d2118fa16aa7e8bf1a19657b) (c (q . 0xb1bc8cb3442693d6093df74dc975f81b74ac1438290341a13feb94af6f08fd613fcd509abb773612b5fe68851b56f64a) (c (q . 0x96f75bf45d09491e8a5adaedbdb458f6ac46d9b6507a788fe58349f6eb2a56bfbc72bdd70a09eceb060b552f10fb1010) (c (q . 0xb1bc8cb3442693d6093df74dc975f81b74ac1438290341a13feb94af6f08fd613fcd509abb773612b5fe68851b56f64a) (c (q . 0x00e8d4a51000) (c (q . 0x01d1a94a2001) 1)))))))' '(0xbc5380576ba129467fe776cfea6bc0b86ad6453697f10d51360ccd7ac4303c24 0xd878ddc7c62757e6116f7e843fee3eae2374062d16b3372500fceba6e9adbffc)'\n",
    "\n",
    "((ASSERT_COIN_ANNOUNCEMENT 0xaf04a998f8a00160a5d04b41759f80a3bdad932fc6d7d9c08dbce97701551be0) (AGG_SIG_ME 0x96f75bf45d09491e8a5adaedbdb458f6ac46d9b6507a788fe58349f6eb2a56bfbc72bdd70a09eceb060b552f10fb1010 0xbc5380576ba129467fe776cfea6bc0b86ad6453697f10d51360ccd7ac4303c24))\n",
    "\n",
    "grouped conditions:\n",
    "\n",
    "  (ASSERT_COIN_ANNOUNCEMENT 0xaf04a998f8a00160a5d04b41759f80a3bdad932fc6d7d9c08dbce97701551be0)\n",
    "\n",
    "  (AGG_SIG_ME 0x96f75bf45d09491e8a5adaedbdb458f6ac46d9b6507a788fe58349f6eb2a56bfbc72bdd70a09eceb060b552f10fb1010 0xbc5380576ba129467fe776cfea6bc0b86ad6453697f10d51360ccd7ac4303c24)\n",
    "\n",
    "\n",
    "-------\n",
    "\n",
    "spent coins\n",
    "  (0xfc669e48c63de848a7159610118f21d96efeb328af1876afd91a17cf1fecda97 0xe8d49de75b6d5c4848fe220c47b6fdb87c4dc72e757325c93b7a68e1e4a5d9b4 0x00e8d4a51000)\n",
    "      => spent coin id b'U/V\\x1c\\x10:!J\\x9bF\\x19\\xc7>J\\xdc\\xccy\\xb4\\xd6\\xde\\x03\\x9c\\x0c^\\x0f\\xf8\\x81rG\\xca\\x14$'\n",
    "  (0xdf2cf850264c22b8bfe7da999b56b8a6689c9ce25be52d0807fe12ed8c9e1b5b 0x7e08f4d8a28561f9fccc983c5449ae3913d0b707563dd7db5dffe5b1fc97c666 0x00e8d4a51001)\n",
    "      => spent coin id b'r\\xa6\\x14\\xf2q\\x99\\x8c\\x9d\\xdd\\x0b\\xf7\\x9b+e`\\\\e\\x0bs>\\xd3\\xbas\\x9f\\xfe\\xa4\\x10\\xddYv\\xd8g'\n",
    "\n",
    "created coins\n",
    "  (0xbc5380576ba129467fe776cfea6bc0b86ad6453697f10d51360ccd7ac4303c24 0xd878ddc7c62757e6116f7e843fee3eae2374062d16b3372500fceba6e9adbffc 0x01d1a94a2001)\n",
    "      => created coin id b'\\nS\\x17\\xc3\\xe8V\\xd0o\\xc1\\xeb4\\xc1Pt^$\\x1b\\xc8\\x06Mt\\xa9\\xae5\\xb9T\\x10\\xf0\\xea|\\x0eD'\n",
    "\n",
    "ephemeral coins\n",
    "  (0x72a614f271998c9ddd0bf79b2b65605c650b733ed3ba739ffea410dd5976d867 0xeff07522495060c066f66f32acc2a77e3a3e737aca8baea4d1a64ea4cdc13da9 0x01d1a94a2001)\n",
    "      => created coin id b'\\xbcS\\x80Wk\\xa1)F\\x7f\\xe7v\\xcf\\xeak\\xc0\\xb8j\\xd6E6\\x97\\xf1\\rQ6\\x0c\\xcdz\\xc40<$'\n",
    "created coin announcements\n",
    "  ['0xbc5380576ba129467fe776cfea6bc0b86ad6453697f10d51360ccd7ac4303c24', '0x94e1d162edcc65e02767b4a1907fa370bccaae65133ae5f62b1da8a7122bf044'] =>\n",
    "      af04a998f8a00160a5d04b41759f80a3bdad932fc6d7d9c08dbce97701551be0\n",
    "\n",
    "\n",
    "zero_coin_set = []\n",
    "\n",
    "created  coin announcements = ['af04a998f8a00160a5d04b41759f80a3bdad932fc6d7d9c08dbce97701551be0']\n",
    "\n",
    "asserted coin announcements = ['af04a998f8a00160a5d04b41759f80a3bdad932fc6d7d9c08dbce97701551be0', 'af04a998f8a00160a5d04b41759f80a3bdad932fc6d7d9c08dbce97701551be0']\n",
    "\n",
    "symdiff of coin announcements = []\n",
    "\n",
    "\n",
    "================================================================================\n",
    "\n",
    "aggregated signature check pass: True\n",
    "pks: [<G1Element 96f75bf45d09491e8a5adaedbdb458f6ac46d9b6507a788fe58349f6eb2a56bfbc72bdd70a09eceb060b552f10fb1010>, <G1Element 96f75bf45d09491e8a5adaedbdb458f6ac46d9b6507a788fe58349f6eb2a56bfbc72bdd70a09eceb060b552f10fb1010>]\n",
    "msgs: ['bc5380576ba129467fe776cfea6bc0b86ad6453697f10d51360ccd7ac4303c2472a614f271998c9ddd0bf79b2b65605c650b733ed3ba739ffea410dd5976d867ccd5bb71183532bff220ba46c268991a3ff07eb358e8255a65c30a2dce0e5fbb', 'bc5380576ba129467fe776cfea6bc0b86ad6453697f10d51360ccd7ac4303c24552f561c103a214a9b4619c73e4adccc79b4d6de039c0c5e0ff8817247ca1424ccd5bb71183532bff220ba46c268991a3ff07eb358e8255a65c30a2dce0e5fbb']\n",
    "  msg_data: ['bc5380576ba129467fe776cfea6bc0b86ad6453697f10d51360ccd7ac4303c24', 'bc5380576ba129467fe776cfea6bc0b86ad6453697f10d51360ccd7ac4303c24']\n",
    "  coin_ids: ['72a614f271998c9ddd0bf79b2b65605c650b733ed3ba739ffea410dd5976d867', '552f561c103a214a9b4619c73e4adccc79b4d6de039c0c5e0ff8817247ca1424']\n",
    "  add_data: ['ccd5bb71183532bff220ba46c268991a3ff07eb358e8255a65c30a2dce0e5fbb', 'ccd5bb71183532bff220ba46c268991a3ff07eb358e8255a65c30a2dce0e5fbb']\n",
    "signature: 9958918817d378f0436a0eadaa4fe24865487f5b80e9899aeb69de50b8e245fdbad85fba61c5a56903658022f38a0d4e11c241572a8413fcd15b2bb054cba1994b86b2c834ee7d96f373fb19103e45fce77dd4f4a17437be3eb183845970a34c\n",
    "None\n",
    "```"
   ]
  }
 ],
 "metadata": {
  "kernelspec": {
   "display_name": "Python 3 (ipykernel)",
   "language": "python",
   "name": "python3"
  },
  "language_info": {
   "codemirror_mode": {
    "name": "ipython",
    "version": 3
   },
   "file_extension": ".py",
   "mimetype": "text/x-python",
   "name": "python",
   "nbconvert_exporter": "python",
   "pygments_lexer": "ipython3",
   "version": "3.10.7"
  }
 },
 "nbformat": 4,
 "nbformat_minor": 5
}
