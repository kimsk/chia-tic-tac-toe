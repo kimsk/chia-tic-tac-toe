{
 "cells": [
  {
   "cell_type": "code",
   "execution_count": 1,
   "id": "09785456-5ff3-4e89-85e1-9137a7c030d1",
   "metadata": {},
   "outputs": [
    {
     "name": "stdout",
     "output_type": "stream",
     "text": [
      "1.6.1b3.dev23\n",
      "cdv, version 1.1.2\n",
      "Python 3.10.6\n"
     ]
    }
   ],
   "source": [
    "%%bash\n",
    "chia version\n",
    "cdv --version\n",
    "python --version"
   ]
  },
  {
   "cell_type": "code",
   "execution_count": 3,
   "id": "3f03df8a-d122-4e36-89a8-01c5b4c4d84a",
   "metadata": {},
   "outputs": [
    {
     "name": "stdout",
     "output_type": "stream",
     "text": [
      "[\n",
      "    {\n",
      "        \"coin\": {\n",
      "            \"amount\": 1000000000001,\n",
      "            \"parent_coin_info\": \"0xdf2cf850264c22b8bfe7da999b56b8a6689c9ce25be52d0807fe12ed8c9e1b5b\",\n",
      "            \"puzzle_hash\": \"0x6ee43a3c617c5a1ec62ffeff1b605fb53ecc81ba8ccd4024eaff9befc53c6145\"\n",
      "        },\n",
      "        \"coinbase\": false,\n",
      "        \"confirmed_block_index\": 6,\n",
      "        \"spent_block_index\": 0,\n",
      "        \"timestamp\": 1664553098\n",
      "    }\n",
      "]\n",
      "[\n",
      "    {\n",
      "        \"coin\": {\n",
      "            \"amount\": 1000000000000,\n",
      "            \"parent_coin_info\": \"0xfc669e48c63de848a7159610118f21d96efeb328af1876afd91a17cf1fecda97\",\n",
      "            \"puzzle_hash\": \"0x5dcd5eca9a5919a0e435b671bd693bfdf845383563ae8565ae66bcdc3f27b598\"\n",
      "        },\n",
      "        \"coinbase\": false,\n",
      "        \"confirmed_block_index\": 6,\n",
      "        \"spent_block_index\": 0,\n",
      "        \"timestamp\": 1664553098\n",
      "    }\n",
      "]\n"
     ]
    }
   ],
   "source": [
    "%%bash\n",
    "# two waiting-room-coins\n",
    "cdv rpc coinrecords --by puzzlehash \"6ee43a3c617c5a1ec62ffeff1b605fb53ecc81ba8ccd4024eaff9befc53c6145\"\n",
    "cdv rpc coinrecords --by puzzlehash \"5dcd5eca9a5919a0e435b671bd693bfdf845383563ae8565ae66bcdc3f27b598\""
   ]
  },
  {
   "cell_type": "code",
   "execution_count": null,
   "id": "505c6147-7e68-4be9-bcf1-9c12cd802c32",
   "metadata": {},
   "outputs": [],
   "source": []
  }
 ],
 "metadata": {
  "kernelspec": {
   "display_name": "Python 3 (ipykernel)",
   "language": "python",
   "name": "python3"
  },
  "language_info": {
   "codemirror_mode": {
    "name": "ipython",
    "version": 3
   },
   "file_extension": ".py",
   "mimetype": "text/x-python",
   "name": "python",
   "nbconvert_exporter": "python",
   "pygments_lexer": "ipython3",
   "version": "3.10.6"
  }
 },
 "nbformat": 4,
 "nbformat_minor": 5
}
