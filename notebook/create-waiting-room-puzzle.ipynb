{
 "cells": [
  {
   "cell_type": "code",
   "execution_count": 1,
   "id": "e2429336-ecc4-4569-bd15-b024a64ba9d9",
   "metadata": {},
   "outputs": [
    {
     "name": "stdout",
     "output_type": "stream",
     "text": [
      "1.6.1b4.dev7\n",
      "cdv, version 1.1.2\n",
      "Python 3.10.7\n"
     ]
    }
   ],
   "source": [
    "%%bash\n",
    "chia version\n",
    "cdv --version\n",
    "python --version"
   ]
  },
  {
   "cell_type": "code",
   "execution_count": 2,
   "id": "12b338df-1f96-4fa6-b7dd-ceaf4f8efb38",
   "metadata": {},
   "outputs": [],
   "source": [
    "# chia libraries\n",
    "from blspy import (PrivateKey, AugSchemeMPL, G1Element, G2Element)\n",
    "from chia.types.blockchain_format.program import Program\n",
    "from chia.wallet.puzzles import (p2_delegated_puzzle_or_hidden_puzzle)\n",
    "# utils & tic tac toe helper code\n",
    "import sys\n",
    "sys.path.insert(0, \"../code\")\n",
    "from utils import (load_program, print_program, print_puzzle, print_json)\n",
    "import singleton_utils\n",
    "import tic_tac_toe\n",
    "\n",
    "# puzzles\n",
    "tic_tac_toe_puzzle = load_program(\"../code/tic-tac-toe.clsp\", [\"../code\"])\n",
    "coin_puzzle = load_program(\"../code/coin.clsp\", [\"../code\"])\n",
    "terminate_puzzle = load_program(\"../code/terminate-game.clsp\", [\"../code\"])\n",
    "\n",
    "waiting_room_puzzle = load_program(\"../code/waiting-room.clsp\", [\"../code\"])\n",
    "play_amount = 1_000_000_000_000\n",
    "game_amount = (play_amount * 2) + 1 # singleton odd mojos"
   ]
  },
  {
   "cell_type": "code",
   "execution_count": 3,
   "id": "f6384545-60a2-47c6-ba7f-c6751c64c939",
   "metadata": {},
   "outputs": [],
   "source": [
    "# from setup-sim notebook\n",
    "# alice 4070016934\n",
    "# bob 861183802\n",
    "alice_pk = G1Element.from_bytes(bytes.fromhex(\"96f75bf45d09491e8a5adaedbdb458f6ac46d9b6507a788fe58349f6eb2a56bfbc72bdd70a09eceb060b552f10fb1010\"))\n",
    "alice_puzzle_hash = p2_delegated_puzzle_or_hidden_puzzle.puzzle_for_pk(alice_pk).get_tree_hash()\n",
    "bob_pk = G1Element.from_bytes(bytes.fromhex(\"b1bc8cb3442693d6093df74dc975f81b74ac1438290341a13feb94af6f08fd613fcd509abb773612b5fe68851b56f64a\"))\n",
    "bob_puzzle_hash = p2_delegated_puzzle_or_hidden_puzzle.puzzle_for_pk(bob_pk).get_tree_hash()\n",
    "\n",
    "# prepare players info\n",
    "player_one_info = Program.to([alice_pk, alice_puzzle_hash])\n",
    "player_two_info = Program.to([bob_pk, bob_puzzle_hash])\n"
   ]
  },
  {
   "cell_type": "markdown",
   "id": "ffface04-4073-404b-a324-3b203389d51f",
   "metadata": {},
   "source": [
    "## Create Waiting Room Coins\n",
    "[waiting-room.clsp](../code/waiting-room.clsp)\n",
    "```clojure\n",
    "(mod (\n",
    "        PLAYER_PH\n",
    "        PLAYER_PK \n",
    "        P1_PK\n",
    "        P2_PK \n",
    "        RETURN_AMOUNT\n",
    "        GAME_AMOUNT\n",
    "        launcher_id\n",
    "        singleton_full_puzzle_hash\n",
    "    )\n",
    "```"
   ]
  },
  {
   "cell_type": "code",
   "execution_count": 4,
   "id": "bbd46cd6-f044-4b42-a492-7ee16e2ac1a5",
   "metadata": {},
   "outputs": [
    {
     "data": {
      "text/plain": [
       "'txch10cy0fk9zs4slnlxvnq79gjdw8yfapdc82c7a0k6alljmrlyhcenqwwvzrt'"
      ]
     },
     "execution_count": 4,
     "metadata": {},
     "output_type": "execute_result"
    }
   ],
   "source": [
    "from chia.util.bech32m import encode_puzzle_hash\n",
    "## alice\n",
    "alice_waiting_room_puzzle = waiting_room_puzzle.curry(\n",
    "    alice_puzzle_hash, \n",
    "    alice_pk,\n",
    "    alice_pk, \n",
    "    bob_pk,\n",
    "    play_amount,\n",
    "    game_amount\n",
    ")\n",
    "alice_waiting_room_puzzle_hash = alice_waiting_room_puzzle.get_tree_hash()\n",
    "alice_waiting_room_address = encode_puzzle_hash(alice_waiting_room_puzzle_hash, \"txch\")\n",
    "alice_waiting_room_address"
   ]
  },
  {
   "cell_type": "code",
   "execution_count": 5,
   "id": "1d261593-6d00-4955-9fcf-7ced6f7786c0",
   "metadata": {},
   "outputs": [
    {
     "data": {
      "text/plain": [
       "'txch1ar2fme6md4wysj87ygxy0dhahp7ym3eww4ejtjfm0f5wre99mx6qu7quv6'"
      ]
     },
     "execution_count": 5,
     "metadata": {},
     "output_type": "execute_result"
    }
   ],
   "source": [
    "## bob\n",
    "bob_waiting_room_puzzle = waiting_room_puzzle.curry(\n",
    "    bob_puzzle_hash, \n",
    "    bob_pk,\n",
    "    alice_pk, \n",
    "    bob_pk,\n",
    "    play_amount,\n",
    "    game_amount\n",
    "    \n",
    ")\n",
    "bob_waiting_room_puzzle_hash = bob_waiting_room_puzzle.get_tree_hash()\n",
    "bob_waiting_room_address = encode_puzzle_hash(bob_waiting_room_puzzle_hash, \"txch\")\n",
    "bob_waiting_room_address"
   ]
  },
  {
   "cell_type": "code",
   "execution_count": 6,
   "id": "3f06b923-a35e-40f1-adfe-fc1a1085c252",
   "metadata": {},
   "outputs": [
    {
     "name": "stdout",
     "output_type": "stream",
     "text": [
      "Submitting transaction...\n",
      "Transaction submitted to nodes: [{'peer_id': '38401aad891c6ecd90a91150989b51e9c86d844e07387ed77338beda85b199e7', 'inclusion_status': 'SUCCESS', 'error_msg': None}]\n",
      "Run 'chia wallet get_transaction -f 4070016934 -tx 0x8baf4d6fca16b8daa1531e09d0eb7cdcf9bcfe71d786ae3aed26815b2bbf543f' to get status\n"
     ]
    }
   ],
   "source": [
    "%%bash\n",
    "chia wallet send -f 4070016934 -t txch10cy0fk9zs4slnlxvnq79gjdw8yfapdc82c7a0k6alljmrlyhcenqwwvzrt -a 1.000000000001"
   ]
  },
  {
   "cell_type": "code",
   "execution_count": 7,
   "id": "1b6aeb2f-2b0e-4f8e-bbf9-8f330462dd8a",
   "metadata": {},
   "outputs": [
    {
     "name": "stdout",
     "output_type": "stream",
     "text": [
      "Submitting transaction...\n",
      "Transaction submitted to nodes: [{'peer_id': '38401aad891c6ecd90a91150989b51e9c86d844e07387ed77338beda85b199e7', 'inclusion_status': 'SUCCESS', 'error_msg': None}]\n",
      "Run 'chia wallet get_transaction -f 861183802 -tx 0x1f175eb18a8061d7a32c622ee4a99270f5c09d950c380908fd7559240024926a' to get status\n"
     ]
    }
   ],
   "source": [
    "%%bash\n",
    "chia wallet send -f 861183802 -t txch1ar2fme6md4wysj87ygxy0dhahp7ym3eww4ejtjfm0f5wre99mx6qu7quv6 -a 1"
   ]
  },
  {
   "cell_type": "code",
   "execution_count": 8,
   "id": "1d62528a-71f3-4005-95ee-107b17d6dcc7",
   "metadata": {},
   "outputs": [
    {
     "name": "stdout",
     "output_type": "stream",
     "text": [
      "Farmed 1 Transaction blocks\n",
      "Block Height is now: 6\n"
     ]
    }
   ],
   "source": [
    "%%bash\n",
    "cdv sim -n tic-tac-toe farm"
   ]
  },
  {
   "cell_type": "code",
   "execution_count": 9,
   "id": "34936533-1690-4e59-85ab-5e76f99e4612",
   "metadata": {},
   "outputs": [
    {
     "name": "stdout",
     "output_type": "stream",
     "text": [
      "7e08f4d8a28561f9fccc983c5449ae3913d0b707563dd7db5dffe5b1fc97c666\n",
      "e8d49de75b6d5c4848fe220c47b6fdb87c4dc72e757325c93b7a68e1e4a5d9b4\n"
     ]
    }
   ],
   "source": [
    "print(alice_waiting_room_puzzle_hash)\n",
    "print(bob_waiting_room_puzzle_hash)"
   ]
  },
  {
   "cell_type": "code",
   "execution_count": 10,
   "id": "9dcf064a-00fa-4437-9cba-e4b1c2a128e6",
   "metadata": {},
   "outputs": [
    {
     "name": "stdout",
     "output_type": "stream",
     "text": [
      "[\n",
      "    {\n",
      "        \"coin\": {\n",
      "            \"amount\": 1000000000001,\n",
      "            \"parent_coin_info\": \"0xdf2cf850264c22b8bfe7da999b56b8a6689c9ce25be52d0807fe12ed8c9e1b5b\",\n",
      "            \"puzzle_hash\": \"0x7e08f4d8a28561f9fccc983c5449ae3913d0b707563dd7db5dffe5b1fc97c666\"\n",
      "        },\n",
      "        \"coinbase\": false,\n",
      "        \"confirmed_block_index\": 6,\n",
      "        \"spent_block_index\": 0,\n",
      "        \"timestamp\": 1665217886\n",
      "    }\n",
      "]\n",
      "[\n",
      "    {\n",
      "        \"coin\": {\n",
      "            \"amount\": 1000000000000,\n",
      "            \"parent_coin_info\": \"0xfc669e48c63de848a7159610118f21d96efeb328af1876afd91a17cf1fecda97\",\n",
      "            \"puzzle_hash\": \"0xe8d49de75b6d5c4848fe220c47b6fdb87c4dc72e757325c93b7a68e1e4a5d9b4\"\n",
      "        },\n",
      "        \"coinbase\": false,\n",
      "        \"confirmed_block_index\": 6,\n",
      "        \"spent_block_index\": 0,\n",
      "        \"timestamp\": 1665217886\n",
      "    }\n",
      "]\n"
     ]
    }
   ],
   "source": [
    "%%bash\n",
    "cdv rpc coinrecords --by puzzlehash \"7e08f4d8a28561f9fccc983c5449ae3913d0b707563dd7db5dffe5b1fc97c666\"\n",
    "cdv rpc coinrecords --by puzzlehash \"e8d49de75b6d5c4848fe220c47b6fdb87c4dc72e757325c93b7a68e1e4a5d9b4\""
   ]
  },
  {
   "cell_type": "code",
   "execution_count": null,
   "id": "c424ac75-88db-432d-8f74-7e7b2a4a3d50",
   "metadata": {},
   "outputs": [],
   "source": [
    "%%bash # reset to block 6\n",
    "CUR_HEIGHT=$(chia rpc full_node get_blockchain_state | jq \".blockchain_state.peak.height\")\n",
    "echo $CUR_HEIGHT\n",
    "echo $((CUR_HEIGHT-6))\n",
    "cdv sim -n tic-tac-toe revert -fd --blocks $((CUR_HEIGHT-6))"
   ]
  },
  {
   "cell_type": "markdown",
   "id": "e42b41e3-e8fa-4f4e-ad44-c71899b571da",
   "metadata": {},
   "source": [
    "## Terminate Puzzle (Curried)\n",
    "[terminate-game.clsp](../code/terminate-game.clsp)\n",
    "```clojure\n",
    "(mod (IS_SINGLETON PLAYER_ONE_HASH PLAYER_TWO_HASH P2_AMOUNT play_result)\n",
    "```"
   ]
  },
  {
   "cell_type": "code",
   "execution_count": null,
   "id": "57183e75-2166-42c8-a519-3400044ae2e0",
   "metadata": {},
   "outputs": [],
   "source": [
    "player_amount = 1_000_000_000_000\n",
    "player_fee = 50_000_000\n",
    "p2_amount = player_amount - player_fee\n",
    "game_amount = (player_amount * 2) + 1 # odd amount for singleton\n",
    "curried_terminate_puzzle = terminate_puzzle.curry(\n",
    "    1, # Terminate Singleton Coin\n",
    "    alice_puzzle_hash,\n",
    "    bob_puzzle_hash,\n",
    "    p2_amount\n",
    ")"
   ]
  },
  {
   "cell_type": "markdown",
   "id": "e56763db-775a-4191-87ef-090173156abf",
   "metadata": {},
   "source": [
    "## Coin Puzzle (Curried)\n",
    "[coin.clsp](../code/coin.clsp)\n",
    "```clojure\n",
    "(mod (MOD TERMINATE_PUZZLE PLAYER_ONE_INFO PLAYER_TWO_INFO CURRIED_TIC_TAC_TOE_PUZZLE AMOUNT position)\n",
    "```"
   ]
  },
  {
   "cell_type": "code",
   "execution_count": null,
   "id": "33ed713f-a160-4a72-b251-1a198acc7f78",
   "metadata": {},
   "outputs": [],
   "source": [
    "def get_coin_puzzle(board, player):\n",
    "    # (mod (BOARD V pos)\n",
    "    curried_tic_tac_toe_puzzle = tic_tac_toe_puzzle.curry(\n",
    "            Program.to(board), \n",
    "            Program.to(player)\n",
    "        ) \n",
    "\n",
    "    #(mod (MOD PLAYER_ONE_INFO PLAYER_TWO_INFO CURRIED_TIC_TAC_TOE_PUZZLE amount position)\n",
    "    curried_coin_puzzle = coin_puzzle.curry(\n",
    "        coin_puzzle,\n",
    "        curried_terminate_puzzle,\n",
    "        player_one_info,\n",
    "        player_two_info,\n",
    "        curried_tic_tac_toe_puzzle,\n",
    "        game_amount)\n",
    "    return curried_coin_puzzle\n",
    "\n",
    "curried_coin_puzzle = get_coin_puzzle([' '] * 9, 'x')"
   ]
  },
  {
   "cell_type": "markdown",
   "id": "f6870d0b-5585-4f3c-98bd-779af7bb5051",
   "metadata": {},
   "source": [
    "## Launcher Coin"
   ]
  },
  {
   "cell_type": "code",
   "execution_count": null,
   "id": "6ce647c9-5c59-46ea-bf16-985bce16475b",
   "metadata": {},
   "outputs": [],
   "source": [
    "from chia.rpc.full_node_rpc_client import FullNodeRpcClient\n",
    "from chia.util.config import load_config\n",
    "from chia.util.default_root import DEFAULT_ROOT_PATH\n",
    "from chia.util.ints import uint16\n",
    "\n",
    "config = load_config(DEFAULT_ROOT_PATH, \"config.yaml\")\n",
    "selected_network = config[\"selected_network\"]\n",
    "genesis_challenge = config[\"farmer\"][\"network_overrides\"][\"constants\"][selected_network][\"GENESIS_CHALLENGE\"]\n",
    "\n",
    "self_hostname = config[\"self_hostname\"] # localhost\n",
    "full_node_rpc_port = config[\"full_node\"][\"rpc_port\"] # 8555\n",
    "full_node_client = await FullNodeRpcClient.create(\n",
    "    self_hostname, uint16(full_node_rpc_port), DEFAULT_ROOT_PATH, config\n",
    ")\n",
    "coin_records = await full_node_client.get_coin_records_by_puzzle_hash(alice_waiting_room_puzzle_hash)\n",
    "full_node_client.close()\n",
    "await full_node_client.await_closed()\n",
    "\n",
    "alice_waiting_room_puzzle_coin = coin_records[0].coin"
   ]
  },
  {
   "cell_type": "code",
   "execution_count": null,
   "id": "ad8dd06a-f6b7-4706-b885-55ffed1a2f75",
   "metadata": {},
   "outputs": [],
   "source": [
    "from chia.types.blockchain_format.coin import Coin\n",
    "from chia.types.coin_spend import CoinSpend\n",
    "from chia.wallet.puzzles import singleton_top_layer_v1_1\n",
    "\n",
    "# prepare launcher coin\n",
    "launcher_coin = Coin(\n",
    "    alice_waiting_room_puzzle_coin.name(), # waiting_room's coin spend creates the launcher coin\n",
    "    singleton_top_layer_v1_1.SINGLETON_LAUNCHER_HASH, \n",
    "    game_amount\n",
    ")\n",
    "\n",
    "launcher_id = launcher_coin.name()\n",
    "print(f'\\nlauncher id: {launcher_id}')\n",
    "\n",
    "singleton_struct = (\n",
    "    singleton_top_layer_v1_1.SINGLETON_MOD_HASH, \n",
    "    (launcher_id, singleton_top_layer_v1_1.SINGLETON_LAUNCHER_HASH)\n",
    ")\n",
    "\n",
    "singleton_puzzle = singleton_top_layer_v1_1.SINGLETON_MOD.curry(\n",
    "    singleton_struct,\n",
    "    curried_coin_puzzle, # tic tac toe coin puzzle\n",
    ")\n",
    "launcher_coin"
   ]
  },
  {
   "cell_type": "code",
   "execution_count": null,
   "id": "62cedb69-0185-434c-98b5-d2964e5b022e",
   "metadata": {},
   "outputs": [],
   "source": [
    "launcher_solution = Program.to(\n",
    "    [\n",
    "        singleton_puzzle.get_tree_hash(),\n",
    "        game_amount,\n",
    "        [\n",
    "            (\"game\", \"tic tac toe\"), \n",
    "            (\"player one\", alice_puzzle_hash),\n",
    "            (\"player two\", bob_puzzle_hash),\n",
    "        ]\n",
    "    ]\n",
    ")\n",
    "launcher_announcement = launcher_solution.get_tree_hash()\n",
    "\n",
    "launcher_coin_spend = CoinSpend(\n",
    "    launcher_coin,\n",
    "    singleton_top_layer_v1_1.SINGLETON_LAUNCHER,\n",
    "    launcher_solution\n",
    ")\n",
    "print_json(launcher_coin_spend.to_json_dict())"
   ]
  },
  {
   "cell_type": "code",
   "execution_count": null,
   "id": "8ba9369f-92db-44f0-8090-1df421a4055f",
   "metadata": {},
   "outputs": [],
   "source": []
  }
 ],
 "metadata": {
  "kernelspec": {
   "display_name": "Python 3 (ipykernel)",
   "language": "python",
   "name": "python3"
  },
  "language_info": {
   "codemirror_mode": {
    "name": "ipython",
    "version": 3
   },
   "file_extension": ".py",
   "mimetype": "text/x-python",
   "name": "python",
   "nbconvert_exporter": "python",
   "pygments_lexer": "ipython3",
   "version": "3.10.7"
  }
 },
 "nbformat": 4,
 "nbformat_minor": 5
}
