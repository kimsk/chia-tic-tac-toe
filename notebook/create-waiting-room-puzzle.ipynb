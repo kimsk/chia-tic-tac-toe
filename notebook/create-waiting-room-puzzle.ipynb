{
 "cells": [
  {
   "cell_type": "code",
   "execution_count": 1,
   "id": "e2429336-ecc4-4569-bd15-b024a64ba9d9",
   "metadata": {},
   "outputs": [
    {
     "name": "stdout",
     "output_type": "stream",
     "text": [
      "1.5.2.dev2601\n",
      "cdv, version 1.1.1\n",
      "Python 3.10.6\n"
     ]
    }
   ],
   "source": [
    "%%bash\n",
    "chia version\n",
    "cdv --version\n",
    "python --version"
   ]
  },
  {
   "cell_type": "markdown",
   "id": "92f299a9-26b6-4b44-8bb5-d447ad86b7e7",
   "metadata": {},
   "source": [
    "# Set Up Chia Simulator"
   ]
  },
  {
   "cell_type": "code",
   "execution_count": 3,
   "id": "55fd0d2e-87df-4f7c-8844-ff030b749128",
   "metadata": {},
   "outputs": [
    {
     "name": "stdout",
     "output_type": "stream",
     "text": [
      "Network: simulator0    Port: 43858   RPC Port: 23141\n",
      "Node ID: 5d4086cbb6613b4105aab8e9785a582ba309d87ff97824025438acca801fac16\n",
      "Genesis Challenge: eb8c4d20b322be8d9fddbf9412016bdffe9a2901d7edb0e364e94266d0e095f7\n",
      "Current Blockchain Status: Full Node Synced\n",
      "\n",
      "Peak: Hash: 4564db5decced36090f38e3e29a1a1aea1fc6331b6fa42f08287af15391e4bc6\n",
      "      Time: Tue Sep 20 2022 22:22:56 +07                  Height:          2\n",
      "\n",
      "Estimated network space: 7.030 MiB\n",
      "Current difficulty: 1024\n",
      "Current VDF sub_slot_iters: 1024\n",
      "\n",
      "  Height: |   Hash:\n",
      "        2 | 4564db5decced36090f38e3e29a1a1aea1fc6331b6fa42f08287af15391e4bc6\n",
      "        1 | 9bade947f87384e17cae7f08df08d769fcb0e3d58bc72007f9a0f1dd82eb7593\n",
      "Showing all public keys derived from your master seed and private key:\n",
      "\n",
      "Label: main\n",
      "Fingerprint: 3570018204\n",
      "Master public key (m): b986e494e60434e38002d9ebe528107d693237ea7f188abd03d629f905211a8f3b195548bf92493f0d0133f09ec3a82e\n",
      "Farmer public key (m/12381/8444/0/0): 95d4be2f8cf70e444bdc9568598a21e0fdc7690b9ca4f34371b9d9bba0ee0b671c41e1e30b83e98bfdc56da2deb14339\n",
      "Pool public key (m/12381/8444/1/0): b4f4694ae88fef1f676ae433cccb2e52d3879221f2b11ae425e2befeb743d5c9ed599c26028be9ed4945317200060627\n",
      "First wallet address: txch12cf83y64cxkcpdftnz3pkj6pgyk6h665chja6dzajppgfx9tynjq9t93qv\n",
      "\n",
      "Label: alice\n",
      "Fingerprint: 2620633628\n",
      "Master public key (m): 995d75cd9a6827293b4f53c11b553c5ca7facd3591abf5a129968eba775911a35be85c933219467a11c1510c00b083e4\n",
      "Farmer public key (m/12381/8444/0/0): 82eb3da856823d4922b56e3cf8a5464e8089021db9e4862a75d84128b358d22823c4160194d1a74bacd70e94593904da\n",
      "Pool public key (m/12381/8444/1/0): ac330637f266d820a17efef15c3a7b08e8ab456f41e31be3d5a79f92a3c15c2f1b70904d29e97ce417a7970f7ed5e144\n",
      "First wallet address: txch1x9r36u9tryfum2uz2qdejjfvcgmlk9nwcjd9qlhqegqqqlldyq6s4ul5wl\n",
      "\n",
      "Label: bob\n",
      "Fingerprint: 505650069\n",
      "Master public key (m): 995fa75eda49dcf20ba610ca6957bdd81b33af1855652761ead0b4c097b58cf53033ef74b52ea422f3fd44229153cedb\n",
      "Farmer public key (m/12381/8444/0/0): a756d5141c3edf005c20a863a5e33c654904987c9feee6293e0227794e7f610bd9662b83d3d1a91c5695a6f704f8cac3\n",
      "Pool public key (m/12381/8444/1/0): b402aebe36d649b43cae39945202a48b48cb6bf071accd3ba3aa23b8721eff3dc0ffe0813bbae301cbb768a179d06746\n",
      "First wallet address: txch1lf6qhdld63ryf9uyh32l6ycfjegx5vmuquvpr77l2z2ez4wu2nzscxalh4\n"
     ]
    }
   ],
   "source": [
    "%%bash\n",
    "chia show -s\n",
    "chia keys show"
   ]
  },
  {
   "cell_type": "code",
   "execution_count": 4,
   "id": "87b4ee78-86f3-4e42-8f1e-4340b6bbfbd9",
   "metadata": {},
   "outputs": [
    {
     "name": "stdout",
     "output_type": "stream",
     "text": [
      "Farmed 1 Transaction blocks\n",
      "Block Height is now: 3\n",
      "Farmed 1 Transaction blocks\n",
      "Block Height is now: 4\n"
     ]
    }
   ],
   "source": [
    "%%bash\n",
    "# farm to Alice's address\n",
    "cdv sim farm --target-address 'txch1x9r36u9tryfum2uz2qdejjfvcgmlk9nwcjd9qlhqegqqqlldyq6s4ul5wl'\n",
    "# farm to Bob's address\n",
    "cdv sim farm --target-address 'txch1lf6qhdld63ryf9uyh32l6ycfjegx5vmuquvpr77l2z2ez4wu2nzscxalh4'"
   ]
  },
  {
   "cell_type": "code",
   "execution_count": 9,
   "id": "94f9b099-de40-4d2a-b548-8af8e7d86053",
   "metadata": {},
   "outputs": [
    {
     "name": "stdout",
     "output_type": "stream",
     "text": [
      "Wallet height: 6\n",
      "Sync status: Synced\n",
      "Balances, fingerprint: 2620633628\n",
      "\n",
      "Chia Wallet:\n",
      "   -Total Balance:         2.0 txch (2000000000000 mojo)\n",
      "   -Pending Total Balance: 2.0 txch (2000000000000 mojo)\n",
      "   -Spendable:             2.0 txch (2000000000000 mojo)\n",
      "   -Type:                  STANDARD_WALLET\n",
      "   -Wallet ID:             1\n",
      " \n",
      "Connections:\n",
      "Type      IP                                     Ports       NodeID      Last Connect      MiB Up|Dwn\n",
      "FULL_NODE 127.0.0.1                              43858/43858 5d4086cb... Sep 20 22:24:38      0.0|0.1    \n",
      "                                                 -Height: No Info    -Hash: No Info    -Trusted: True\n"
     ]
    }
   ],
   "source": [
    "%%bash\n",
    "chia wallet show -f 2620633628"
   ]
  },
  {
   "cell_type": "code",
   "execution_count": 11,
   "id": "3d2130c2-27d1-4053-bdaa-763e0cdc98c3",
   "metadata": {},
   "outputs": [
    {
     "name": "stdout",
     "output_type": "stream",
     "text": [
      "Wallet height: 6\n",
      "Sync status: Synced\n",
      "Balances, fingerprint: 505650069\n",
      "\n",
      "Chia Wallet:\n",
      "   -Total Balance:         2.0 txch (2000000000000 mojo)\n",
      "   -Pending Total Balance: 2.0 txch (2000000000000 mojo)\n",
      "   -Spendable:             2.0 txch (2000000000000 mojo)\n",
      "   -Type:                  STANDARD_WALLET\n",
      "   -Wallet ID:             1\n",
      " \n",
      "Connections:\n",
      "Type      IP                                     Ports       NodeID      Last Connect      MiB Up|Dwn\n",
      "FULL_NODE 127.0.0.1                              43858/43858 5d4086cb... Sep 20 22:24:44      0.0|0.1    \n",
      "                                                 -Height: No Info    -Hash: No Info    -Trusted: True\n"
     ]
    }
   ],
   "source": [
    "%%bash\n",
    "chia wallet show -f 505650069"
   ]
  },
  {
   "cell_type": "code",
   "execution_count": 12,
   "id": "076cf7d2-9bde-4b41-9337-8360a98c8e01",
   "metadata": {},
   "outputs": [
    {
     "name": "stdout",
     "output_type": "stream",
     "text": [
      "31471d70ab1913cdab82501b99492cc237fb166ec49a507ee0ca00007fed2035\n"
     ]
    }
   ],
   "source": [
    "%%bash\n",
    "cdv decode txch1x9r36u9tryfum2uz2qdejjfvcgmlk9nwcjd9qlhqegqqqlldyq6s4ul5wl"
   ]
  },
  {
   "cell_type": "code",
   "execution_count": 13,
   "id": "ff55ce89-59ee-4e9d-ba66-bcded1e6dce5",
   "metadata": {},
   "outputs": [
    {
     "name": "stdout",
     "output_type": "stream",
     "text": [
      "{\n",
      "    \"29a287174bdbbad83dc48f95b45100f583f2ac29675af528475ce61133546cac\": {\n",
      "        \"coin\": {\n",
      "            \"amount\": 1750000000000,\n",
      "            \"parent_coin_info\": \"0xeb8c4d20b322be8d9fddbf9412016bdf00000000000000000000000000000003\",\n",
      "            \"puzzle_hash\": \"0x31471d70ab1913cdab82501b99492cc237fb166ec49a507ee0ca00007fed2035\"\n",
      "        },\n",
      "        \"coinbase\": true,\n",
      "        \"confirmed_block_index\": 4,\n",
      "        \"spent_block_index\": 0,\n",
      "        \"timestamp\": 1663687441\n",
      "    },\n",
      "    \"354ef4bfed5c2a127d6989f8333b279e6af37079a4affa2a2f8c45f3a63982c8\": {\n",
      "        \"coin\": {\n",
      "            \"amount\": 250000000000,\n",
      "            \"parent_coin_info\": \"0xfe9a2901d7edb0e364e94266d0e095f700000000000000000000000000000003\",\n",
      "            \"puzzle_hash\": \"0x31471d70ab1913cdab82501b99492cc237fb166ec49a507ee0ca00007fed2035\"\n",
      "        },\n",
      "        \"coinbase\": true,\n",
      "        \"confirmed_block_index\": 4,\n",
      "        \"spent_block_index\": 0,\n",
      "        \"timestamp\": 1663687441\n",
      "    }\n",
      "}\n"
     ]
    }
   ],
   "source": [
    "%%bash\n",
    "cdv rpc coinrecords --by puzzlehash 31471d70ab1913cdab82501b99492cc237fb166ec49a507ee0ca00007fed2035 -nd"
   ]
  },
  {
   "cell_type": "markdown",
   "id": "a85e37c4-42fe-4f0f-b0ca-a37df460f1c9",
   "metadata": {},
   "source": [
    "# Prepare Public Keys from Alice (2620633628) and Bob (505650069)"
   ]
  },
  {
   "cell_type": "code",
   "execution_count": 14,
   "id": "d720accd-5ff0-48f2-85fc-2c0ed725473a",
   "metadata": {},
   "outputs": [
    {
     "name": "stdout",
     "output_type": "stream",
     "text": [
      "Wallet public key 0 (m/12381/8444/2/0): b9b03d861f5781e4611f3be8f1147249e5efbbf9cf41e7abc8325a7a2ba97f4f8789718af8d222efbbe3680ec000b9db\n",
      "Wallet public key 0 (m/12381/8444/2/0): b808ef948e5d09284543dca71921508a5e2b30e954fde583dfc4e99de22b63a51f547ec937d6f24aa7f6f9bb5995c149\n"
     ]
    }
   ],
   "source": [
    "%%bash\n",
    "chia keys derive -f 2620633628 child-key -t wallet -i 0 --show-hd-path\n",
    "chia keys derive -f 505650069 child-key -t wallet -i 0 --show-hd-path"
   ]
  },
  {
   "cell_type": "code",
   "execution_count": 31,
   "id": "12b338df-1f96-4fa6-b7dd-ceaf4f8efb38",
   "metadata": {},
   "outputs": [],
   "source": [
    "# chia libraries\n",
    "from blspy import (PrivateKey, AugSchemeMPL, G1Element, G2Element)\n",
    "from chia.types.blockchain_format.program import Program\n",
    "from chia.wallet.puzzles import (p2_delegated_puzzle_or_hidden_puzzle)\n",
    "# utils & tic tac toe helper code\n",
    "import sys\n",
    "sys.path.insert(0, \"../code\")\n",
    "from utils import (load_program, print_program, print_puzzle, print_json)\n",
    "import singleton_utils\n",
    "import tic_tac_toe\n",
    "\n",
    "# puzzles\n",
    "tic_tac_toe_puzzle = load_program(\"../code/tic-tac-toe.clsp\", [\"../code\"])\n",
    "coin_puzzle = load_program(\"../code/coin.clsp\", [\"../code\"])\n",
    "terminate_puzzle = load_program(\"../code/terminate-game.clsp\", [\"../code\"])\n",
    "\n",
    "waiting_room_puzzle = load_program(\"../code/waiting-room.clsp\", [\"../code\"])\n",
    "play_amount = 1_000_000_000_000"
   ]
  },
  {
   "cell_type": "code",
   "execution_count": 16,
   "id": "f6384545-60a2-47c6-ba7f-c6751c64c939",
   "metadata": {},
   "outputs": [],
   "source": [
    "alice_pk = G1Element.from_bytes(bytes.fromhex(\"b9b03d861f5781e4611f3be8f1147249e5efbbf9cf41e7abc8325a7a2ba97f4f8789718af8d222efbbe3680ec000b9db\"))\n",
    "alice_puzzle_hash = p2_delegated_puzzle_or_hidden_puzzle.puzzle_for_pk(alice_pk).get_tree_hash()\n",
    "bob_pk = G1Element.from_bytes(bytes.fromhex(\"b808ef948e5d09284543dca71921508a5e2b30e954fde583dfc4e99de22b63a51f547ec937d6f24aa7f6f9bb5995c149\"))\n",
    "bob_puzzle_hash = p2_delegated_puzzle_or_hidden_puzzle.puzzle_for_pk(bob_pk).get_tree_hash()\n",
    "\n",
    "# prepare players info\n",
    "player_one_info = Program.to([alice_pk, alice_puzzle_hash])\n",
    "player_two_info = Program.to([bob_pk, bob_puzzle_hash])\n"
   ]
  },
  {
   "cell_type": "markdown",
   "id": "ffface04-4073-404b-a324-3b203389d51f",
   "metadata": {},
   "source": [
    "## Create Waiting Room Coins\n",
    "[waiting-room.clsp](../code/waiting-room.clsp)\n",
    "```clojure\n",
    "(mod (OWNER_PUZZLE_HASH PK action)\n",
    "```"
   ]
  },
  {
   "cell_type": "code",
   "execution_count": 17,
   "id": "bbd46cd6-f044-4b42-a492-7ee16e2ac1a5",
   "metadata": {},
   "outputs": [
    {
     "data": {
      "text/plain": [
       "'txch19f0wmlraav4xgpuvggz7vuhj52ma6enj55eapuhylxth4x3f7v6sx9tdwp'"
      ]
     },
     "execution_count": 17,
     "metadata": {},
     "output_type": "execute_result"
    }
   ],
   "source": [
    "from chia.util.bech32m import encode_puzzle_hash\n",
    "## alice\n",
    "alice_waiting_room_puzzle = waiting_room_puzzle.curry(\n",
    "    alice_puzzle_hash,\n",
    "    alice_pk\n",
    ")\n",
    "alice_waiting_room_puzzle_hash = alice_waiting_room_puzzle.get_tree_hash()\n",
    "alice_waiting_room_address = encode_puzzle_hash(alice_waiting_room_puzzle_hash, \"txch\")\n",
    "alice_waiting_room_address"
   ]
  },
  {
   "cell_type": "code",
   "execution_count": 18,
   "id": "1d261593-6d00-4955-9fcf-7ced6f7786c0",
   "metadata": {},
   "outputs": [
    {
     "data": {
      "text/plain": [
       "'txch1q5gkykpez0whmz8at39ddn6l766aafuualt2t5e9v8aprheghjgqurtcqc'"
      ]
     },
     "execution_count": 18,
     "metadata": {},
     "output_type": "execute_result"
    }
   ],
   "source": [
    "## bob\n",
    "bob_waiting_room_puzzle = waiting_room_puzzle.curry(\n",
    "    bob_puzzle_hash,\n",
    "    bob_pk\n",
    ")\n",
    "bob_waiting_room_puzzle_hash = bob_waiting_room_puzzle.get_tree_hash()\n",
    "bob_waiting_room_address = encode_puzzle_hash(bob_waiting_room_puzzle_hash, \"txch\")\n",
    "bob_waiting_room_address"
   ]
  },
  {
   "cell_type": "code",
   "execution_count": 20,
   "id": "3f06b923-a35e-40f1-adfe-fc1a1085c252",
   "metadata": {},
   "outputs": [
    {
     "name": "stdout",
     "output_type": "stream",
     "text": [
      "Submitting transaction...\n",
      "Transaction submitted to nodes: [{'peer_id': '5d4086cbb6613b4105aab8e9785a582ba309d87ff97824025438acca801fac16', 'inclusion_status': 'SUCCESS', 'error_msg': None}]\n",
      "Run 'chia wallet get_transaction -f 2620633628 -tx 0x4023478f440ee231a28ac67671ac479aff85dfe8bcdb1bf97b4e13f6c7bc6a42' to get status\n"
     ]
    }
   ],
   "source": [
    "%%bash\n",
    "chia wallet send -f 2620633628 -t txch19f0wmlraav4xgpuvggz7vuhj52ma6enj55eapuhylxth4x3f7v6sx9tdwp -a 1.000000000001"
   ]
  },
  {
   "cell_type": "code",
   "execution_count": 23,
   "id": "1b6aeb2f-2b0e-4f8e-bbf9-8f330462dd8a",
   "metadata": {},
   "outputs": [
    {
     "name": "stdout",
     "output_type": "stream",
     "text": [
      "Submitting transaction...\n",
      "Transaction submitted to nodes: [{'peer_id': '5d4086cbb6613b4105aab8e9785a582ba309d87ff97824025438acca801fac16', 'inclusion_status': 'SUCCESS', 'error_msg': None}]\n",
      "Run 'chia wallet get_transaction -f 505650069 -tx 0x3bb44a7936ee4025cd977b97fbf841eb627e0208931573765e36d7b3f9413358' to get status\n"
     ]
    }
   ],
   "source": [
    "%%bash\n",
    "chia wallet send -f 505650069 -t txch1q5gkykpez0whmz8at39ddn6l766aafuualt2t5e9v8aprheghjgqurtcqc -a 1"
   ]
  },
  {
   "cell_type": "markdown",
   "id": "e42b41e3-e8fa-4f4e-ad44-c71899b571da",
   "metadata": {},
   "source": [
    "## Terminate Puzzle (Curried)\n",
    "[terminate-game.clsp](../code/terminate-game.clsp)\n",
    "```clojure\n",
    "(mod (IS_SINGLETON PLAYER_ONE_HASH PLAYER_TWO_HASH P2_AMOUNT play_result)\n",
    "```"
   ]
  },
  {
   "cell_type": "code",
   "execution_count": 24,
   "id": "57183e75-2166-42c8-a519-3400044ae2e0",
   "metadata": {},
   "outputs": [],
   "source": [
    "player_amount = 1_000_000_000_000\n",
    "player_fee = 50_000_000\n",
    "p2_amount = player_amount - player_fee\n",
    "game_amount = (player_amount * 2) + 1 # odd amount for singleton\n",
    "curried_terminate_puzzle = terminate_puzzle.curry(\n",
    "    1, # Terminate Singleton Coin\n",
    "    alice_puzzle_hash,\n",
    "    bob_puzzle_hash,\n",
    "    p2_amount\n",
    ")"
   ]
  },
  {
   "cell_type": "markdown",
   "id": "e56763db-775a-4191-87ef-090173156abf",
   "metadata": {},
   "source": [
    "## Coin Puzzle (Curried)\n",
    "[coin.clsp](../code/coin.clsp)\n",
    "```clojure\n",
    "(mod (MOD TERMINATE_PUZZLE PLAYER_ONE_INFO PLAYER_TWO_INFO CURRIED_TIC_TAC_TOE_PUZZLE AMOUNT position)\n",
    "```"
   ]
  },
  {
   "cell_type": "code",
   "execution_count": 25,
   "id": "33ed713f-a160-4a72-b251-1a198acc7f78",
   "metadata": {},
   "outputs": [],
   "source": [
    "def get_coin_puzzle(board, player):\n",
    "    # (mod (BOARD V pos)\n",
    "    curried_tic_tac_toe_puzzle = tic_tac_toe_puzzle.curry(\n",
    "            Program.to(board), \n",
    "            Program.to(player)\n",
    "        ) \n",
    "\n",
    "    #(mod (MOD PLAYER_ONE_INFO PLAYER_TWO_INFO CURRIED_TIC_TAC_TOE_PUZZLE amount position)\n",
    "    curried_coin_puzzle = coin_puzzle.curry(\n",
    "        coin_puzzle,\n",
    "        curried_terminate_puzzle,\n",
    "        player_one_info,\n",
    "        player_two_info,\n",
    "        curried_tic_tac_toe_puzzle,\n",
    "        game_amount)\n",
    "    return curried_coin_puzzle\n",
    "\n",
    "curried_coin_puzzle = get_coin_puzzle([' '] * 9, 'x')"
   ]
  },
  {
   "cell_type": "markdown",
   "id": "f6870d0b-5585-4f3c-98bd-779af7bb5051",
   "metadata": {},
   "source": [
    "## Launcher Coin"
   ]
  },
  {
   "cell_type": "code",
   "execution_count": 28,
   "id": "6ce647c9-5c59-46ea-bf16-985bce16475b",
   "metadata": {},
   "outputs": [],
   "source": [
    "from chia.rpc.full_node_rpc_client import FullNodeRpcClient\n",
    "from chia.util.config import load_config\n",
    "from chia.util.default_root import DEFAULT_ROOT_PATH\n",
    "from chia.util.ints import uint16\n",
    "\n",
    "config = load_config(DEFAULT_ROOT_PATH, \"config.yaml\")\n",
    "selected_network = config[\"selected_network\"]\n",
    "genesis_challenge = config[\"farmer\"][\"network_overrides\"][\"constants\"][selected_network][\"GENESIS_CHALLENGE\"]\n",
    "\n",
    "self_hostname = config[\"self_hostname\"] # localhost\n",
    "full_node_rpc_port = config[\"full_node\"][\"rpc_port\"] # 8555\n",
    "full_node_client = await FullNodeRpcClient.create(\n",
    "    self_hostname, uint16(full_node_rpc_port), DEFAULT_ROOT_PATH, config\n",
    ")\n",
    "coin_records = await full_node_client.get_coin_records_by_puzzle_hash(alice_waiting_room_puzzle_hash)\n",
    "full_node_client.close()\n",
    "await full_node_client.await_closed()\n",
    "\n",
    "alice_waiting_room_puzzle_coin = coin_records[0].coin"
   ]
  },
  {
   "cell_type": "code",
   "execution_count": 29,
   "id": "ad8dd06a-f6b7-4706-b885-55ffed1a2f75",
   "metadata": {},
   "outputs": [
    {
     "name": "stdout",
     "output_type": "stream",
     "text": [
      "\n",
      "launcher id: b'\\xcf\\xef\\xe5%\\xa9\\x80\\xe0\\x81\\xb5\\x98D\\xbb\\x91B8\\x02s\\x15\\xf3g?\\xeb\\x7f\\x98>\\xcfbK\\x10\\x10\\xbd\\x1f'\n"
     ]
    },
    {
     "data": {
      "text/plain": [
       "Coin { parent_coin_info: f4b89c7651bfe282c6292ef2cf890e9e479abe8475ae772d15df9160df5a0984, puzzle_hash: eff07522495060c066f66f32acc2a77e3a3e737aca8baea4d1a64ea4cdc13da9, amount: 2000000000001 }"
      ]
     },
     "execution_count": 29,
     "metadata": {},
     "output_type": "execute_result"
    }
   ],
   "source": [
    "from chia.types.blockchain_format.coin import Coin\n",
    "from chia.types.coin_spend import CoinSpend\n",
    "from chia.wallet.puzzles import singleton_top_layer_v1_1\n",
    "\n",
    "# prepare launcher coin\n",
    "launcher_coin = Coin(\n",
    "    alice_waiting_room_puzzle_coin.name(), # waiting_room's coin spend creates the launcher coin\n",
    "    singleton_top_layer_v1_1.SINGLETON_LAUNCHER_HASH, \n",
    "    game_amount\n",
    ")\n",
    "\n",
    "launcher_id = launcher_coin.name()\n",
    "print(f'\\nlauncher id: {launcher_id}')\n",
    "\n",
    "singleton_struct = (\n",
    "    singleton_top_layer_v1_1.SINGLETON_MOD_HASH, \n",
    "    (launcher_id, singleton_top_layer_v1_1.SINGLETON_LAUNCHER_HASH)\n",
    ")\n",
    "\n",
    "singleton_puzzle = singleton_top_layer_v1_1.SINGLETON_MOD.curry(\n",
    "    singleton_struct,\n",
    "    curried_coin_puzzle, # tic tac toe coin puzzle\n",
    ")\n",
    "launcher_coin"
   ]
  },
  {
   "cell_type": "code",
   "execution_count": 32,
   "id": "62cedb69-0185-434c-98b5-d2964e5b022e",
   "metadata": {},
   "outputs": [
    {
     "name": "stdout",
     "output_type": "stream",
     "text": [
      "{\n",
      "    \"coin\": {\n",
      "        \"amount\": 2000000000001,\n",
      "        \"parent_coin_info\": \"0xf4b89c7651bfe282c6292ef2cf890e9e479abe8475ae772d15df9160df5a0984\",\n",
      "        \"puzzle_hash\": \"0xeff07522495060c066f66f32acc2a77e3a3e737aca8baea4d1a64ea4cdc13da9\"\n",
      "    },\n",
      "    \"puzzle_reveal\": \"0xff02ffff01ff04ffff04ff04ffff04ff05ffff04ff0bff80808080ffff04ffff04ff0affff04ffff02ff0effff04ff02ffff04ffff04ff05ffff04ff0bffff04ff17ff80808080ff80808080ff808080ff808080ffff04ffff01ff33ff3cff02ffff03ffff07ff0580ffff01ff0bffff0102ffff02ff0effff04ff02ffff04ff09ff80808080ffff02ff0effff04ff02ffff04ff0dff8080808080ffff01ff0bffff0101ff058080ff0180ff018080\",\n",
      "    \"solution\": \"0xffa0e68b47f242a438c856daf32f0caa0977974dda5517bc3d75df012b6e4ced5723ff8601d1a94a2001ffffff8467616d658b7469632074616320746f65ffff8a706c61796572206f6e65a031471d70ab1913cdab82501b99492cc237fb166ec49a507ee0ca00007fed2035ffff8a706c617965722074776fa0fa740bb7edd446449784bc55fd130996506a337c071811fbdf50959155dc54c58080\"\n",
      "}\n"
     ]
    }
   ],
   "source": [
    "launcher_solution = Program.to(\n",
    "    [\n",
    "        singleton_puzzle.get_tree_hash(),\n",
    "        game_amount,\n",
    "        [\n",
    "            (\"game\", \"tic tac toe\"), \n",
    "            (\"player one\", alice_puzzle_hash),\n",
    "            (\"player two\", bob_puzzle_hash),\n",
    "        ]\n",
    "    ]\n",
    ")\n",
    "launcher_announcement = launcher_solution.get_tree_hash()\n",
    "\n",
    "launcher_coin_spend = CoinSpend(\n",
    "    launcher_coin,\n",
    "    singleton_top_layer_v1_1.SINGLETON_LAUNCHER,\n",
    "    launcher_solution\n",
    ")\n",
    "print_json(launcher_coin_spend.to_json_dict())"
   ]
  },
  {
   "cell_type": "code",
   "execution_count": null,
   "id": "8ba9369f-92db-44f0-8090-1df421a4055f",
   "metadata": {},
   "outputs": [],
   "source": []
  }
 ],
 "metadata": {
  "kernelspec": {
   "display_name": "Python 3 (ipykernel)",
   "language": "python",
   "name": "python3"
  },
  "language_info": {
   "codemirror_mode": {
    "name": "ipython",
    "version": 3
   },
   "file_extension": ".py",
   "mimetype": "text/x-python",
   "name": "python",
   "nbconvert_exporter": "python",
   "pygments_lexer": "ipython3",
   "version": "3.10.6"
  }
 },
 "nbformat": 4,
 "nbformat_minor": 5
}
