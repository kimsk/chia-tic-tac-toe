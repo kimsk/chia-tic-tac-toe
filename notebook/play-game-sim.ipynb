{
 "cells": [
  {
   "cell_type": "code",
   "execution_count": 1,
   "id": "60281ace-8422-48af-bea3-212fe9ffb9c4",
   "metadata": {},
   "outputs": [
    {
     "name": "stdout",
     "output_type": "stream",
     "text": [
      "1.6.1b4.dev15\n",
      "cdv, version 1.1.2\n",
      "Python 3.10.7\n"
     ]
    }
   ],
   "source": [
    "%%bash\n",
    "chia version\n",
    "cdv --version\n",
    "python --version"
   ]
  },
  {
   "cell_type": "code",
   "execution_count": 2,
   "id": "401ed02e-2bd0-4648-8383-2afe646afa8c",
   "metadata": {},
   "outputs": [],
   "source": [
    "# chia libraries\n",
    "from blspy import (PrivateKey, AugSchemeMPL, G2Element)\n",
    "\n",
    "from chia.consensus.default_constants import DEFAULT_CONSTANTS\n",
    "from chia.types.blockchain_format.coin import Coin\n",
    "from chia.types.blockchain_format.program import Program\n",
    "from chia.types.coin_spend import CoinSpend\n",
    "from chia.types.condition_opcodes import ConditionOpcode\n",
    "from chia.types.spend_bundle import SpendBundle\n",
    "from chia.util.hash import std_hash\n",
    "from chia.wallet.puzzles import p2_delegated_puzzle_or_hidden_puzzle\n",
    "\n",
    "from clvm.casts import int_to_bytes\n",
    "from clvm_tools.clvmc import compile_clvm_text\n",
    "from clvm_tools.binutils import disassemble\n",
    "\n",
    "# utils & tic tac toe helper code\n",
    "import sys\n",
    "sys.path.insert(0, \"../code\")\n",
    "from utils import (load_program, print_program, print_puzzle, print_json, print_push_tx_result)\n",
    "import singleton_utils\n",
    "import tic_tac_toe\n",
    "\n",
    "# puzzles\n",
    "tic_tac_toe_puzzle = load_program(\"../code/tic-tac-toe.clsp\", [\"../code\"])\n",
    "coin_puzzle = load_program(\"../code/coin.clsp\", [\"../code\"])\n",
    "terminate_puzzle = load_program(\"../code/terminate-game.clsp\", [\"../code\"])\n",
    "\n",
    "waiting_room_puzzle = load_program(\"../code/waiting-room.clsp\", [\"../code\"])\n",
    "play_amount = 1_000_000_000_000\n",
    "game_amount = (play_amount * 2) + 1 # singleton odd mojos"
   ]
  },
  {
   "cell_type": "markdown",
   "id": "2cb519d4-97ab-4c13-b2ee-b09aa66062e6",
   "metadata": {},
   "source": [
    "## 1. Set Up A Blockchain Simulator"
   ]
  },
  {
   "cell_type": "code",
   "execution_count": 3,
   "id": "5ae088da-02a3-42cf-9f80-4ed81894004d",
   "metadata": {},
   "outputs": [
    {
     "name": "stdout",
     "output_type": "stream",
     "text": [
      "alice balance:\t\t2000000000000\n",
      "alice pk:\t\taba7ed288dd79189bec34698a3437fa7a45f801596d397a4f70081a0956dcdbe998388bfa758f4d49fa421ce3850a6d8\n",
      "alice puzzle hash:\t4f45877796d7a64e192bcc9f899afeedae391f71af3afd7e15a0792c049d23d3\n",
      "bob balance:\t\t2000000000000\n",
      "alice pk:\t\taba7ed288dd79189bec34698a3437fa7a45f801596d397a4f70081a0956dcdbe998388bfa758f4d49fa421ce3850a6d8\n",
      "bob puzzle hash:\t87908e3f85bf4b55c7e7709915c2ce97a1e6ec1d227e54a04dbfee6862d546a5\n"
     ]
    }
   ],
   "source": [
    "from cdv.test import Network, Wallet\n",
    "\n",
    "network: Network = await Network.create()\n",
    "\n",
    "# use as function parameters\n",
    "get_coin_records_by_parent_ids = network.sim_client.get_coin_records_by_parent_ids\n",
    "get_coin_records_by_puzzle_hash = network.sim_client.get_coin_records_by_puzzle_hash\n",
    "get_coin_record_by_name = network.sim_client.get_coin_record_by_name\n",
    "get_puzzle_and_solution = network.sim_client.get_puzzle_and_solution        \n",
    "get_block_records = network.sim_client.get_block_records\n",
    "get_additions_and_removals = network.sim_client.get_additions_and_removals\n",
    "\n",
    "await network.farm_block()\n",
    "\n",
    "alice: Wallet = network.make_wallet(\"alice\")\n",
    "bob: Wallet = network.make_wallet(\"bob\")\n",
    "await network.farm_block(farmer=alice)\n",
    "await network.farm_block(farmer=bob)\n",
    "\n",
    "print(f'alice balance:\\t\\t{alice.balance()}')\n",
    "print(f'alice pk:\\t\\t{alice.pk()}')\n",
    "print(f'alice puzzle hash:\\t{alice.puzzle_hash}')\n",
    "print(f'bob balance:\\t\\t{bob.balance()}')\n",
    "print(f'alice pk:\\t\\t{alice.pk()}')\n",
    "print(f'bob puzzle hash:\\t{bob.puzzle_hash}')\n",
    "\n",
    "# prepare players info\n",
    "player_one_info = Program.to([alice.pk(), alice.puzzle_hash])\n",
    "player_two_info = Program.to([bob.pk(), bob.puzzle_hash])\n",
    "\n",
    "alice_sk = alice.sk_\n",
    "alice_pk = alice.pk()\n",
    "alice_puzzle_hash = alice.puzzle_hash\n",
    "bob_sk = bob.sk_\n",
    "bob_pk = bob.pk()\n",
    "bob_puzzle_hash = bob.puzzle_hash"
   ]
  },
  {
   "cell_type": "markdown",
   "id": "bf4eb3be-9b25-4258-b70c-968eb8ee7f26",
   "metadata": {},
   "source": [
    "## 2. Create Waiting Room Coins\n",
    "[waiting-room.clsp](../code/waiting-room.clsp)"
   ]
  },
  {
   "cell_type": "code",
   "execution_count": 4,
   "id": "fe7b604c-b4fe-45c2-8915-007d54ef6bf3",
   "metadata": {},
   "outputs": [
    {
     "name": "stdout",
     "output_type": "stream",
     "text": [
      "e690bf9dea6880c75cd64a7ff22fefa727597190cdbbee2663e0af7e1b5d129b\n",
      "(a (q 2 (q 2 (i 383 (q 2 62 (c 2 (c 11 (c 23 (c 47 (c -65 (c 383 (c 767 ())))))))) (q 4 (c 20 (c 44 ())) (c (c 60 (c 5 (c 95 ()))) (c (c 16 (c (a (i 47 (q . 23) (q . 11)) 1) (c (sha256 5 95) ()))) ())))) 1) (c (q ((50 . 61) 82 100 . 51) (60 . 0xeff07522495060c066f66f32acc2a77e3a3e737aca8baea4d1a64ea4cdc13da9) (a 46 (c 2 (c (c 5 (c 11 (c (c (q \"game\" . \"tic-tac-toe\") (c (c (q . \"p1_pk\") 23) (c (c (q . \"p2_pk\") 47) ()))) ()))) ()))) (a (i (l 5) (q 11 (q . 2) (a 46 (c 2 (c 9 ()))) (a 46 (c 2 (c 13 ())))) (q 11 (q . 1) 5)) 1) 2 (i 23 (q 4 (c 24 (c (sha256 23 47) ())) ()) (q 4 (c 24 (c (sha256 95 (a 22 (c 2 (c -65 (c 47 (c 5 (c 11 ()))))))) ())) (c (c 60 (c 26 (c 47 ()))) (c (c 18 (c 47 ())) (c (c 16 (c 5 (c (sha256 95 -65) ()))) ()))))) 1) 1)) (c (q . 0x4f45877796d7a64e192bcc9f899afeedae391f71af3afd7e15a0792c049d23d3) (c (q . 0xaba7ed288dd79189bec34698a3437fa7a45f801596d397a4f70081a0956dcdbe998388bfa758f4d49fa421ce3850a6d8) (c (q . 0xb01da35fe872b5c9c342d2a3ac6dfbe800eaf35c687a512a172d329f3bd10a83e675018a90a36178c81c0687b49d167f) (c (q) (c (q . 0x00e8d4a51000) (c (q . 0x01d1a94a2001) 1)))))))\n"
     ]
    }
   ],
   "source": [
    "from chia.util.bech32m import encode_puzzle_hash\n",
    "## alice\n",
    "alice_waiting_room_puzzle = waiting_room_puzzle.curry(\n",
    "    alice_puzzle_hash,\n",
    "    alice_pk, \n",
    "    bob_pk,\n",
    "    0, # P1_COIN_ID is null\n",
    "    play_amount,\n",
    "    game_amount\n",
    ")\n",
    "alice_waiting_room_puzzle_hash = alice_waiting_room_puzzle.get_tree_hash()\n",
    "print(alice_waiting_room_puzzle_hash.hex())\n",
    "print_program(alice_waiting_room_puzzle)"
   ]
  },
  {
   "cell_type": "code",
   "execution_count": 5,
   "id": "6a30c9fc-cb47-4fa4-bf62-b00361c46d5b",
   "metadata": {},
   "outputs": [
    {
     "name": "stdout",
     "output_type": "stream",
     "text": [
      "{\n",
      "    \"coin\": {\n",
      "        \"amount\": 1750000000000,\n",
      "        \"parent_coin_info\": \"0xe3b0c44298fc1c149afbf4c8996fb92400000000000000000000000000000001\",\n",
      "        \"puzzle_hash\": \"0x4f45877796d7a64e192bcc9f899afeedae391f71af3afd7e15a0792c049d23d3\"\n",
      "    },\n",
      "    \"puzzle_reveal\": \"0xff02ffff01ff02ffff01ff02ffff03ff0bffff01ff02ffff03ffff09ff05ffff1dff0bffff1effff0bff0bffff02ff06ffff04ff02ffff04ff17ff8080808080808080ffff01ff02ff17ff2f80ffff01ff088080ff0180ffff01ff04ffff04ff04ffff04ff05ffff04ffff02ff06ffff04ff02ffff04ff17ff80808080ff80808080ffff02ff17ff2f808080ff0180ffff04ffff01ff32ff02ffff03ffff07ff0580ffff01ff0bffff0102ffff02ff06ffff04ff02ffff04ff09ff80808080ffff02ff06ffff04ff02ffff04ff0dff8080808080ffff01ff0bffff0101ff058080ff0180ff018080ffff04ffff01b0a042c855d234578415254b7870b711fb25e8f85beaa4a66bd0673d394c761fa156406c2e3bb375d5b18766d2a12cc918ff018080\",\n",
      "    \"solution\": \"0xff80ffff01ffff33ffa0e690bf9dea6880c75cd64a7ff22fefa727597190cdbbee2663e0af7e1b5d129bff8600e8d4a5100180ffff33ffa04f45877796d7a64e192bcc9f899afeedae391f71af3afd7e15a0792c049d23d3ff8600ae9f7bcbff8080ff8080\"\n",
      "}\n",
      "a361fd3aee6444930163bedebb811f2e00426d7f879323570ef843a622eb6dcd9438b9435fc47ca038bdfcd4085b4a601123b783922b04b9bbf08375a63762b255e98cbad193313182e69a80ea1e08ce89a78ca089eb157ae1ab461034bf7146\n"
     ]
    }
   ],
   "source": [
    "# alice's coin creates a waiting room coin\n",
    "alice_coin_wrapper = await alice.choose_coin(1_750_000_000_000)\n",
    "alice_conditions = [\n",
    "    [\n",
    "        ConditionOpcode.CREATE_COIN,\n",
    "        alice_waiting_room_puzzle_hash,\n",
    "        play_amount + 1\n",
    "    ],\n",
    "    \n",
    "    # change\n",
    "    [\n",
    "        ConditionOpcode.CREATE_COIN, \n",
    "        alice.puzzle_hash, \n",
    "        alice_coin_wrapper.coin.amount - (play_amount + 1)\n",
    "    ]\n",
    "]\n",
    "\n",
    "coin_spend, signature = alice_coin_wrapper.create_standard_spend(alice_sk, alice_conditions)\n",
    "print_json(coin_spend.to_json_dict())\n",
    "print(signature)"
   ]
  },
  {
   "cell_type": "code",
   "execution_count": 6,
   "id": "ab6461cb-ce74-407e-9c77-6cf7866ae6bc",
   "metadata": {},
   "outputs": [
    {
     "name": "stdout",
     "output_type": "stream",
     "text": [
      "additions:\n",
      "==========\n",
      "Coin { parent_coin_info: 12d7b8c1654f82f2330059abc28e3240e863450706de7fdc518026f393f68bba, puzzle_hash: 4f45877796d7a64e192bcc9f899afeedae391f71af3afd7e15a0792c049d23d3, amount: 749999999999 }\n",
      "Coin { parent_coin_info: 12d7b8c1654f82f2330059abc28e3240e863450706de7fdc518026f393f68bba, puzzle_hash: e690bf9dea6880c75cd64a7ff22fefa727597190cdbbee2663e0af7e1b5d129b, amount: 1000000000001 }\n",
      "removals:\n",
      "=========\n",
      "Coin { parent_coin_info: e3b0c44298fc1c149afbf4c8996fb92400000000000000000000000000000001, puzzle_hash: 4f45877796d7a64e192bcc9f899afeedae391f71af3afd7e15a0792c049d23d3, amount: 1750000000000 }\n"
     ]
    }
   ],
   "source": [
    "from chia.types.spend_bundle import SpendBundle\n",
    "spend_bundle = SpendBundle(\n",
    "    [ coin_spend],\n",
    "    signature\n",
    ")\n",
    "result = await network.push_tx(spend_bundle)\n",
    "print_push_tx_result(result)"
   ]
  },
  {
   "cell_type": "code",
   "execution_count": 7,
   "id": "d823d43b-dd3c-4045-98f6-3d93db50d259",
   "metadata": {},
   "outputs": [
    {
     "name": "stdout",
     "output_type": "stream",
     "text": [
      "{\n",
      "    \"amount\": 1000000000001,\n",
      "    \"parent_coin_info\": \"0x12d7b8c1654f82f2330059abc28e3240e863450706de7fdc518026f393f68bba\",\n",
      "    \"puzzle_hash\": \"0xe690bf9dea6880c75cd64a7ff22fefa727597190cdbbee2663e0af7e1b5d129b\"\n",
      "}\n",
      "6b95688d081271b4f2466a3fd0301cefb62c33712d09e6a0b43e05257eb3ad52\n"
     ]
    }
   ],
   "source": [
    "coin_records = await get_coin_records_by_puzzle_hash(alice_waiting_room_puzzle_hash)\n",
    "alice_waiting_room_coin = coin_records[0].coin\n",
    "print_json(alice_waiting_room_coin.to_json_dict())\n",
    "print(alice_waiting_room_coin.name().hex())"
   ]
  },
  {
   "cell_type": "code",
   "execution_count": 8,
   "id": "a36dd608-d9b2-492f-b09b-ab349d6b0f82",
   "metadata": {},
   "outputs": [
    {
     "name": "stdout",
     "output_type": "stream",
     "text": [
      "0fdc47b8db534c7168295bb5f21235aff4410e16173ac1467b086ee8cac58ba0\n",
      "(a (q 2 (q 2 (i 383 (q 2 62 (c 2 (c 11 (c 23 (c 47 (c -65 (c 383 (c 767 ())))))))) (q 4 (c 20 (c 44 ())) (c (c 60 (c 5 (c 95 ()))) (c (c 16 (c (a (i 47 (q . 23) (q . 11)) 1) (c (sha256 5 95) ()))) ())))) 1) (c (q ((50 . 61) 82 100 . 51) (60 . 0xeff07522495060c066f66f32acc2a77e3a3e737aca8baea4d1a64ea4cdc13da9) (a 46 (c 2 (c (c 5 (c 11 (c (c (q \"game\" . \"tic-tac-toe\") (c (c (q . \"p1_pk\") 23) (c (c (q . \"p2_pk\") 47) ()))) ()))) ()))) (a (i (l 5) (q 11 (q . 2) (a 46 (c 2 (c 9 ()))) (a 46 (c 2 (c 13 ())))) (q 11 (q . 1) 5)) 1) 2 (i 23 (q 4 (c 24 (c (sha256 23 47) ())) ()) (q 4 (c 24 (c (sha256 95 (a 22 (c 2 (c -65 (c 47 (c 5 (c 11 ()))))))) ())) (c (c 60 (c 26 (c 47 ()))) (c (c 18 (c 47 ())) (c (c 16 (c 5 (c (sha256 95 -65) ()))) ()))))) 1) 1)) (c (q . 0x87908e3f85bf4b55c7e7709915c2ce97a1e6ec1d227e54a04dbfee6862d546a5) (c (q . 0xaba7ed288dd79189bec34698a3437fa7a45f801596d397a4f70081a0956dcdbe998388bfa758f4d49fa421ce3850a6d8) (c (q . 0xb01da35fe872b5c9c342d2a3ac6dfbe800eaf35c687a512a172d329f3bd10a83e675018a90a36178c81c0687b49d167f) (c (q . 0x6b95688d081271b4f2466a3fd0301cefb62c33712d09e6a0b43e05257eb3ad52) (c (q . 0x00e8d4a51000) (c (q . 0x01d1a94a2001) 1)))))))\n"
     ]
    }
   ],
   "source": [
    "## bob\n",
    "bob_waiting_room_puzzle = waiting_room_puzzle.curry(\n",
    "    bob_puzzle_hash,\n",
    "    alice_pk, \n",
    "    bob_pk,\n",
    "    alice_waiting_room_coin.name(),\n",
    "    play_amount,\n",
    "    game_amount\n",
    "    \n",
    ")\n",
    "bob_waiting_room_puzzle_hash = bob_waiting_room_puzzle.get_tree_hash()\n",
    "print(bob_waiting_room_puzzle_hash.hex())\n",
    "print_program(bob_waiting_room_puzzle)"
   ]
  },
  {
   "cell_type": "code",
   "execution_count": 9,
   "id": "2fc573e3-30ee-462a-9e6e-47ad4e1a7731",
   "metadata": {},
   "outputs": [
    {
     "name": "stdout",
     "output_type": "stream",
     "text": [
      "{\n",
      "    \"coin\": {\n",
      "        \"amount\": 1750000000000,\n",
      "        \"parent_coin_info\": \"0xe3b0c44298fc1c149afbf4c8996fb92400000000000000000000000000000002\",\n",
      "        \"puzzle_hash\": \"0x87908e3f85bf4b55c7e7709915c2ce97a1e6ec1d227e54a04dbfee6862d546a5\"\n",
      "    },\n",
      "    \"puzzle_reveal\": \"0xff02ffff01ff02ffff01ff02ffff03ff0bffff01ff02ffff03ffff09ff05ffff1dff0bffff1effff0bff0bffff02ff06ffff04ff02ffff04ff17ff8080808080808080ffff01ff02ff17ff2f80ffff01ff088080ff0180ffff01ff04ffff04ff04ffff04ff05ffff04ffff02ff06ffff04ff02ffff04ff17ff80808080ff80808080ffff02ff17ff2f808080ff0180ffff04ffff01ff32ff02ffff03ffff07ff0580ffff01ff0bffff0102ffff02ff06ffff04ff02ffff04ff09ff80808080ffff02ff06ffff04ff02ffff04ff0dff8080808080ffff01ff0bffff0101ff058080ff0180ff018080ffff04ffff01b0ad23d290a6569d41be4f58704709812f466cc10c5720fee77bf491d0fae2164a6eb57e2c4158879d9e25f18ce515a306ff018080\",\n",
      "    \"solution\": \"0xff80ffff01ffff33ffa00fdc47b8db534c7168295bb5f21235aff4410e16173ac1467b086ee8cac58ba0ff8600e8d4a5100080ffff33ffa087908e3f85bf4b55c7e7709915c2ce97a1e6ec1d227e54a04dbfee6862d546a5ff8600ae9f7bcc008080ff8080\"\n",
      "}\n",
      "80eb036c20a70b5b671410ce348dff0b91f9fe1a8f542f2348e2044d835bf5e7ec41e31a6619c5c96e2c440946c859d102ddef5e49dbb7a63ea1144a20bb10de16a8de40f62c12ac9a0f47604bff9a3f36814b4cc5dd20edc5490f6c87abd47c\n"
     ]
    }
   ],
   "source": [
    "# bob's coin creates a waiting room coin\n",
    "bob_coin_wrapper = await bob.choose_coin(1_750_000_000_000)\n",
    "bob_conditions = [\n",
    "    [\n",
    "        ConditionOpcode.CREATE_COIN,\n",
    "        bob_waiting_room_puzzle_hash,\n",
    "        play_amount\n",
    "    ],\n",
    "    \n",
    "    # change\n",
    "    [\n",
    "        ConditionOpcode.CREATE_COIN, \n",
    "        bob.puzzle_hash, \n",
    "        bob_coin_wrapper.coin.amount - (play_amount)\n",
    "    ]\n",
    "]\n",
    "\n",
    "coin_spend, signature = bob_coin_wrapper.create_standard_spend(bob_sk, bob_conditions)\n",
    "print_json(coin_spend.to_json_dict())\n",
    "print(signature)"
   ]
  },
  {
   "cell_type": "code",
   "execution_count": 10,
   "id": "3a4b99d0-7c84-4109-9d28-a3d6e66692f4",
   "metadata": {},
   "outputs": [
    {
     "name": "stdout",
     "output_type": "stream",
     "text": [
      "additions:\n",
      "==========\n",
      "Coin { parent_coin_info: 17ca02c0a209d7e1a3869442ba13ef9468181c4b095b8823aeaf3c27f8e58c34, puzzle_hash: 0fdc47b8db534c7168295bb5f21235aff4410e16173ac1467b086ee8cac58ba0, amount: 1000000000000 }\n",
      "Coin { parent_coin_info: 17ca02c0a209d7e1a3869442ba13ef9468181c4b095b8823aeaf3c27f8e58c34, puzzle_hash: 87908e3f85bf4b55c7e7709915c2ce97a1e6ec1d227e54a04dbfee6862d546a5, amount: 750000000000 }\n",
      "removals:\n",
      "=========\n",
      "Coin { parent_coin_info: e3b0c44298fc1c149afbf4c8996fb92400000000000000000000000000000002, puzzle_hash: 87908e3f85bf4b55c7e7709915c2ce97a1e6ec1d227e54a04dbfee6862d546a5, amount: 1750000000000 }\n"
     ]
    }
   ],
   "source": [
    "from chia.types.spend_bundle import SpendBundle\n",
    "spend_bundle = SpendBundle(\n",
    "    [ coin_spend],\n",
    "    signature\n",
    ")\n",
    "result = await network.push_tx(spend_bundle)\n",
    "print_push_tx_result(result)"
   ]
  },
  {
   "cell_type": "markdown",
   "id": "a516cb86-3542-406e-8359-d660376f27ca",
   "metadata": {},
   "source": [
    "## 3. Create Singleton Game Coin"
   ]
  },
  {
   "cell_type": "markdown",
   "id": "3f843260-3778-4a5b-99bb-3dbec75cb23b",
   "metadata": {},
   "source": [
    "### 3.1 Terminate Puzzle (Curried)\n",
    "[terminate-game.clsp](../code/terminate-game.clsp)"
   ]
  },
  {
   "cell_type": "code",
   "execution_count": 11,
   "id": "3a15c526-69f5-4c9a-ac49-cb21df098770",
   "metadata": {},
   "outputs": [],
   "source": [
    "player_fee = 50_000_000\n",
    "p2_amount = play_amount - player_fee\n",
    "curried_terminate_puzzle = terminate_puzzle.curry(\n",
    "    1, # Terminate Singleton Coin\n",
    "    alice_puzzle_hash,\n",
    "    bob_puzzle_hash,\n",
    "    p2_amount\n",
    ")"
   ]
  },
  {
   "cell_type": "markdown",
   "id": "73cc758c-ac7c-46a3-bf45-bebb2744ed00",
   "metadata": {},
   "source": [
    "### 3.2 Coin Puzzle (Curried)\n",
    "[coin.clsp](../code/coin.clsp)"
   ]
  },
  {
   "cell_type": "code",
   "execution_count": 12,
   "id": "7b1b3445-8e8c-40de-bc06-e03771127321",
   "metadata": {},
   "outputs": [],
   "source": [
    "def get_coin_puzzle(board, player):\n",
    "    # (mod (BOARD V pos)\n",
    "    curried_tic_tac_toe_puzzle = tic_tac_toe_puzzle.curry(\n",
    "            Program.to(board), \n",
    "            Program.to(player)\n",
    "        ) \n",
    "\n",
    "    #(mod (MOD PLAYER_ONE_INFO PLAYER_TWO_INFO CURRIED_TIC_TAC_TOE_PUZZLE amount position)\n",
    "    curried_coin_puzzle = coin_puzzle.curry(\n",
    "        coin_puzzle,\n",
    "        curried_terminate_puzzle,\n",
    "        player_one_info,\n",
    "        player_two_info,\n",
    "        curried_tic_tac_toe_puzzle,\n",
    "        game_amount)\n",
    "    return curried_coin_puzzle\n",
    "\n",
    "curried_coin_puzzle = get_coin_puzzle([' '] * 9, 'x')"
   ]
  },
  {
   "cell_type": "markdown",
   "id": "3a986f94-9183-4448-9431-332a5a5f2297",
   "metadata": {},
   "source": [
    "### 3.3 Launcher Coin"
   ]
  },
  {
   "cell_type": "code",
   "execution_count": 13,
   "id": "cf0dd25d-e77a-4bfc-9778-d6961940d392",
   "metadata": {},
   "outputs": [],
   "source": [
    "coin_records = await get_coin_records_by_puzzle_hash(alice_waiting_room_puzzle_hash)\n",
    "alice_waiting_room_coin = coin_records[0].coin\n",
    "coin_records = await get_coin_records_by_puzzle_hash(bob_waiting_room_puzzle_hash)\n",
    "bob_waiting_room_coin = coin_records[0].coin"
   ]
  },
  {
   "cell_type": "code",
   "execution_count": 14,
   "id": "e7ef3856-f644-4bd2-bbc5-c60c7a4b9f57",
   "metadata": {},
   "outputs": [
    {
     "name": "stdout",
     "output_type": "stream",
     "text": [
      "\n",
      "launcher id: 24658905e1bde4e544d5322ae6629803307d640133dc3c382854f8d62e2fbb62\n",
      "{\n",
      "    \"amount\": 2000000000001,\n",
      "    \"parent_coin_info\": \"0x6b95688d081271b4f2466a3fd0301cefb62c33712d09e6a0b43e05257eb3ad52\",\n",
      "    \"puzzle_hash\": \"0xeff07522495060c066f66f32acc2a77e3a3e737aca8baea4d1a64ea4cdc13da9\"\n",
      "}\n"
     ]
    }
   ],
   "source": [
    "from chia.types.blockchain_format.coin import Coin\n",
    "from chia.types.coin_spend import CoinSpend\n",
    "from chia.wallet.puzzles import singleton_top_layer_v1_1\n",
    "\n",
    "# prepare launcher coin\n",
    "launcher_coin = Coin(\n",
    "    alice_waiting_room_coin.name(), # waiting_room's coin spend creates the launcher coin\n",
    "    singleton_top_layer_v1_1.SINGLETON_LAUNCHER_HASH, \n",
    "    game_amount\n",
    ")\n",
    "\n",
    "launcher_id = launcher_coin.name()\n",
    "print(f'\\nlauncher id: {launcher_id.hex()}')\n",
    "\n",
    "singleton_struct = (\n",
    "    singleton_top_layer_v1_1.SINGLETON_MOD_HASH, \n",
    "    (launcher_id, singleton_top_layer_v1_1.SINGLETON_LAUNCHER_HASH)\n",
    ")\n",
    "\n",
    "singleton_puzzle = singleton_top_layer_v1_1.SINGLETON_MOD.curry(\n",
    "    singleton_struct,\n",
    "    curried_coin_puzzle, # tic tac toe coin puzzle\n",
    ")\n",
    "print_json(launcher_coin.to_json_dict())"
   ]
  },
  {
   "cell_type": "markdown",
   "id": "a8bd100d-4588-472b-8366-397edff67b8c",
   "metadata": {},
   "source": [
    "### 3.4 Singleton Launcher\n",
    "[singleton_top_layer.clvm](https://github.com/Chia-Network/chia-blockchain/blob/main/chia/wallet/puzzles/singleton_top_layer.clvm)\n",
    "\n",
    "[singleton_launcher.clvm](https://github.com/Chia-Network/chia-blockchain/blob/main/chia/wallet/puzzles/singleton_launcher.clvm)"
   ]
  },
  {
   "cell_type": "code",
   "execution_count": 15,
   "id": "50e39ac2-35e9-457e-9cf8-08356b81e5d1",
   "metadata": {},
   "outputs": [
    {
     "name": "stdout",
     "output_type": "stream",
     "text": [
      "(0xe9c900365fd7fe593816f6b7bb2e7bba4b04e65fc45bf0e4a5576dba96df3bce 0x01d1a94a2001 ((\"game\" . \"tic-tac-toe\") (\"p1_pk\" . 0xaba7ed288dd79189bec34698a3437fa7a45f801596d397a4f70081a0956dcdbe998388bfa758f4d49fa421ce3850a6d8) (\"p2_pk\" . 0xb01da35fe872b5c9c342d2a3ac6dfbe800eaf35c687a512a172d329f3bd10a83e675018a90a36178c81c0687b49d167f)))\n",
      "\n",
      "launcher_announcement:\n",
      "c8712fe4b52f02748923af8bf3a2ecd2ea65bc27a08eaa44bccfdf21a62e5d5e\n",
      "{\n",
      "    \"coin\": {\n",
      "        \"amount\": 2000000000001,\n",
      "        \"parent_coin_info\": \"0x6b95688d081271b4f2466a3fd0301cefb62c33712d09e6a0b43e05257eb3ad52\",\n",
      "        \"puzzle_hash\": \"0xeff07522495060c066f66f32acc2a77e3a3e737aca8baea4d1a64ea4cdc13da9\"\n",
      "    },\n",
      "    \"puzzle_reveal\": \"0xff02ffff01ff04ffff04ff04ffff04ff05ffff04ff0bff80808080ffff04ffff04ff0affff04ffff02ff0effff04ff02ffff04ffff04ff05ffff04ff0bffff04ff17ff80808080ff80808080ff808080ff808080ffff04ffff01ff33ff3cff02ffff03ffff07ff0580ffff01ff0bffff0102ffff02ff0effff04ff02ffff04ff09ff80808080ffff02ff0effff04ff02ffff04ff0dff8080808080ffff01ff0bffff0101ff058080ff0180ff018080\",\n",
      "    \"solution\": \"0xffa0e9c900365fd7fe593816f6b7bb2e7bba4b04e65fc45bf0e4a5576dba96df3bceff8601d1a94a2001ffffff8467616d658b7469632d7461632d746f65ffff8570315f706bb0aba7ed288dd79189bec34698a3437fa7a45f801596d397a4f70081a0956dcdbe998388bfa758f4d49fa421ce3850a6d8ffff8570325f706bb0b01da35fe872b5c9c342d2a3ac6dfbe800eaf35c687a512a172d329f3bd10a83e675018a90a36178c81c0687b49d167f8080\"\n",
      "}\n"
     ]
    }
   ],
   "source": [
    "launcher_solution = Program.to(\n",
    "    [\n",
    "        singleton_puzzle.get_tree_hash(),\n",
    "        game_amount,\n",
    "        [\n",
    "            (\"game\", \"tic-tac-toe\"), \n",
    "            (\"p1_pk\", alice_pk),\n",
    "            (\"p2_pk\", bob_pk)\n",
    "        ]\n",
    "    ]\n",
    ")\n",
    "print_program(launcher_solution)\n",
    "\n",
    "launcher_announcement = launcher_solution.get_tree_hash()\n",
    "print(f'\\nlauncher_announcement:\\n{launcher_announcement}')\n",
    "\n",
    "launcher_coin_spend = CoinSpend(\n",
    "    launcher_coin,\n",
    "    singleton_top_layer_v1_1.SINGLETON_LAUNCHER,\n",
    "    launcher_solution\n",
    ")\n",
    "print_json(launcher_coin_spend.to_json_dict())"
   ]
  },
  {
   "cell_type": "code",
   "execution_count": 16,
   "id": "cd20528d-9cb7-4936-9871-69f9e28c8b33",
   "metadata": {},
   "outputs": [
    {
     "name": "stdout",
     "output_type": "stream",
     "text": [
      "launcher_announcement:\n",
      "c8712fe4b52f02748923af8bf3a2ecd2ea65bc27a08eaa44bccfdf21a62e5d5e\n",
      "\n",
      "launcher_coin_id:\n",
      "24658905e1bde4e544d5322ae6629803307d640133dc3c382854f8d62e2fbb62\n",
      "\n",
      "launcher_coin_announcement:\n",
      "df929e020f10443d08029d4703585e26a1e6471d5defdff39680ec228b48e553\n"
     ]
    }
   ],
   "source": [
    "print(f'launcher_announcement:\\n{launcher_announcement}')\n",
    "print(f'\\nlauncher_coin_id:\\n{launcher_id.hex()}')\n",
    "\n",
    "# announcementID == sha256(coinID + message).\n",
    "from chia.util.hash import std_hash\n",
    "launcher_coin_announcement = std_hash(launcher_id + launcher_announcement)\n",
    "print(f'\\nlauncher_coin_announcement:\\n{launcher_coin_announcement}')"
   ]
  },
  {
   "cell_type": "markdown",
   "id": "5e119ab5-7fd8-46d8-a92d-9a8d0debb7a6",
   "metadata": {},
   "source": [
    "### 3.5 Waiting Room Coins\n",
    "[waiting-room.clsp](../code/waiting-room.clsp)"
   ]
  },
  {
   "cell_type": "code",
   "execution_count": 17,
   "id": "29ce6988-3a0b-4e9d-a111-e2cfbaa4ae83",
   "metadata": {},
   "outputs": [
    {
     "name": "stdout",
     "output_type": "stream",
     "text": [
      "{\n",
      "    \"coin\": {\n",
      "        \"amount\": 1000000000001,\n",
      "        \"parent_coin_info\": \"0x12d7b8c1654f82f2330059abc28e3240e863450706de7fdc518026f393f68bba\",\n",
      "        \"puzzle_hash\": \"0xe690bf9dea6880c75cd64a7ff22fefa727597190cdbbee2663e0af7e1b5d129b\"\n",
      "    },\n",
      "    \"puzzle_reveal\": \"0xff02ffff01ff02ffff01ff02ffff03ff82017fffff01ff02ff3effff04ff02ffff04ff0bffff04ff17ffff04ff2fffff04ff81bfffff04ff82017fffff04ff8202ffff808080808080808080ffff01ff04ffff04ff14ffff04ff2cff808080ffff04ffff04ff3cffff04ff05ffff04ff5fff80808080ffff04ffff04ff10ffff04ffff02ffff03ff2fffff0117ffff010b80ff0180ffff04ffff0bff05ff5f80ff80808080ff8080808080ff0180ffff04ffff01ffffff323dff52ff6433ffff3ca0eff07522495060c066f66f32acc2a77e3a3e737aca8baea4d1a64ea4cdc13da9ffff02ff2effff04ff02ffff04ffff04ff05ffff04ff0bffff04ffff04ffff01ff8467616d658b7469632d7461632d746f65ffff04ffff04ffff018570315f706bff1780ffff04ffff04ffff018570325f706bff2f80ff80808080ff80808080ff80808080ffff02ffff03ffff07ff0580ffff01ff0bffff0102ffff02ff2effff04ff02ffff04ff09ff80808080ffff02ff2effff04ff02ffff04ff0dff8080808080ffff01ff0bffff0101ff058080ff0180ff02ffff03ff17ffff01ff04ffff04ff18ffff04ffff0bff17ff2f80ff808080ff8080ffff01ff04ffff04ff18ffff04ffff0bff5fffff02ff16ffff04ff02ffff04ff81bfffff04ff2fffff04ff05ffff04ff0bff8080808080808080ff808080ffff04ffff04ff3cffff04ff1affff04ff2fff80808080ffff04ffff04ff12ffff04ff2fff808080ffff04ffff04ff10ffff04ff05ffff04ffff0bff5fff81bf80ff80808080ff808080808080ff0180ff018080ffff04ffff01a04f45877796d7a64e192bcc9f899afeedae391f71af3afd7e15a0792c049d23d3ffff04ffff01b0aba7ed288dd79189bec34698a3437fa7a45f801596d397a4f70081a0956dcdbe998388bfa758f4d49fa421ce3850a6d8ffff04ffff01b0b01da35fe872b5c9c342d2a3ac6dfbe800eaf35c687a512a172d329f3bd10a83e675018a90a36178c81c0687b49d167fffff04ffff0180ffff04ffff018600e8d4a51000ffff04ffff018601d1a94a2001ff0180808080808080\",\n",
      "    \"solution\": \"0xffa024658905e1bde4e544d5322ae6629803307d640133dc3c382854f8d62e2fbb62ffa0e9c900365fd7fe593816f6b7bb2e7bba4b04e65fc45bf0e4a5576dba96df3bce80\"\n",
      "}\n"
     ]
    }
   ],
   "source": [
    "alice_waiting_room_coin_spend = CoinSpend(\n",
    "    alice_waiting_room_coin,\n",
    "    alice_waiting_room_puzzle,\n",
    "    Program.to([\n",
    "        launcher_id,\n",
    "        singleton_puzzle.get_tree_hash()\n",
    "    ])\n",
    ")\n",
    "print_json(alice_waiting_room_coin_spend.to_json_dict())"
   ]
  },
  {
   "cell_type": "code",
   "execution_count": 18,
   "id": "8999feb0-1639-424d-baa0-15a8ddf466e0",
   "metadata": {},
   "outputs": [
    {
     "name": "stdout",
     "output_type": "stream",
     "text": [
      "{\n",
      "    \"coin\": {\n",
      "        \"amount\": 1000000000000,\n",
      "        \"parent_coin_info\": \"0x17ca02c0a209d7e1a3869442ba13ef9468181c4b095b8823aeaf3c27f8e58c34\",\n",
      "        \"puzzle_hash\": \"0x0fdc47b8db534c7168295bb5f21235aff4410e16173ac1467b086ee8cac58ba0\"\n",
      "    },\n",
      "    \"puzzle_reveal\": \"0xff02ffff01ff02ffff01ff02ffff03ff82017fffff01ff02ff3effff04ff02ffff04ff0bffff04ff17ffff04ff2fffff04ff81bfffff04ff82017fffff04ff8202ffff808080808080808080ffff01ff04ffff04ff14ffff04ff2cff808080ffff04ffff04ff3cffff04ff05ffff04ff5fff80808080ffff04ffff04ff10ffff04ffff02ffff03ff2fffff0117ffff010b80ff0180ffff04ffff0bff05ff5f80ff80808080ff8080808080ff0180ffff04ffff01ffffff323dff52ff6433ffff3ca0eff07522495060c066f66f32acc2a77e3a3e737aca8baea4d1a64ea4cdc13da9ffff02ff2effff04ff02ffff04ffff04ff05ffff04ff0bffff04ffff04ffff01ff8467616d658b7469632d7461632d746f65ffff04ffff04ffff018570315f706bff1780ffff04ffff04ffff018570325f706bff2f80ff80808080ff80808080ff80808080ffff02ffff03ffff07ff0580ffff01ff0bffff0102ffff02ff2effff04ff02ffff04ff09ff80808080ffff02ff2effff04ff02ffff04ff0dff8080808080ffff01ff0bffff0101ff058080ff0180ff02ffff03ff17ffff01ff04ffff04ff18ffff04ffff0bff17ff2f80ff808080ff8080ffff01ff04ffff04ff18ffff04ffff0bff5fffff02ff16ffff04ff02ffff04ff81bfffff04ff2fffff04ff05ffff04ff0bff8080808080808080ff808080ffff04ffff04ff3cffff04ff1affff04ff2fff80808080ffff04ffff04ff12ffff04ff2fff808080ffff04ffff04ff10ffff04ff05ffff04ffff0bff5fff81bf80ff80808080ff808080808080ff0180ff018080ffff04ffff01a087908e3f85bf4b55c7e7709915c2ce97a1e6ec1d227e54a04dbfee6862d546a5ffff04ffff01b0aba7ed288dd79189bec34698a3437fa7a45f801596d397a4f70081a0956dcdbe998388bfa758f4d49fa421ce3850a6d8ffff04ffff01b0b01da35fe872b5c9c342d2a3ac6dfbe800eaf35c687a512a172d329f3bd10a83e675018a90a36178c81c0687b49d167fffff04ffff01a06b95688d081271b4f2466a3fd0301cefb62c33712d09e6a0b43e05257eb3ad52ffff04ffff018600e8d4a51000ffff04ffff018601d1a94a2001ff0180808080808080\",\n",
      "    \"solution\": \"0xffa024658905e1bde4e544d5322ae6629803307d640133dc3c382854f8d62e2fbb62ffa0e9c900365fd7fe593816f6b7bb2e7bba4b04e65fc45bf0e4a5576dba96df3bce80\"\n",
      "}\n"
     ]
    }
   ],
   "source": [
    "bob_waiting_room_coin_spend = CoinSpend(\n",
    "    bob_waiting_room_coin,\n",
    "    bob_waiting_room_puzzle,\n",
    "    Program.to([\n",
    "        launcher_id,\n",
    "        singleton_puzzle.get_tree_hash()\n",
    "    ])\n",
    ")\n",
    "print_json(bob_waiting_room_coin_spend.to_json_dict())"
   ]
  },
  {
   "cell_type": "code",
   "execution_count": 19,
   "id": "4dc8eba9-bbe7-42b8-91af-d5cf97b4e7db",
   "metadata": {},
   "outputs": [
    {
     "name": "stdout",
     "output_type": "stream",
     "text": [
      "{\n",
      "    \"aggregated_signature\": \"0x80cc516f4fe82c5fbe49798a3ec27d261d187c5baf0e988de3f85f85a0e6693fe1e18ea96b14de856584798599657a9d08bd93bc9db7f970598b8eff689e9bdae4ede503108641b0228cce54c33bb268f52b1ea907513dfa5580c608bfa0d6d1\",\n",
      "    \"coin_spends\": [\n",
      "        {\n",
      "            \"coin\": {\n",
      "                \"amount\": 2000000000001,\n",
      "                \"parent_coin_info\": \"0x6b95688d081271b4f2466a3fd0301cefb62c33712d09e6a0b43e05257eb3ad52\",\n",
      "                \"puzzle_hash\": \"0xeff07522495060c066f66f32acc2a77e3a3e737aca8baea4d1a64ea4cdc13da9\"\n",
      "            },\n",
      "            \"puzzle_reveal\": \"0xff02ffff01ff04ffff04ff04ffff04ff05ffff04ff0bff80808080ffff04ffff04ff0affff04ffff02ff0effff04ff02ffff04ffff04ff05ffff04ff0bffff04ff17ff80808080ff80808080ff808080ff808080ffff04ffff01ff33ff3cff02ffff03ffff07ff0580ffff01ff0bffff0102ffff02ff0effff04ff02ffff04ff09ff80808080ffff02ff0effff04ff02ffff04ff0dff8080808080ffff01ff0bffff0101ff058080ff0180ff018080\",\n",
      "            \"solution\": \"0xffa0e9c900365fd7fe593816f6b7bb2e7bba4b04e65fc45bf0e4a5576dba96df3bceff8601d1a94a2001ffffff8467616d658b7469632d7461632d746f65ffff8570315f706bb0aba7ed288dd79189bec34698a3437fa7a45f801596d397a4f70081a0956dcdbe998388bfa758f4d49fa421ce3850a6d8ffff8570325f706bb0b01da35fe872b5c9c342d2a3ac6dfbe800eaf35c687a512a172d329f3bd10a83e675018a90a36178c81c0687b49d167f8080\"\n",
      "        },\n",
      "        {\n",
      "            \"coin\": {\n",
      "                \"amount\": 1000000000001,\n",
      "                \"parent_coin_info\": \"0x12d7b8c1654f82f2330059abc28e3240e863450706de7fdc518026f393f68bba\",\n",
      "                \"puzzle_hash\": \"0xe690bf9dea6880c75cd64a7ff22fefa727597190cdbbee2663e0af7e1b5d129b\"\n",
      "            },\n",
      "            \"puzzle_reveal\": \"0xff02ffff01ff02ffff01ff02ffff03ff82017fffff01ff02ff3effff04ff02ffff04ff0bffff04ff17ffff04ff2fffff04ff81bfffff04ff82017fffff04ff8202ffff808080808080808080ffff01ff04ffff04ff14ffff04ff2cff808080ffff04ffff04ff3cffff04ff05ffff04ff5fff80808080ffff04ffff04ff10ffff04ffff02ffff03ff2fffff0117ffff010b80ff0180ffff04ffff0bff05ff5f80ff80808080ff8080808080ff0180ffff04ffff01ffffff323dff52ff6433ffff3ca0eff07522495060c066f66f32acc2a77e3a3e737aca8baea4d1a64ea4cdc13da9ffff02ff2effff04ff02ffff04ffff04ff05ffff04ff0bffff04ffff04ffff01ff8467616d658b7469632d7461632d746f65ffff04ffff04ffff018570315f706bff1780ffff04ffff04ffff018570325f706bff2f80ff80808080ff80808080ff80808080ffff02ffff03ffff07ff0580ffff01ff0bffff0102ffff02ff2effff04ff02ffff04ff09ff80808080ffff02ff2effff04ff02ffff04ff0dff8080808080ffff01ff0bffff0101ff058080ff0180ff02ffff03ff17ffff01ff04ffff04ff18ffff04ffff0bff17ff2f80ff808080ff8080ffff01ff04ffff04ff18ffff04ffff0bff5fffff02ff16ffff04ff02ffff04ff81bfffff04ff2fffff04ff05ffff04ff0bff8080808080808080ff808080ffff04ffff04ff3cffff04ff1affff04ff2fff80808080ffff04ffff04ff12ffff04ff2fff808080ffff04ffff04ff10ffff04ff05ffff04ffff0bff5fff81bf80ff80808080ff808080808080ff0180ff018080ffff04ffff01a04f45877796d7a64e192bcc9f899afeedae391f71af3afd7e15a0792c049d23d3ffff04ffff01b0aba7ed288dd79189bec34698a3437fa7a45f801596d397a4f70081a0956dcdbe998388bfa758f4d49fa421ce3850a6d8ffff04ffff01b0b01da35fe872b5c9c342d2a3ac6dfbe800eaf35c687a512a172d329f3bd10a83e675018a90a36178c81c0687b49d167fffff04ffff0180ffff04ffff018600e8d4a51000ffff04ffff018601d1a94a2001ff0180808080808080\",\n",
      "            \"solution\": \"0xffa024658905e1bde4e544d5322ae6629803307d640133dc3c382854f8d62e2fbb62ffa0e9c900365fd7fe593816f6b7bb2e7bba4b04e65fc45bf0e4a5576dba96df3bce80\"\n",
      "        },\n",
      "        {\n",
      "            \"coin\": {\n",
      "                \"amount\": 1000000000000,\n",
      "                \"parent_coin_info\": \"0x17ca02c0a209d7e1a3869442ba13ef9468181c4b095b8823aeaf3c27f8e58c34\",\n",
      "                \"puzzle_hash\": \"0x0fdc47b8db534c7168295bb5f21235aff4410e16173ac1467b086ee8cac58ba0\"\n",
      "            },\n",
      "            \"puzzle_reveal\": \"0xff02ffff01ff02ffff01ff02ffff03ff82017fffff01ff02ff3effff04ff02ffff04ff0bffff04ff17ffff04ff2fffff04ff81bfffff04ff82017fffff04ff8202ffff808080808080808080ffff01ff04ffff04ff14ffff04ff2cff808080ffff04ffff04ff3cffff04ff05ffff04ff5fff80808080ffff04ffff04ff10ffff04ffff02ffff03ff2fffff0117ffff010b80ff0180ffff04ffff0bff05ff5f80ff80808080ff8080808080ff0180ffff04ffff01ffffff323dff52ff6433ffff3ca0eff07522495060c066f66f32acc2a77e3a3e737aca8baea4d1a64ea4cdc13da9ffff02ff2effff04ff02ffff04ffff04ff05ffff04ff0bffff04ffff04ffff01ff8467616d658b7469632d7461632d746f65ffff04ffff04ffff018570315f706bff1780ffff04ffff04ffff018570325f706bff2f80ff80808080ff80808080ff80808080ffff02ffff03ffff07ff0580ffff01ff0bffff0102ffff02ff2effff04ff02ffff04ff09ff80808080ffff02ff2effff04ff02ffff04ff0dff8080808080ffff01ff0bffff0101ff058080ff0180ff02ffff03ff17ffff01ff04ffff04ff18ffff04ffff0bff17ff2f80ff808080ff8080ffff01ff04ffff04ff18ffff04ffff0bff5fffff02ff16ffff04ff02ffff04ff81bfffff04ff2fffff04ff05ffff04ff0bff8080808080808080ff808080ffff04ffff04ff3cffff04ff1affff04ff2fff80808080ffff04ffff04ff12ffff04ff2fff808080ffff04ffff04ff10ffff04ff05ffff04ffff0bff5fff81bf80ff80808080ff808080808080ff0180ff018080ffff04ffff01a087908e3f85bf4b55c7e7709915c2ce97a1e6ec1d227e54a04dbfee6862d546a5ffff04ffff01b0aba7ed288dd79189bec34698a3437fa7a45f801596d397a4f70081a0956dcdbe998388bfa758f4d49fa421ce3850a6d8ffff04ffff01b0b01da35fe872b5c9c342d2a3ac6dfbe800eaf35c687a512a172d329f3bd10a83e675018a90a36178c81c0687b49d167fffff04ffff01a06b95688d081271b4f2466a3fd0301cefb62c33712d09e6a0b43e05257eb3ad52ffff04ffff018600e8d4a51000ffff04ffff018601d1a94a2001ff0180808080808080\",\n",
      "            \"solution\": \"0xffa024658905e1bde4e544d5322ae6629803307d640133dc3c382854f8d62e2fbb62ffa0e9c900365fd7fe593816f6b7bb2e7bba4b04e65fc45bf0e4a5576dba96df3bce80\"\n",
      "        }\n",
      "    ]\n",
      "}\n"
     ]
    }
   ],
   "source": [
    "from chia.types.spend_bundle import SpendBundle\n",
    "from chia.util.hash import std_hash\n",
    "\n",
    "message: bytes = std_hash(launcher_id + singleton_puzzle.get_tree_hash())\n",
    "sig_alice_spend: G2Element = AugSchemeMPL.sign(\n",
    "    alice_sk,\n",
    "    message\n",
    "    + alice_waiting_room_coin.name()\n",
    "    + DEFAULT_CONSTANTS.AGG_SIG_ME_ADDITIONAL_DATA\n",
    ")\n",
    "spend_bundle = SpendBundle([\n",
    "        launcher_coin_spend,\n",
    "        alice_waiting_room_coin_spend,\n",
    "        bob_waiting_room_coin_spend\n",
    "    ],\n",
    "    sig_alice_spend\n",
    ")\n",
    "print_json(spend_bundle.to_json_dict(include_legacy_keys = False, exclude_modern_keys = False))"
   ]
  },
  {
   "cell_type": "markdown",
   "id": "4e4869ab-215e-4b89-ab00-2b092aea5e8a",
   "metadata": {},
   "source": [
    "### 3.6 Spend Waiting Room & Launcher Coins"
   ]
  },
  {
   "cell_type": "code",
   "execution_count": 20,
   "id": "925d93b3-36a0-4441-abd9-88e1a99d57f0",
   "metadata": {},
   "outputs": [
    {
     "name": "stdout",
     "output_type": "stream",
     "text": [
      "additions:\n",
      "==========\n",
      "Coin { parent_coin_info: 24658905e1bde4e544d5322ae6629803307d640133dc3c382854f8d62e2fbb62, puzzle_hash: e9c900365fd7fe593816f6b7bb2e7bba4b04e65fc45bf0e4a5576dba96df3bce, amount: 2000000000001 }\n",
      "Coin { parent_coin_info: 6b95688d081271b4f2466a3fd0301cefb62c33712d09e6a0b43e05257eb3ad52, puzzle_hash: eff07522495060c066f66f32acc2a77e3a3e737aca8baea4d1a64ea4cdc13da9, amount: 2000000000001 }\n",
      "removals:\n",
      "=========\n",
      "Coin { parent_coin_info: 6b95688d081271b4f2466a3fd0301cefb62c33712d09e6a0b43e05257eb3ad52, puzzle_hash: eff07522495060c066f66f32acc2a77e3a3e737aca8baea4d1a64ea4cdc13da9, amount: 2000000000001 }\n",
      "Coin { parent_coin_info: 12d7b8c1654f82f2330059abc28e3240e863450706de7fdc518026f393f68bba, puzzle_hash: e690bf9dea6880c75cd64a7ff22fefa727597190cdbbee2663e0af7e1b5d129b, amount: 1000000000001 }\n",
      "Coin { parent_coin_info: 17ca02c0a209d7e1a3869442ba13ef9468181c4b095b8823aeaf3c27f8e58c34, puzzle_hash: 0fdc47b8db534c7168295bb5f21235aff4410e16173ac1467b086ee8cac58ba0, amount: 1000000000000 }\n"
     ]
    }
   ],
   "source": [
    "result = await network.push_tx(spend_bundle)\n",
    "print_push_tx_result(result)"
   ]
  },
  {
   "cell_type": "code",
   "execution_count": 21,
   "id": "882357e7-282b-4138-9f36-ce75f946a9b0",
   "metadata": {},
   "outputs": [],
   "source": [
    "async def sim_play(prev_coin_spend, sk, board, player, position):\n",
    "    network.sim.pass_blocks(1)\n",
    "\n",
    "    lineage_proof = singleton_top_layer_v1_1.lineage_proof_for_coinsol(prev_coin_spend)\n",
    " \n",
    "    curried_coin_puzzle = get_coin_puzzle(board, player)\n",
    "    singleton_struct = (\n",
    "        singleton_top_layer_v1_1.SINGLETON_MOD_HASH, \n",
    "        (launcher_id, singleton_top_layer_v1_1.SINGLETON_LAUNCHER_HASH)\n",
    "    )\n",
    "\n",
    "    singleton_puzzle = singleton_top_layer_v1_1.SINGLETON_MOD.curry(\n",
    "                singleton_struct,\n",
    "                curried_coin_puzzle,\n",
    "    )\n",
    "\n",
    "    singleton_coin = await singleton_utils.get_unspent_singleton(\n",
    "        get_coin_records_by_parent_ids, \n",
    "        launcher_id)\n",
    "    \n",
    "    curried_tic_tac_toe_puzzle = tic_tac_toe.get_curried_puzzle_from_curried_coin_puzzle(curried_coin_puzzle)\n",
    "    board_state, new_board = tic_tac_toe.play(curried_tic_tac_toe_puzzle, position)\n",
    "    tic_tac_toe.print_board(new_board)\n",
    "\n",
    "    coin_message = (\n",
    "        std_hash(int_to_bytes(position))\n",
    "        + singleton_coin.name()\n",
    "        + DEFAULT_CONSTANTS.AGG_SIG_ME_ADDITIONAL_DATA\n",
    "    )\n",
    "\n",
    "    # sign with sk\n",
    "    signature: G2Element = AugSchemeMPL.sign(\n",
    "        sk,\n",
    "        coin_message\n",
    "    )\n",
    "    \n",
    "    inner_solution = Program.to([position]) # position\n",
    "    coin_spend = singleton_utils.get_singleton_coin_spend(\n",
    "        singleton_coin, singleton_puzzle, lineage_proof,\n",
    "        inner_solution\n",
    "    )\n",
    "\n",
    "    #print(f'singleton_coin:\\n{singleton_coin}')\n",
    "    #print(f'\\nlineage_proof:\\n{lineage_proof}')\n",
    "    #print(f'\\ninner_solution:\\n{inner_solution}')\n",
    "    #print(f'\\nsingleton_puzzle:\\n{singleton_puzzle.get_tree_hash()}')\n",
    "\n",
    "    #print('\\ncoin_spend:')\n",
    "    #print_json(coin_spend.to_json_dict())\n",
    "\n",
    "    spend_bundle = SpendBundle([coin_spend], signature)\n",
    "    #print_json(spend_bundle.to_json_dict())\n",
    "    result = await network.push_tx(spend_bundle)\n",
    "    print_push_tx_result(result)\n",
    "    next_player = 'x' if player == 'o' else 'o'\n",
    "    return new_board, next_player, coin_spend"
   ]
  },
  {
   "cell_type": "markdown",
   "id": "cc97353e-d21b-41af-b3e4-5686f2d70c7e",
   "metadata": {},
   "source": [
    "## 4. Simulate Winning Board\n",
    "1. Start with empty board.\n",
    "2. Alice (`x`) plays first.\n",
    "3. Bob (`o`) and Alice (`x`) take turn until Alice wins."
   ]
  },
  {
   "cell_type": "code",
   "execution_count": 22,
   "id": "a708b4f5-057e-44fc-b5a8-623fe9884646",
   "metadata": {},
   "outputs": [
    {
     "name": "stdout",
     "output_type": "stream",
     "text": [
      "   |   |   \n",
      "---+---+---\n",
      "   | x |   \n",
      "---+---+---\n",
      "   |   |   \n",
      "\n",
      "additions:\n",
      "==========\n",
      "Coin { parent_coin_info: 79b7aaa318044a80ced7891fa6b8a0cc70e829ce73f04b8db11c29af7da50c67, puzzle_hash: 63d201d68ec302b4d15945c9a169fe397ab6aaf294b33f32c779f902dc295a14, amount: 2000000000001 }\n",
      "removals:\n",
      "=========\n",
      "Coin { parent_coin_info: 24658905e1bde4e544d5322ae6629803307d640133dc3c382854f8d62e2fbb62, puzzle_hash: e9c900365fd7fe593816f6b7bb2e7bba4b04e65fc45bf0e4a5576dba96df3bce, amount: 2000000000001 }\n",
      " o |   |   \n",
      "---+---+---\n",
      "   | x |   \n",
      "---+---+---\n",
      "   |   |   \n",
      "\n",
      "additions:\n",
      "==========\n",
      "Coin { parent_coin_info: 6b39e594a274d90c1d0504e987ed90c29a666fb611aef6bb653c8b669032574b, puzzle_hash: d55ecabeaaceed112d51f8e03e9837e52b4e3da12a508bf5d663e6e557079f8e, amount: 2000000000001 }\n",
      "removals:\n",
      "=========\n",
      "Coin { parent_coin_info: 79b7aaa318044a80ced7891fa6b8a0cc70e829ce73f04b8db11c29af7da50c67, puzzle_hash: 63d201d68ec302b4d15945c9a169fe397ab6aaf294b33f32c779f902dc295a14, amount: 2000000000001 }\n",
      " o |   |   \n",
      "---+---+---\n",
      " x | x |   \n",
      "---+---+---\n",
      "   |   |   \n",
      "\n",
      "additions:\n",
      "==========\n",
      "Coin { parent_coin_info: 6036aa4a771612b0453224a812561a06b2a41130c1150e1e3f28ff6a97bacfd4, puzzle_hash: 42ec930745f7378ddcae4983f689b3315419ea438ece92dd1689b135c66c221c, amount: 2000000000001 }\n",
      "removals:\n",
      "=========\n",
      "Coin { parent_coin_info: 6b39e594a274d90c1d0504e987ed90c29a666fb611aef6bb653c8b669032574b, puzzle_hash: d55ecabeaaceed112d51f8e03e9837e52b4e3da12a508bf5d663e6e557079f8e, amount: 2000000000001 }\n",
      " o | o |   \n",
      "---+---+---\n",
      " x | x |   \n",
      "---+---+---\n",
      "   |   |   \n",
      "\n",
      "additions:\n",
      "==========\n",
      "Coin { parent_coin_info: 4eab5a7d4239441a5a288782565eb06beee963d40731c11cd37fd50889ec8aeb, puzzle_hash: e995bbda49c463a24d8258dbf1a6100515fabad7183434e977a1f26c73bfe6f7, amount: 2000000000001 }\n",
      "removals:\n",
      "=========\n",
      "Coin { parent_coin_info: 6036aa4a771612b0453224a812561a06b2a41130c1150e1e3f28ff6a97bacfd4, puzzle_hash: 42ec930745f7378ddcae4983f689b3315419ea438ece92dd1689b135c66c221c, amount: 2000000000001 }\n",
      " o | o |   \n",
      "---+---+---\n",
      " x | x | x \n",
      "---+---+---\n",
      "   |   |   \n",
      "\n",
      "additions:\n",
      "==========\n",
      "Coin { parent_coin_info: cf7769b351016a00e50266088222573d0aed304756501f5a9fa231b25f864def, puzzle_hash: 4f45877796d7a64e192bcc9f899afeedae391f71af3afd7e15a0792c049d23d3, amount: 1999900000000 }\n",
      "removals:\n",
      "=========\n",
      "Coin { parent_coin_info: 4eab5a7d4239441a5a288782565eb06beee963d40731c11cd37fd50889ec8aeb, puzzle_hash: e995bbda49c463a24d8258dbf1a6100515fabad7183434e977a1f26c73bfe6f7, amount: 2000000000001 }\n"
     ]
    }
   ],
   "source": [
    "board = [' '] * 9\n",
    "player = 'x'\n",
    "board, player, coin_spend = await sim_play(launcher_coin_spend, alice.sk_, board, player, 4)\n",
    "board, player, coin_spend = await sim_play(coin_spend, bob.sk_, board, player, 0)\n",
    "board, player, coin_spend = await sim_play(coin_spend, alice.sk_, board, player, 3)\n",
    "board, player, coin_spend = await sim_play(coin_spend, bob.sk_, board, player, 1)\n",
    "board, player, coin_spend = await sim_play(coin_spend, alice.sk_, board, player, 5)"
   ]
  }
 ],
 "metadata": {
  "kernelspec": {
   "display_name": "Python 3 (ipykernel)",
   "language": "python",
   "name": "python3"
  },
  "language_info": {
   "codemirror_mode": {
    "name": "ipython",
    "version": 3
   },
   "file_extension": ".py",
   "mimetype": "text/x-python",
   "name": "python",
   "nbconvert_exporter": "python",
   "pygments_lexer": "ipython3",
   "version": "3.10.7"
  }
 },
 "nbformat": 4,
 "nbformat_minor": 5
}
