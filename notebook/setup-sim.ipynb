{
 "cells": [
  {
   "cell_type": "code",
   "execution_count": 1,
   "id": "53292b94-bcad-4ffa-9fb5-b8230d96b1a4",
   "metadata": {},
   "outputs": [
    {
     "name": "stdout",
     "output_type": "stream",
     "text": [
      "CHIA_KEYS_ROOT=~/.chia_keys_sim_tic-tac-toe\n",
      "CHIA_ROOT=~/.chia/simulator/tic-tac-toe\n"
     ]
    }
   ],
   "source": [
    "%%bash\n",
    "printenv | grep CHIA"
   ]
  },
  {
   "cell_type": "markdown",
   "id": "17851b36-39d0-48b5-89a8-11ca287065d8",
   "metadata": {},
   "source": [
    "# Set Up Chia Simulator"
   ]
  },
  {
   "cell_type": "code",
   "execution_count": 3,
   "id": "fd5e3bae-6260-4553-a022-4cb8d6f16c6c",
   "metadata": {},
   "outputs": [
    {
     "name": "stdout",
     "output_type": "stream",
     "text": [
      "Network: simulator0    Port: 48577   RPC Port: 18422\n",
      "Node ID: 38401aad891c6ecd90a91150989b51e9c86d844e07387ed77338beda85b199e7\n",
      "Genesis Challenge: eb8c4d20b322be8d9fddbf9412016bdffe9a2901d7edb0e364e94266d0e095f7\n",
      "Current Blockchain Status: Full Node Synced\n",
      "\n",
      "Peak: Hash: 802d397f4c91d8ab74b9ad7d470b14b2db0eb93b8fc2f1733cb34d2765f1bce2\n",
      "      Time: Mon Sep 26 2022 16:57:08 +07                  Height:          3\n",
      "\n",
      "Estimated network space: 29.298 MiB\n",
      "Current difficulty: 1024\n",
      "Current VDF sub_slot_iters: 1024\n",
      "\n",
      "  Height: |   Hash:\n",
      "        3 | 802d397f4c91d8ab74b9ad7d470b14b2db0eb93b8fc2f1733cb34d2765f1bce2\n",
      "        2 | 1eef946c9154e000587facb15732114d1d029c4b294553bd1cb25db36ef28163\n",
      "        1 | 742bd7a0408ef45eb697f9aa84d5a5145e789924ce24690867acbddf79a5bc69\n"
     ]
    }
   ],
   "source": [
    "%%bash\n",
    "# cdv sim -n tic-tac-toe create --auto-farm true --plot-directory ~/.chia/simulator/plots-tic-tac-toe\n",
    "# cdv sim -n tic-tac-toe start -w\n",
    "# ps -ax | grep chia_\n",
    "# chia keys generate -l alice\n",
    "# chia keys generate -l bob\n",
    "# cdv sim -n tic-tac-toe farm -a 'txch1...' # to alice \n",
    "# cdv sim -n tic-tac-toe farm -a 'txch1...' # to bob\n",
    "chia show -s"
   ]
  },
  {
   "cell_type": "code",
   "execution_count": 4,
   "id": "2ea4856d-e296-4648-9604-7a00c80fb211",
   "metadata": {},
   "outputs": [
    {
     "name": "stdout",
     "output_type": "stream",
     "text": [
      "Fingerprint: 1461157750\n",
      "Fingerprint: 4070016934\n",
      "Fingerprint: 861183802\n"
     ]
    }
   ],
   "source": [
    "%%bash\n",
    "chia keys show | grep Fingerprint"
   ]
  },
  {
   "cell_type": "code",
   "execution_count": 15,
   "id": "0545b633-68e8-4cc7-8f84-c06b5ce975a6",
   "metadata": {},
   "outputs": [
    {
     "name": "stdout",
     "output_type": "stream",
     "text": [
      "Wallet height: 4\n",
      "Sync status: Synced\n",
      "Balances, fingerprint: 4070016934\n",
      "\n",
      "Chia Wallet:\n",
      "   -Total Balance:         2.0 txch (2000000000000 mojo)\n",
      "   -Pending Total Balance: 2.0 txch (2000000000000 mojo)\n",
      "   -Spendable:             2.0 txch (2000000000000 mojo)\n",
      "   -Type:                  STANDARD_WALLET\n",
      "   -Wallet ID:             1\n",
      " \n",
      "Connections:\n",
      "Type      IP                                      Ports       NodeID      Last Connect      MiB Up|Dwn\n",
      "FULL_NODE 127.0.0.1                               48577/48577 38401aad... Sep 26 17:17:25      0.0|0.0    \n",
      "                                                  -Height: No Info    -Hash: No Info    -Trusted: True\n"
     ]
    }
   ],
   "source": [
    "%%bash\n",
    "chia wallet show -f 4070016934 # alice"
   ]
  },
  {
   "cell_type": "code",
   "execution_count": 17,
   "id": "f9d68234-4d47-4925-b200-86042461b323",
   "metadata": {},
   "outputs": [
    {
     "name": "stdout",
     "output_type": "stream",
     "text": [
      "Wallet height: 4\n",
      "Sync status: Synced\n",
      "Balances, fingerprint: 861183802\n",
      "\n",
      "Chia Wallet:\n",
      "   -Total Balance:         2.0 txch (2000000000000 mojo)\n",
      "   -Pending Total Balance: 2.0 txch (2000000000000 mojo)\n",
      "   -Spendable:             2.0 txch (2000000000000 mojo)\n",
      "   -Type:                  STANDARD_WALLET\n",
      "   -Wallet ID:             1\n",
      " \n",
      "Connections:\n",
      "Type      IP                                      Ports       NodeID      Last Connect      MiB Up|Dwn\n",
      "FULL_NODE 127.0.0.1                               48577/48577 38401aad... Sep 26 17:18:04      0.1|0.1    \n",
      "                                                  -Height: No Info    -Hash: No Info    -Trusted: True\n"
     ]
    }
   ],
   "source": [
    "%%bash\n",
    "chia wallet show -f 861183802 # bob"
   ]
  },
  {
   "cell_type": "code",
   "execution_count": 20,
   "id": "d09a2e23-d465-4e53-ab40-9240b66e77ca",
   "metadata": {},
   "outputs": [
    {
     "name": "stdout",
     "output_type": "stream",
     "text": [
      "4\n"
     ]
    }
   ],
   "source": [
    "%%bash\n",
    "chia rpc full_node get_blockchain_state | jq \".blockchain_state.peak.height\""
   ]
  },
  {
   "cell_type": "code",
   "execution_count": 48,
   "id": "11f6bc20-2c48-483e-9e61-eab1056ed52f",
   "metadata": {},
   "outputs": [
    {
     "name": "stdout",
     "output_type": "stream",
     "text": [
      "alice\n",
      "=====\n",
      "Wallet address 0 (m/12381/8444/2/0): txch16ggtjnsurypjr46wdraxj75d50wwtprthtuly7pm5dzugvgjxwrshv25y4\n",
      "Wallet public key 0 (m/12381/8444/2/0): 96f75bf45d09491e8a5adaedbdb458f6ac46d9b6507a788fe58349f6eb2a56bfbc72bdd70a09eceb060b552f10fb1010\n",
      "Wallet private key 0 (m/12381/8444/2/0): 67959bf0ade73bc2aa69cab59d0aa1fded890696f178393f7740b330a808f7c6\n",
      "\n",
      "bob\n",
      "===\n",
      "Wallet address 0 (m/12381/8444/2/0): txch18tzzkuvapv6g09c568nqzuslpzarz7rz6ggclgt25l5t7xsev4asyy7g5y\n",
      "Wallet public key 0 (m/12381/8444/2/0): b1bc8cb3442693d6093df74dc975f81b74ac1438290341a13feb94af6f08fd613fcd509abb773612b5fe68851b56f64a\n",
      "Wallet private key 0 (m/12381/8444/2/0): 3970b4eda62c9c650288b612dcdb205d5f5c7c9aed84455c1606573c0604ee26\n"
     ]
    }
   ],
   "source": [
    "%%bash\n",
    "echo 'alice'\n",
    "echo '====='\n",
    "chia keys derive -f 4070016934 wallet-address -i 0 --show-hd-path\n",
    "chia keys derive -f 4070016934 child-key -t wallet -i 0 --show-hd-path --show-private-keys\n",
    "echo ''\n",
    "echo 'bob'\n",
    "echo '==='\n",
    "chia keys derive -f 861183802 wallet-address -i 0 --show-hd-path\n",
    "chia keys derive -f 861183802 child-key -t wallet -i 0 --show-hd-path --show-private-keys"
   ]
  },
  {
   "cell_type": "code",
   "execution_count": 19,
   "id": "f747719b-b082-4266-ac13-e88c2430c704",
   "metadata": {},
   "outputs": [
    {
     "name": "stdout",
     "output_type": "stream",
     "text": [
      "d210b94e1c190321d74e68fa697a8da3dce5846bbaf9f2783ba345c431123387\n",
      "3ac42b719d0b34879714d1e601721f08ba317862d2118fa16aa7e8bf1a19657b\n"
     ]
    }
   ],
   "source": [
    "%%bash\n",
    "cdv decode txch16ggtjnsurypjr46wdraxj75d50wwtprthtuly7pm5dzugvgjxwrshv25y4\n",
    "cdv decode txch18tzzkuvapv6g09c568nqzuslpzarz7rz6ggclgt25l5t7xsev4asyy7g5y"
   ]
  },
  {
   "cell_type": "code",
   "execution_count": 45,
   "id": "6ac46892-428b-4d73-8b28-7310bd2e67c9",
   "metadata": {},
   "outputs": [
    {
     "name": "stdout",
     "output_type": "stream",
     "text": [
      "7\n",
      "3\n",
      "All transactions in Block: 7 and above were successfully deleted, you should now delete & restart all wallets.\n",
      "Block Height is now: 4\n"
     ]
    }
   ],
   "source": [
    "%%bash\n",
    "CUR_HEIGHT=$(chia rpc full_node get_blockchain_state | jq \".blockchain_state.peak.height\")\n",
    "echo $CUR_HEIGHT\n",
    "echo $((CUR_HEIGHT-4))\n",
    "cdv sim -n tic-tac-toe revert -fd --blocks $((CUR_HEIGHT-4))"
   ]
  }
 ],
 "metadata": {
  "kernelspec": {
   "display_name": "Python 3 (ipykernel)",
   "language": "python",
   "name": "python3"
  },
  "language_info": {
   "codemirror_mode": {
    "name": "ipython",
    "version": 3
   },
   "file_extension": ".py",
   "mimetype": "text/x-python",
   "name": "python",
   "nbconvert_exporter": "python",
   "pygments_lexer": "ipython3",
   "version": "3.10.6"
  }
 },
 "nbformat": 4,
 "nbformat_minor": 5
}
