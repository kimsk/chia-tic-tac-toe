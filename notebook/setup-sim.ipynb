{
 "cells": [
  {
   "cell_type": "code",
   "execution_count": null,
   "id": "53292b94-bcad-4ffa-9fb5-b8230d96b1a4",
   "metadata": {},
   "outputs": [],
   "source": [
    "%%bash\n",
    "printenv | grep CHIA"
   ]
  },
  {
   "cell_type": "markdown",
   "id": "17851b36-39d0-48b5-89a8-11ca287065d8",
   "metadata": {},
   "source": [
    "# Set Up Chia Simulator"
   ]
  },
  {
   "cell_type": "code",
   "execution_count": null,
   "id": "fd5e3bae-6260-4553-a022-4cb8d6f16c6c",
   "metadata": {},
   "outputs": [],
   "source": [
    "%%bash\n",
    "# cdv sim -n tic-tac-toe create --auto-farm true --plot-directory ~/.chia/simulator/plots-tic-tac-toe\n",
    "# cdv sim -n tic-tac-toe start -w\n",
    "# ps -ax | grep chia_\n",
    "# chia keys generate -l alice\n",
    "# chia keys generate -l bob\n",
    "# cdv sim -n tic-tac-toe farm -a 'txch1...' # to alice \n",
    "# cdv sim -n tic-tac-toe farm -a 'txch1...' # to bob\n",
    "chia show -s"
   ]
  },
  {
   "cell_type": "code",
   "execution_count": null,
   "id": "2ea4856d-e296-4648-9604-7a00c80fb211",
   "metadata": {},
   "outputs": [],
   "source": [
    "%%bash\n",
    "chia keys show | grep Fingerprint"
   ]
  },
  {
   "cell_type": "code",
   "execution_count": null,
   "id": "0545b633-68e8-4cc7-8f84-c06b5ce975a6",
   "metadata": {},
   "outputs": [],
   "source": [
    "%%bash\n",
    "chia wallet show -f 4070016934 # alice"
   ]
  },
  {
   "cell_type": "code",
   "execution_count": null,
   "id": "f9d68234-4d47-4925-b200-86042461b323",
   "metadata": {},
   "outputs": [],
   "source": [
    "%%bash\n",
    "chia wallet show -f 861183802 # bob"
   ]
  },
  {
   "cell_type": "code",
   "execution_count": null,
   "id": "d09a2e23-d465-4e53-ab40-9240b66e77ca",
   "metadata": {},
   "outputs": [],
   "source": [
    "%%bash\n",
    "chia rpc full_node get_blockchain_state | jq \".blockchain_state.peak.height\""
   ]
  },
  {
   "cell_type": "code",
   "execution_count": 10,
   "id": "11f6bc20-2c48-483e-9e61-eab1056ed52f",
   "metadata": {},
   "outputs": [
    {
     "name": "stdout",
     "output_type": "stream",
     "text": [
      "alice\n",
      "=====\n",
      "Wallet address 0 (m/12381/8444/2/0): txch16ggtjnsurypjr46wdraxj75d50wwtprthtuly7pm5dzugvgjxwrshv25y4\n",
      "Wallet public key 0 (m/12381/8444/2/0): 96f75bf45d09491e8a5adaedbdb458f6ac46d9b6507a788fe58349f6eb2a56bfbc72bdd70a09eceb060b552f10fb1010\n",
      "Wallet private key 0 (m/12381/8444/2/0): 67959bf0ade73bc2aa69cab59d0aa1fded890696f178393f7740b330a808f7c6\n",
      "\n",
      "bob\n",
      "===\n",
      "Wallet address 0 (m/12381/8444/2/0): txch18tzzkuvapv6g09c568nqzuslpzarz7rz6ggclgt25l5t7xsev4asyy7g5y\n",
      "Wallet public key 0 (m/12381/8444/2/0): b1bc8cb3442693d6093df74dc975f81b74ac1438290341a13feb94af6f08fd613fcd509abb773612b5fe68851b56f64a\n",
      "Wallet private key 0 (m/12381/8444/2/0): 3970b4eda62c9c650288b612dcdb205d5f5c7c9aed84455c1606573c0604ee26\n"
     ]
    }
   ],
   "source": [
    "%%bash\n",
    "echo 'alice'\n",
    "echo '====='\n",
    "chia keys derive -f 4070016934 wallet-address -i 0 --show-hd-path\n",
    "chia keys derive -f 4070016934 child-key -t wallet -i 0 --show-hd-path --show-private-keys\n",
    "echo ''\n",
    "echo 'bob'\n",
    "echo '==='\n",
    "chia keys derive -f 861183802 wallet-address -i 0 --show-hd-path\n",
    "chia keys derive -f 861183802 child-key -t wallet -i 0 --show-hd-path --show-private-keys"
   ]
  },
  {
   "cell_type": "code",
   "execution_count": 1,
   "id": "f747719b-b082-4266-ac13-e88c2430c704",
   "metadata": {},
   "outputs": [
    {
     "name": "stdout",
     "output_type": "stream",
     "text": [
      "d210b94e1c190321d74e68fa697a8da3dce5846bbaf9f2783ba345c431123387\n",
      "3ac42b719d0b34879714d1e601721f08ba317862d2118fa16aa7e8bf1a19657b\n"
     ]
    }
   ],
   "source": [
    "%%bash\n",
    "cdv decode txch16ggtjnsurypjr46wdraxj75d50wwtprthtuly7pm5dzugvgjxwrshv25y4\n",
    "cdv decode txch18tzzkuvapv6g09c568nqzuslpzarz7rz6ggclgt25l5t7xsev4asyy7g5y"
   ]
  },
  {
   "cell_type": "markdown",
   "id": "c4d9b4f9-70c3-4b8d-81bf-e47db881840f",
   "metadata": {},
   "source": [
    "# Block Height 4 (Alice and Bob have 2 XCH each)"
   ]
  },
  {
   "cell_type": "code",
   "execution_count": 1,
   "id": "4818951b-9dd3-4444-8414-e44d332c9d92",
   "metadata": {},
   "outputs": [
    {
     "name": "stdout",
     "output_type": "stream",
     "text": [
      "7\n",
      "3\n",
      "All transactions in Block: 7 and above were successfully deleted, you should now delete & restart all wallets.\n",
      "Block Height is now: 4\n"
     ]
    }
   ],
   "source": [
    "%%bash\n",
    "CUR_HEIGHT=$(chia rpc full_node get_blockchain_state | jq \".blockchain_state.peak.height\")\n",
    "echo $CUR_HEIGHT\n",
    "echo $((CUR_HEIGHT-4))\n",
    "cdv sim -n tic-tac-toe revert -fd --blocks $((CUR_HEIGHT-4))"
   ]
  },
  {
   "cell_type": "markdown",
   "id": "f34cbc31-fdf0-493b-b9af-b3550b482dff",
   "metadata": {},
   "source": [
    "# Block Height 6 (Waiting Room Coins Created)"
   ]
  },
  {
   "cell_type": "code",
   "execution_count": null,
   "id": "9df85454-121a-4a1f-803f-2cd18cf892ce",
   "metadata": {},
   "outputs": [],
   "source": [
    "%%bash\n",
    "CUR_HEIGHT=$(chia rpc full_node get_blockchain_state | jq \".blockchain_state.peak.height\")\n",
    "echo $CUR_HEIGHT\n",
    "echo $((CUR_HEIGHT-6))\n",
    "cdv sim -n tic-tac-toe revert -fd --blocks $((CUR_HEIGHT-6))"
   ]
  }
 ],
 "metadata": {
  "kernelspec": {
   "display_name": "Python 3 (ipykernel)",
   "language": "python",
   "name": "python3"
  },
  "language_info": {
   "codemirror_mode": {
    "name": "ipython",
    "version": 3
   },
   "file_extension": ".py",
   "mimetype": "text/x-python",
   "name": "python",
   "nbconvert_exporter": "python",
   "pygments_lexer": "ipython3",
   "version": "3.10.6"
  }
 },
 "nbformat": 4,
 "nbformat_minor": 5
}
